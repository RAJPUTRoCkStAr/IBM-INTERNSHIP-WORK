{
 "cells": [
  {
   "cell_type": "code",
   "execution_count": 1,
   "id": "7f723482",
   "metadata": {
    "_cell_guid": "b1076dfc-b9ad-4769-8c92-a6c4dae69d19",
    "_uuid": "8f2839f25d086af736a60e9eeb907d3b93b6e0e5",
    "execution": {
     "iopub.execute_input": "2024-11-13T18:54:52.711777Z",
     "iopub.status.busy": "2024-11-13T18:54:52.711332Z",
     "iopub.status.idle": "2024-11-13T18:54:53.566436Z",
     "shell.execute_reply": "2024-11-13T18:54:53.565520Z"
    },
    "papermill": {
     "duration": 0.865042,
     "end_time": "2024-11-13T18:54:53.568803",
     "exception": false,
     "start_time": "2024-11-13T18:54:52.703761",
     "status": "completed"
    },
    "tags": []
   },
   "outputs": [],
   "source": [
    "import numpy as np \n",
    "import pandas as pd "
   ]
  },
  {
   "cell_type": "code",
   "execution_count": 2,
   "id": "973bb73e",
   "metadata": {
    "execution": {
     "iopub.execute_input": "2024-11-13T18:54:53.581197Z",
     "iopub.status.busy": "2024-11-13T18:54:53.580683Z",
     "iopub.status.idle": "2024-11-13T18:54:53.585625Z",
     "shell.execute_reply": "2024-11-13T18:54:53.584456Z"
    },
    "papermill": {
     "duration": 0.013314,
     "end_time": "2024-11-13T18:54:53.587634",
     "exception": false,
     "start_time": "2024-11-13T18:54:53.574320",
     "status": "completed"
    },
    "tags": []
   },
   "outputs": [],
   "source": [
    "url_data=\"/kaggle/input/mobile-device-usage-and-user-behavior-dataset/user_behavior_dataset.csv\""
   ]
  },
  {
   "cell_type": "code",
   "execution_count": 3,
   "id": "d2fbebe4",
   "metadata": {
    "execution": {
     "iopub.execute_input": "2024-11-13T18:54:53.599839Z",
     "iopub.status.busy": "2024-11-13T18:54:53.599485Z",
     "iopub.status.idle": "2024-11-13T18:54:53.645445Z",
     "shell.execute_reply": "2024-11-13T18:54:53.644249Z"
    },
    "papermill": {
     "duration": 0.05472,
     "end_time": "2024-11-13T18:54:53.647703",
     "exception": false,
     "start_time": "2024-11-13T18:54:53.592983",
     "status": "completed"
    },
    "tags": []
   },
   "outputs": [
    {
     "data": {
      "text/html": [
       "<div>\n",
       "<style scoped>\n",
       "    .dataframe tbody tr th:only-of-type {\n",
       "        vertical-align: middle;\n",
       "    }\n",
       "\n",
       "    .dataframe tbody tr th {\n",
       "        vertical-align: top;\n",
       "    }\n",
       "\n",
       "    .dataframe thead th {\n",
       "        text-align: right;\n",
       "    }\n",
       "</style>\n",
       "<table border=\"1\" class=\"dataframe\">\n",
       "  <thead>\n",
       "    <tr style=\"text-align: right;\">\n",
       "      <th></th>\n",
       "      <th>User ID</th>\n",
       "      <th>Device Model</th>\n",
       "      <th>Operating System</th>\n",
       "      <th>App Usage Time (min/day)</th>\n",
       "      <th>Screen On Time (hours/day)</th>\n",
       "      <th>Battery Drain (mAh/day)</th>\n",
       "      <th>Number of Apps Installed</th>\n",
       "      <th>Data Usage (MB/day)</th>\n",
       "      <th>Age</th>\n",
       "      <th>Gender</th>\n",
       "      <th>User Behavior Class</th>\n",
       "    </tr>\n",
       "  </thead>\n",
       "  <tbody>\n",
       "    <tr>\n",
       "      <th>63</th>\n",
       "      <td>64</td>\n",
       "      <td>Xiaomi Mi 11</td>\n",
       "      <td>Android</td>\n",
       "      <td>545</td>\n",
       "      <td>11.5</td>\n",
       "      <td>2911</td>\n",
       "      <td>87</td>\n",
       "      <td>1717</td>\n",
       "      <td>21</td>\n",
       "      <td>Female</td>\n",
       "      <td>5</td>\n",
       "    </tr>\n",
       "    <tr>\n",
       "      <th>472</th>\n",
       "      <td>473</td>\n",
       "      <td>Xiaomi Mi 11</td>\n",
       "      <td>Android</td>\n",
       "      <td>139</td>\n",
       "      <td>3.0</td>\n",
       "      <td>697</td>\n",
       "      <td>37</td>\n",
       "      <td>513</td>\n",
       "      <td>26</td>\n",
       "      <td>Female</td>\n",
       "      <td>2</td>\n",
       "    </tr>\n",
       "    <tr>\n",
       "      <th>37</th>\n",
       "      <td>38</td>\n",
       "      <td>Samsung Galaxy S21</td>\n",
       "      <td>Android</td>\n",
       "      <td>522</td>\n",
       "      <td>11.2</td>\n",
       "      <td>2808</td>\n",
       "      <td>93</td>\n",
       "      <td>2328</td>\n",
       "      <td>24</td>\n",
       "      <td>Male</td>\n",
       "      <td>5</td>\n",
       "    </tr>\n",
       "    <tr>\n",
       "      <th>603</th>\n",
       "      <td>604</td>\n",
       "      <td>OnePlus 9</td>\n",
       "      <td>Android</td>\n",
       "      <td>138</td>\n",
       "      <td>2.1</td>\n",
       "      <td>660</td>\n",
       "      <td>22</td>\n",
       "      <td>424</td>\n",
       "      <td>41</td>\n",
       "      <td>Female</td>\n",
       "      <td>2</td>\n",
       "    </tr>\n",
       "    <tr>\n",
       "      <th>176</th>\n",
       "      <td>177</td>\n",
       "      <td>Xiaomi Mi 11</td>\n",
       "      <td>Android</td>\n",
       "      <td>255</td>\n",
       "      <td>5.4</td>\n",
       "      <td>1738</td>\n",
       "      <td>42</td>\n",
       "      <td>826</td>\n",
       "      <td>21</td>\n",
       "      <td>Male</td>\n",
       "      <td>3</td>\n",
       "    </tr>\n",
       "  </tbody>\n",
       "</table>\n",
       "</div>"
      ],
      "text/plain": [
       "     User ID        Device Model Operating System  App Usage Time (min/day)  \\\n",
       "63        64        Xiaomi Mi 11          Android                       545   \n",
       "472      473        Xiaomi Mi 11          Android                       139   \n",
       "37        38  Samsung Galaxy S21          Android                       522   \n",
       "603      604           OnePlus 9          Android                       138   \n",
       "176      177        Xiaomi Mi 11          Android                       255   \n",
       "\n",
       "     Screen On Time (hours/day)  Battery Drain (mAh/day)  \\\n",
       "63                         11.5                     2911   \n",
       "472                         3.0                      697   \n",
       "37                         11.2                     2808   \n",
       "603                         2.1                      660   \n",
       "176                         5.4                     1738   \n",
       "\n",
       "     Number of Apps Installed  Data Usage (MB/day)  Age  Gender  \\\n",
       "63                         87                 1717   21  Female   \n",
       "472                        37                  513   26  Female   \n",
       "37                         93                 2328   24    Male   \n",
       "603                        22                  424   41  Female   \n",
       "176                        42                  826   21    Male   \n",
       "\n",
       "     User Behavior Class  \n",
       "63                     5  \n",
       "472                    2  \n",
       "37                     5  \n",
       "603                    2  \n",
       "176                    3  "
      ]
     },
     "execution_count": 3,
     "metadata": {},
     "output_type": "execute_result"
    }
   ],
   "source": [
    "df=pd.read_csv(url_data)\n",
    "df.sample(5)"
   ]
  },
  {
   "cell_type": "code",
   "execution_count": 4,
   "id": "4067df43",
   "metadata": {
    "execution": {
     "iopub.execute_input": "2024-11-13T18:54:53.660649Z",
     "iopub.status.busy": "2024-11-13T18:54:53.659989Z",
     "iopub.status.idle": "2024-11-13T18:54:53.683794Z",
     "shell.execute_reply": "2024-11-13T18:54:53.682497Z"
    },
    "papermill": {
     "duration": 0.033193,
     "end_time": "2024-11-13T18:54:53.686478",
     "exception": false,
     "start_time": "2024-11-13T18:54:53.653285",
     "status": "completed"
    },
    "tags": []
   },
   "outputs": [
    {
     "name": "stdout",
     "output_type": "stream",
     "text": [
      "<class 'pandas.core.frame.DataFrame'>\n",
      "RangeIndex: 700 entries, 0 to 699\n",
      "Data columns (total 11 columns):\n",
      " #   Column                      Non-Null Count  Dtype  \n",
      "---  ------                      --------------  -----  \n",
      " 0   User ID                     700 non-null    int64  \n",
      " 1   Device Model                700 non-null    object \n",
      " 2   Operating System            700 non-null    object \n",
      " 3   App Usage Time (min/day)    700 non-null    int64  \n",
      " 4   Screen On Time (hours/day)  700 non-null    float64\n",
      " 5   Battery Drain (mAh/day)     700 non-null    int64  \n",
      " 6   Number of Apps Installed    700 non-null    int64  \n",
      " 7   Data Usage (MB/day)         700 non-null    int64  \n",
      " 8   Age                         700 non-null    int64  \n",
      " 9   Gender                      700 non-null    object \n",
      " 10  User Behavior Class         700 non-null    int64  \n",
      "dtypes: float64(1), int64(7), object(3)\n",
      "memory usage: 60.3+ KB\n"
     ]
    }
   ],
   "source": [
    "df.info()"
   ]
  },
  {
   "cell_type": "code",
   "execution_count": 5,
   "id": "6d8366c3",
   "metadata": {
    "execution": {
     "iopub.execute_input": "2024-11-13T18:54:53.699476Z",
     "iopub.status.busy": "2024-11-13T18:54:53.699095Z",
     "iopub.status.idle": "2024-11-13T18:54:53.707735Z",
     "shell.execute_reply": "2024-11-13T18:54:53.706650Z"
    },
    "papermill": {
     "duration": 0.017521,
     "end_time": "2024-11-13T18:54:53.709826",
     "exception": false,
     "start_time": "2024-11-13T18:54:53.692305",
     "status": "completed"
    },
    "tags": []
   },
   "outputs": [
    {
     "data": {
      "text/plain": [
       "User ID                       0\n",
       "Device Model                  0\n",
       "Operating System              0\n",
       "App Usage Time (min/day)      0\n",
       "Screen On Time (hours/day)    0\n",
       "Battery Drain (mAh/day)       0\n",
       "Number of Apps Installed      0\n",
       "Data Usage (MB/day)           0\n",
       "Age                           0\n",
       "Gender                        0\n",
       "User Behavior Class           0\n",
       "dtype: int64"
      ]
     },
     "execution_count": 5,
     "metadata": {},
     "output_type": "execute_result"
    }
   ],
   "source": [
    "df.isnull().sum()"
   ]
  },
  {
   "cell_type": "code",
   "execution_count": 6,
   "id": "e6ff0ef5",
   "metadata": {
    "execution": {
     "iopub.execute_input": "2024-11-13T18:54:53.723856Z",
     "iopub.status.busy": "2024-11-13T18:54:53.723463Z",
     "iopub.status.idle": "2024-11-13T18:54:53.754414Z",
     "shell.execute_reply": "2024-11-13T18:54:53.753423Z"
    },
    "papermill": {
     "duration": 0.041138,
     "end_time": "2024-11-13T18:54:53.756797",
     "exception": false,
     "start_time": "2024-11-13T18:54:53.715659",
     "status": "completed"
    },
    "tags": []
   },
   "outputs": [
    {
     "data": {
      "text/html": [
       "<div>\n",
       "<style scoped>\n",
       "    .dataframe tbody tr th:only-of-type {\n",
       "        vertical-align: middle;\n",
       "    }\n",
       "\n",
       "    .dataframe tbody tr th {\n",
       "        vertical-align: top;\n",
       "    }\n",
       "\n",
       "    .dataframe thead th {\n",
       "        text-align: right;\n",
       "    }\n",
       "</style>\n",
       "<table border=\"1\" class=\"dataframe\">\n",
       "  <thead>\n",
       "    <tr style=\"text-align: right;\">\n",
       "      <th></th>\n",
       "      <th>User ID</th>\n",
       "      <th>App Usage Time (min/day)</th>\n",
       "      <th>Screen On Time (hours/day)</th>\n",
       "      <th>Battery Drain (mAh/day)</th>\n",
       "      <th>Number of Apps Installed</th>\n",
       "      <th>Data Usage (MB/day)</th>\n",
       "      <th>Age</th>\n",
       "      <th>User Behavior Class</th>\n",
       "    </tr>\n",
       "  </thead>\n",
       "  <tbody>\n",
       "    <tr>\n",
       "      <th>count</th>\n",
       "      <td>700.00000</td>\n",
       "      <td>700.000000</td>\n",
       "      <td>700.000000</td>\n",
       "      <td>700.000000</td>\n",
       "      <td>700.000000</td>\n",
       "      <td>700.000000</td>\n",
       "      <td>700.000000</td>\n",
       "      <td>700.000000</td>\n",
       "    </tr>\n",
       "    <tr>\n",
       "      <th>mean</th>\n",
       "      <td>350.50000</td>\n",
       "      <td>271.128571</td>\n",
       "      <td>5.272714</td>\n",
       "      <td>1525.158571</td>\n",
       "      <td>50.681429</td>\n",
       "      <td>929.742857</td>\n",
       "      <td>38.482857</td>\n",
       "      <td>2.990000</td>\n",
       "    </tr>\n",
       "    <tr>\n",
       "      <th>std</th>\n",
       "      <td>202.21688</td>\n",
       "      <td>177.199484</td>\n",
       "      <td>3.068584</td>\n",
       "      <td>819.136414</td>\n",
       "      <td>26.943324</td>\n",
       "      <td>640.451729</td>\n",
       "      <td>12.012916</td>\n",
       "      <td>1.401476</td>\n",
       "    </tr>\n",
       "    <tr>\n",
       "      <th>min</th>\n",
       "      <td>1.00000</td>\n",
       "      <td>30.000000</td>\n",
       "      <td>1.000000</td>\n",
       "      <td>302.000000</td>\n",
       "      <td>10.000000</td>\n",
       "      <td>102.000000</td>\n",
       "      <td>18.000000</td>\n",
       "      <td>1.000000</td>\n",
       "    </tr>\n",
       "    <tr>\n",
       "      <th>25%</th>\n",
       "      <td>175.75000</td>\n",
       "      <td>113.250000</td>\n",
       "      <td>2.500000</td>\n",
       "      <td>722.250000</td>\n",
       "      <td>26.000000</td>\n",
       "      <td>373.000000</td>\n",
       "      <td>28.000000</td>\n",
       "      <td>2.000000</td>\n",
       "    </tr>\n",
       "    <tr>\n",
       "      <th>50%</th>\n",
       "      <td>350.50000</td>\n",
       "      <td>227.500000</td>\n",
       "      <td>4.900000</td>\n",
       "      <td>1502.500000</td>\n",
       "      <td>49.000000</td>\n",
       "      <td>823.500000</td>\n",
       "      <td>38.000000</td>\n",
       "      <td>3.000000</td>\n",
       "    </tr>\n",
       "    <tr>\n",
       "      <th>75%</th>\n",
       "      <td>525.25000</td>\n",
       "      <td>434.250000</td>\n",
       "      <td>7.400000</td>\n",
       "      <td>2229.500000</td>\n",
       "      <td>74.000000</td>\n",
       "      <td>1341.000000</td>\n",
       "      <td>49.000000</td>\n",
       "      <td>4.000000</td>\n",
       "    </tr>\n",
       "    <tr>\n",
       "      <th>max</th>\n",
       "      <td>700.00000</td>\n",
       "      <td>598.000000</td>\n",
       "      <td>12.000000</td>\n",
       "      <td>2993.000000</td>\n",
       "      <td>99.000000</td>\n",
       "      <td>2497.000000</td>\n",
       "      <td>59.000000</td>\n",
       "      <td>5.000000</td>\n",
       "    </tr>\n",
       "  </tbody>\n",
       "</table>\n",
       "</div>"
      ],
      "text/plain": [
       "         User ID  App Usage Time (min/day)  Screen On Time (hours/day)  \\\n",
       "count  700.00000                700.000000                  700.000000   \n",
       "mean   350.50000                271.128571                    5.272714   \n",
       "std    202.21688                177.199484                    3.068584   \n",
       "min      1.00000                 30.000000                    1.000000   \n",
       "25%    175.75000                113.250000                    2.500000   \n",
       "50%    350.50000                227.500000                    4.900000   \n",
       "75%    525.25000                434.250000                    7.400000   \n",
       "max    700.00000                598.000000                   12.000000   \n",
       "\n",
       "       Battery Drain (mAh/day)  Number of Apps Installed  Data Usage (MB/day)  \\\n",
       "count               700.000000                700.000000           700.000000   \n",
       "mean               1525.158571                 50.681429           929.742857   \n",
       "std                 819.136414                 26.943324           640.451729   \n",
       "min                 302.000000                 10.000000           102.000000   \n",
       "25%                 722.250000                 26.000000           373.000000   \n",
       "50%                1502.500000                 49.000000           823.500000   \n",
       "75%                2229.500000                 74.000000          1341.000000   \n",
       "max                2993.000000                 99.000000          2497.000000   \n",
       "\n",
       "              Age  User Behavior Class  \n",
       "count  700.000000           700.000000  \n",
       "mean    38.482857             2.990000  \n",
       "std     12.012916             1.401476  \n",
       "min     18.000000             1.000000  \n",
       "25%     28.000000             2.000000  \n",
       "50%     38.000000             3.000000  \n",
       "75%     49.000000             4.000000  \n",
       "max     59.000000             5.000000  "
      ]
     },
     "execution_count": 6,
     "metadata": {},
     "output_type": "execute_result"
    }
   ],
   "source": [
    "df.describe()"
   ]
  },
  {
   "cell_type": "code",
   "execution_count": 7,
   "id": "e0102b91",
   "metadata": {
    "execution": {
     "iopub.execute_input": "2024-11-13T18:54:53.770978Z",
     "iopub.status.busy": "2024-11-13T18:54:53.770237Z",
     "iopub.status.idle": "2024-11-13T18:54:53.776865Z",
     "shell.execute_reply": "2024-11-13T18:54:53.776000Z"
    },
    "papermill": {
     "duration": 0.016097,
     "end_time": "2024-11-13T18:54:53.779007",
     "exception": false,
     "start_time": "2024-11-13T18:54:53.762910",
     "status": "completed"
    },
    "tags": []
   },
   "outputs": [
    {
     "data": {
      "text/plain": [
       "Index(['User ID', 'Device Model', 'Operating System',\n",
       "       'App Usage Time (min/day)', 'Screen On Time (hours/day)',\n",
       "       'Battery Drain (mAh/day)', 'Number of Apps Installed',\n",
       "       'Data Usage (MB/day)', 'Age', 'Gender', 'User Behavior Class'],\n",
       "      dtype='object')"
      ]
     },
     "execution_count": 7,
     "metadata": {},
     "output_type": "execute_result"
    }
   ],
   "source": [
    "df.columns"
   ]
  },
  {
   "cell_type": "code",
   "execution_count": 8,
   "id": "7e63676f",
   "metadata": {
    "execution": {
     "iopub.execute_input": "2024-11-13T18:54:53.792835Z",
     "iopub.status.busy": "2024-11-13T18:54:53.792457Z",
     "iopub.status.idle": "2024-11-13T18:54:53.806135Z",
     "shell.execute_reply": "2024-11-13T18:54:53.805207Z"
    },
    "papermill": {
     "duration": 0.023003,
     "end_time": "2024-11-13T18:54:53.808293",
     "exception": false,
     "start_time": "2024-11-13T18:54:53.785290",
     "status": "completed"
    },
    "tags": []
   },
   "outputs": [
    {
     "data": {
      "text/html": [
       "<div>\n",
       "<style scoped>\n",
       "    .dataframe tbody tr th:only-of-type {\n",
       "        vertical-align: middle;\n",
       "    }\n",
       "\n",
       "    .dataframe tbody tr th {\n",
       "        vertical-align: top;\n",
       "    }\n",
       "\n",
       "    .dataframe thead th {\n",
       "        text-align: right;\n",
       "    }\n",
       "</style>\n",
       "<table border=\"1\" class=\"dataframe\">\n",
       "  <thead>\n",
       "    <tr style=\"text-align: right;\">\n",
       "      <th></th>\n",
       "      <th>User ID</th>\n",
       "      <th>Device Model</th>\n",
       "      <th>Operating System</th>\n",
       "      <th>App Usage Time (min/day)</th>\n",
       "      <th>Screen On Time (hours/day)</th>\n",
       "      <th>Battery Drain (mAh/day)</th>\n",
       "      <th>Number of Apps Installed</th>\n",
       "      <th>Data Usage (MB/day)</th>\n",
       "      <th>Age</th>\n",
       "      <th>Gender</th>\n",
       "      <th>User Behavior Class</th>\n",
       "    </tr>\n",
       "  </thead>\n",
       "  <tbody>\n",
       "    <tr>\n",
       "      <th>0</th>\n",
       "      <td>1</td>\n",
       "      <td>Google Pixel 5</td>\n",
       "      <td>Android</td>\n",
       "      <td>393</td>\n",
       "      <td>6.4</td>\n",
       "      <td>1872</td>\n",
       "      <td>67</td>\n",
       "      <td>1122</td>\n",
       "      <td>40</td>\n",
       "      <td>Male</td>\n",
       "      <td>4</td>\n",
       "    </tr>\n",
       "    <tr>\n",
       "      <th>1</th>\n",
       "      <td>2</td>\n",
       "      <td>OnePlus 9</td>\n",
       "      <td>Android</td>\n",
       "      <td>268</td>\n",
       "      <td>4.7</td>\n",
       "      <td>1331</td>\n",
       "      <td>42</td>\n",
       "      <td>944</td>\n",
       "      <td>47</td>\n",
       "      <td>Female</td>\n",
       "      <td>3</td>\n",
       "    </tr>\n",
       "    <tr>\n",
       "      <th>2</th>\n",
       "      <td>3</td>\n",
       "      <td>Xiaomi Mi 11</td>\n",
       "      <td>Android</td>\n",
       "      <td>154</td>\n",
       "      <td>4.0</td>\n",
       "      <td>761</td>\n",
       "      <td>32</td>\n",
       "      <td>322</td>\n",
       "      <td>42</td>\n",
       "      <td>Male</td>\n",
       "      <td>2</td>\n",
       "    </tr>\n",
       "    <tr>\n",
       "      <th>3</th>\n",
       "      <td>4</td>\n",
       "      <td>Google Pixel 5</td>\n",
       "      <td>Android</td>\n",
       "      <td>239</td>\n",
       "      <td>4.8</td>\n",
       "      <td>1676</td>\n",
       "      <td>56</td>\n",
       "      <td>871</td>\n",
       "      <td>20</td>\n",
       "      <td>Male</td>\n",
       "      <td>3</td>\n",
       "    </tr>\n",
       "    <tr>\n",
       "      <th>4</th>\n",
       "      <td>5</td>\n",
       "      <td>iPhone 12</td>\n",
       "      <td>iOS</td>\n",
       "      <td>187</td>\n",
       "      <td>4.3</td>\n",
       "      <td>1367</td>\n",
       "      <td>58</td>\n",
       "      <td>988</td>\n",
       "      <td>31</td>\n",
       "      <td>Female</td>\n",
       "      <td>3</td>\n",
       "    </tr>\n",
       "  </tbody>\n",
       "</table>\n",
       "</div>"
      ],
      "text/plain": [
       "   User ID    Device Model Operating System  App Usage Time (min/day)  \\\n",
       "0        1  Google Pixel 5          Android                       393   \n",
       "1        2       OnePlus 9          Android                       268   \n",
       "2        3    Xiaomi Mi 11          Android                       154   \n",
       "3        4  Google Pixel 5          Android                       239   \n",
       "4        5       iPhone 12              iOS                       187   \n",
       "\n",
       "   Screen On Time (hours/day)  Battery Drain (mAh/day)  \\\n",
       "0                         6.4                     1872   \n",
       "1                         4.7                     1331   \n",
       "2                         4.0                      761   \n",
       "3                         4.8                     1676   \n",
       "4                         4.3                     1367   \n",
       "\n",
       "   Number of Apps Installed  Data Usage (MB/day)  Age  Gender  \\\n",
       "0                        67                 1122   40    Male   \n",
       "1                        42                  944   47  Female   \n",
       "2                        32                  322   42    Male   \n",
       "3                        56                  871   20    Male   \n",
       "4                        58                  988   31  Female   \n",
       "\n",
       "   User Behavior Class  \n",
       "0                    4  \n",
       "1                    3  \n",
       "2                    2  \n",
       "3                    3  \n",
       "4                    3  "
      ]
     },
     "execution_count": 8,
     "metadata": {},
     "output_type": "execute_result"
    }
   ],
   "source": [
    "df.head()"
   ]
  },
  {
   "cell_type": "code",
   "execution_count": 9,
   "id": "da4f8f68",
   "metadata": {
    "execution": {
     "iopub.execute_input": "2024-11-13T18:54:53.822908Z",
     "iopub.status.busy": "2024-11-13T18:54:53.822309Z",
     "iopub.status.idle": "2024-11-13T18:54:53.828971Z",
     "shell.execute_reply": "2024-11-13T18:54:53.828009Z"
    },
    "papermill": {
     "duration": 0.016549,
     "end_time": "2024-11-13T18:54:53.831274",
     "exception": false,
     "start_time": "2024-11-13T18:54:53.814725",
     "status": "completed"
    },
    "tags": []
   },
   "outputs": [
    {
     "data": {
      "text/plain": [
       "array(['Google Pixel 5', 'OnePlus 9', 'Xiaomi Mi 11', 'iPhone 12',\n",
       "       'Samsung Galaxy S21'], dtype=object)"
      ]
     },
     "execution_count": 9,
     "metadata": {},
     "output_type": "execute_result"
    }
   ],
   "source": [
    "df['Device Model'].unique()"
   ]
  },
  {
   "cell_type": "code",
   "execution_count": 10,
   "id": "92f69350",
   "metadata": {
    "execution": {
     "iopub.execute_input": "2024-11-13T18:54:53.845845Z",
     "iopub.status.busy": "2024-11-13T18:54:53.845500Z",
     "iopub.status.idle": "2024-11-13T18:54:53.852062Z",
     "shell.execute_reply": "2024-11-13T18:54:53.851011Z"
    },
    "papermill": {
     "duration": 0.016387,
     "end_time": "2024-11-13T18:54:53.854152",
     "exception": false,
     "start_time": "2024-11-13T18:54:53.837765",
     "status": "completed"
    },
    "tags": []
   },
   "outputs": [
    {
     "data": {
      "text/plain": [
       "array(['Android', 'iOS'], dtype=object)"
      ]
     },
     "execution_count": 10,
     "metadata": {},
     "output_type": "execute_result"
    }
   ],
   "source": [
    "df['Operating System'].unique() "
   ]
  },
  {
   "cell_type": "code",
   "execution_count": 11,
   "id": "4231d280",
   "metadata": {
    "execution": {
     "iopub.execute_input": "2024-11-13T18:54:53.869439Z",
     "iopub.status.busy": "2024-11-13T18:54:53.868703Z",
     "iopub.status.idle": "2024-11-13T18:54:55.812957Z",
     "shell.execute_reply": "2024-11-13T18:54:55.811634Z"
    },
    "papermill": {
     "duration": 1.954943,
     "end_time": "2024-11-13T18:54:55.815843",
     "exception": false,
     "start_time": "2024-11-13T18:54:53.860900",
     "status": "completed"
    },
    "tags": []
   },
   "outputs": [
    {
     "data": {
      "image/png": "[encoded data removed]",
      "text/plain": [
       "<Figure size 1000x400 with 1 Axes>"
      ]
     },
     "metadata": {},
     "output_type": "display_data"
    }
   ],
   "source": [
    "import matplotlib.pyplot as plt \n",
    "import seaborn as sns\n",
    "plt.figure(figsize=(10,4))\n",
    "sns.countplot(data=df, x='Device Model', palette='viridis')\n",
    "plt.title(\"Device Model Analysis\")\n",
    "plt.ylabel(\"Total Devices\")\n",
    "plt.xlabel(\"Model\")\n",
    "plt.show()"
   ]
  },
  {
   "cell_type": "code",
   "execution_count": 12,
   "id": "4f130849",
   "metadata": {
    "execution": {
     "iopub.execute_input": "2024-11-13T18:54:55.842315Z",
     "iopub.status.busy": "2024-11-13T18:54:55.840980Z",
     "iopub.status.idle": "2024-11-13T18:54:56.046519Z",
     "shell.execute_reply": "2024-11-13T18:54:56.045434Z"
    },
    "papermill": {
     "duration": 0.221491,
     "end_time": "2024-11-13T18:54:56.049277",
     "exception": false,
     "start_time": "2024-11-13T18:54:55.827786",
     "status": "completed"
    },
    "tags": []
   },
   "outputs": [
    {
     "data": {
      "image/png": "[encoded data removed]",
      "text/plain": [
       "<Figure size 640x480 with 1 Axes>"
      ]
     },
     "metadata": {},
     "output_type": "display_data"
    }
   ],
   "source": [
    "sns.countplot(data=df, x='Operating System', palette='viridis')\n",
    "plt.title(\"Operating System Analysis\")\n",
    "plt.ylabel(\"Total Devices\")\n",
    "plt.xlabel(\"Operating System\")\n",
    "plt.show()"
   ]
  },
  {
   "cell_type": "code",
   "execution_count": 13,
   "id": "53ca72f6",
   "metadata": {
    "execution": {
     "iopub.execute_input": "2024-11-13T18:54:56.071812Z",
     "iopub.status.busy": "2024-11-13T18:54:56.071309Z",
     "iopub.status.idle": "2024-11-13T18:54:56.297132Z",
     "shell.execute_reply": "2024-11-13T18:54:56.295973Z"
    },
    "papermill": {
     "duration": 0.238476,
     "end_time": "2024-11-13T18:54:56.300115",
     "exception": false,
     "start_time": "2024-11-13T18:54:56.061639",
     "status": "completed"
    },
    "tags": []
   },
   "outputs": [
    {
     "data": {
      "image/png": "[encoded data removed]",
      "text/plain": [
       "<Figure size 1000x400 with 1 Axes>"
      ]
     },
     "metadata": {},
     "output_type": "display_data"
    }
   ],
   "source": [
    "plt.figure(figsize=(10,4))\n",
    "sns.countplot(data=df, x='Gender', palette='viridis')\n",
    "plt.title(\"Gender Analysis\")\n",
    "plt.ylabel(\"Total Devices\")\n",
    "plt.xlabel(\"Gender\")\n",
    "plt.show()"
   ]
  },
  {
   "cell_type": "code",
   "execution_count": 14,
   "id": "679ba139",
   "metadata": {
    "execution": {
     "iopub.execute_input": "2024-11-13T18:54:56.324600Z",
     "iopub.status.busy": "2024-11-13T18:54:56.324188Z",
     "iopub.status.idle": "2024-11-13T18:54:56.812472Z",
     "shell.execute_reply": "2024-11-13T18:54:56.811520Z"
    },
    "papermill": {
     "duration": 0.501805,
     "end_time": "2024-11-13T18:54:56.814928",
     "exception": false,
     "start_time": "2024-11-13T18:54:56.313123",
     "status": "completed"
    },
    "tags": []
   },
   "outputs": [],
   "source": [
    "import warnings\n",
    "from sklearn.decomposition import PCA\n",
    "from sklearn.preprocessing import StandardScaler\n",
    "from sklearn.model_selection import train_test_split\n",
    "from sklearn.ensemble import RandomForestClassifier\n",
    "from sklearn.metrics import accuracy_score, classification_report, confusion_matrix\n",
    "warnings.filterwarnings(\"ignore\")"
   ]
  },
  {
   "cell_type": "code",
   "execution_count": 15,
   "id": "2c1db66b",
   "metadata": {
    "execution": {
     "iopub.execute_input": "2024-11-13T18:54:56.832081Z",
     "iopub.status.busy": "2024-11-13T18:54:56.831652Z",
     "iopub.status.idle": "2024-11-13T18:54:56.839862Z",
     "shell.execute_reply": "2024-11-13T18:54:56.838738Z"
    },
    "papermill": {
     "duration": 0.019141,
     "end_time": "2024-11-13T18:54:56.841986",
     "exception": false,
     "start_time": "2024-11-13T18:54:56.822845",
     "status": "completed"
    },
    "tags": []
   },
   "outputs": [],
   "source": [
    "from sklearn.preprocessing import LabelEncoder\n",
    "encoder = LabelEncoder()\n",
    "df['Operating System'] = encoder.fit_transform(df['Operating System']) \n",
    "df['Device Model'] = encoder.fit_transform(df['Device Model'])\n",
    "df['Gender'] = encoder.fit_transform(df['Gender'])"
   ]
  },
  {
   "cell_type": "code",
   "execution_count": 16,
   "id": "f4647567",
   "metadata": {
    "execution": {
     "iopub.execute_input": "2024-11-13T18:54:56.859223Z",
     "iopub.status.busy": "2024-11-13T18:54:56.858814Z",
     "iopub.status.idle": "2024-11-13T18:54:56.865575Z",
     "shell.execute_reply": "2024-11-13T18:54:56.864483Z"
    },
    "papermill": {
     "duration": 0.018091,
     "end_time": "2024-11-13T18:54:56.867807",
     "exception": false,
     "start_time": "2024-11-13T18:54:56.849716",
     "status": "completed"
    },
    "tags": []
   },
   "outputs": [],
   "source": [
    "X = df.drop(columns=['User Behavior Class'], axis=1)\n",
    "y = df['User Behavior Class']"
   ]
  },
  {
   "cell_type": "code",
   "execution_count": 17,
   "id": "70e44f0f",
   "metadata": {
    "execution": {
     "iopub.execute_input": "2024-11-13T18:54:56.885368Z",
     "iopub.status.busy": "2024-11-13T18:54:56.884618Z",
     "iopub.status.idle": "2024-11-13T18:54:56.891884Z",
     "shell.execute_reply": "2024-11-13T18:54:56.891010Z"
    },
    "papermill": {
     "duration": 0.018083,
     "end_time": "2024-11-13T18:54:56.893890",
     "exception": false,
     "start_time": "2024-11-13T18:54:56.875807",
     "status": "completed"
    },
    "tags": []
   },
   "outputs": [],
   "source": [
    "X_train, X_test, y_train, y_test = train_test_split(X, y, test_size=0.2, random_state=42)"
   ]
  },
  {
   "cell_type": "code",
   "execution_count": 18,
   "id": "f38e4f55",
   "metadata": {
    "execution": {
     "iopub.execute_input": "2024-11-13T18:54:56.910827Z",
     "iopub.status.busy": "2024-11-13T18:54:56.910411Z",
     "iopub.status.idle": "2024-11-13T18:54:56.922300Z",
     "shell.execute_reply": "2024-11-13T18:54:56.921222Z"
    },
    "papermill": {
     "duration": 0.02302,
     "end_time": "2024-11-13T18:54:56.924698",
     "exception": false,
     "start_time": "2024-11-13T18:54:56.901678",
     "status": "completed"
    },
    "tags": []
   },
   "outputs": [],
   "source": [
    "scaler = StandardScaler()\n",
    "X_train_scaled = scaler.fit_transform(X_train)\n",
    "X_test_scaled = scaler.transform(X_test)"
   ]
  },
  {
   "cell_type": "code",
   "execution_count": 19,
   "id": "7cc27143",
   "metadata": {
    "execution": {
     "iopub.execute_input": "2024-11-13T18:54:56.942319Z",
     "iopub.status.busy": "2024-11-13T18:54:56.941867Z",
     "iopub.status.idle": "2024-11-13T18:54:56.962782Z",
     "shell.execute_reply": "2024-11-13T18:54:56.961679Z"
    },
    "papermill": {
     "duration": 0.032836,
     "end_time": "2024-11-13T18:54:56.965432",
     "exception": false,
     "start_time": "2024-11-13T18:54:56.932596",
     "status": "completed"
    },
    "tags": []
   },
   "outputs": [],
   "source": [
    "pca = PCA(n_components=6)\n",
    "X_train_pca = pca.fit_transform(X_train_scaled)\n",
    "X_test_pca = pca.transform(X_test_scaled)"
   ]
  },
  {
   "cell_type": "code",
   "execution_count": 20,
   "id": "43c3652b",
   "metadata": {
    "execution": {
     "iopub.execute_input": "2024-11-13T18:54:56.982792Z",
     "iopub.status.busy": "2024-11-13T18:54:56.982395Z",
     "iopub.status.idle": "2024-11-13T18:54:56.988306Z",
     "shell.execute_reply": "2024-11-13T18:54:56.987377Z"
    },
    "papermill": {
     "duration": 0.017018,
     "end_time": "2024-11-13T18:54:56.990529",
     "exception": false,
     "start_time": "2024-11-13T18:54:56.973511",
     "status": "completed"
    },
    "tags": []
   },
   "outputs": [
    {
     "name": "stdout",
     "output_type": "stream",
     "text": [
      "Explained variance of each component: [0.48052845 0.17057553 0.10470698 0.10227962 0.09240813 0.02914648]\n",
      "Total explained variance: 0.9796452001049184\n"
     ]
    }
   ],
   "source": [
    "explained_variance = pca.explained_variance_ratio_\n",
    "print(\"Explained variance of each component:\", explained_variance)\n",
    "print(\"Total explained variance:\", sum(explained_variance))"
   ]
  },
  {
   "cell_type": "code",
   "execution_count": 21,
   "id": "f9d4891d",
   "metadata": {
    "execution": {
     "iopub.execute_input": "2024-11-13T18:54:57.008073Z",
     "iopub.status.busy": "2024-11-13T18:54:57.007669Z",
     "iopub.status.idle": "2024-11-13T18:54:57.237684Z",
     "shell.execute_reply": "2024-11-13T18:54:57.236485Z"
    },
    "papermill": {
     "duration": 0.241736,
     "end_time": "2024-11-13T18:54:57.240160",
     "exception": false,
     "start_time": "2024-11-13T18:54:56.998424",
     "status": "completed"
    },
    "tags": []
   },
   "outputs": [],
   "source": [
    "clf = RandomForestClassifier()\n",
    "clf.fit(X_train_pca, y_train)\n",
    "\n",
    "y_pred = clf.predict(X_test_pca)"
   ]
  },
  {
   "cell_type": "code",
   "execution_count": 22,
   "id": "dd8f719f",
   "metadata": {
    "execution": {
     "iopub.execute_input": "2024-11-13T18:54:57.257774Z",
     "iopub.status.busy": "2024-11-13T18:54:57.256894Z",
     "iopub.status.idle": "2024-11-13T18:54:57.485829Z",
     "shell.execute_reply": "2024-11-13T18:54:57.484415Z"
    },
    "papermill": {
     "duration": 0.240038,
     "end_time": "2024-11-13T18:54:57.488101",
     "exception": false,
     "start_time": "2024-11-13T18:54:57.248063",
     "status": "completed"
    },
    "tags": []
   },
   "outputs": [
    {
     "name": "stdout",
     "output_type": "stream",
     "text": [
      "Accuracy: 100%\n"
     ]
    },
    {
     "data": {
      "image/png": "[encoded data removed]",
      "text/plain": [
       "<Figure size 400x300 with 1 Axes>"
      ]
     },
     "metadata": {},
     "output_type": "display_data"
    },
    {
     "name": "stdout",
     "output_type": "stream",
     "text": [
      "\n",
      "\n",
      "Classification Report:\n",
      "              precision    recall  f1-score   support\n",
      "\n",
      "           1       1.00      1.00      1.00        27\n",
      "           2       1.00      1.00      1.00        29\n",
      "           3       1.00      1.00      1.00        34\n",
      "           4       1.00      1.00      1.00        27\n",
      "           5       1.00      1.00      1.00        23\n",
      "\n",
      "    accuracy                           1.00       140\n",
      "   macro avg       1.00      1.00      1.00       140\n",
      "weighted avg       1.00      1.00      1.00       140\n",
      "\n"
     ]
    }
   ],
   "source": [
    "print(f\"Accuracy: {round(accuracy_score(y_test, y_pred)*100)}%\")\n",
    "\n",
    "cm = confusion_matrix(y_test, y_pred)\n",
    "plt.figure(figsize=(4,3))\n",
    "sns.heatmap(cm, annot=True, cmap='viridis_r', cbar=False)\n",
    "plt.title(\"Confusion Matrix\")\n",
    "plt.show()\n",
    "\n",
    "\n",
    "print(\"\\n\\nClassification Report:\")\n",
    "print(classification_report(y_test, y_pred))"
   ]
  }
 ],
 "metadata": {
  "kaggle": {
   "accelerator": "none",
   "dataSources": [
    {
     "datasetId": 5784553,
     "sourceId": 9504237,
     "sourceType": "datasetVersion"
    }
   ],
   "dockerImageVersionId": 30786,
   "isGpuEnabled": false,
   "isInternetEnabled": true,
   "language": "python",
   "sourceType": "notebook"
  },
  "kernelspec": {
   "display_name": "Python 3",
   "language": "python",
   "name": "python3"
  },
  "language_info": {
   "codemirror_mode": {
    "name": "ipython",
    "version": 3
   },
   "file_extension": ".py",
   "mimetype": "text/x-python",
   "name": "python",
   "nbconvert_exporter": "python",
   "pygments_lexer": "ipython3",
   "version": "3.10.14"
  },
  "papermill": {
   "default_parameters": {},
   "duration": 8.092966,
   "end_time": "2024-11-13T18:54:58.116985",
   "environment_variables": {},
   "exception": null,
   "input_path": "__notebook__.ipynb",
   "output_path": "__notebook__.ipynb",
   "parameters": {},
   "start_time": "2024-11-13T18:54:50.024019",
   "version": "2.6.0"
  }
 },
 "nbformat": 4,
 "nbformat_minor": 5
}
