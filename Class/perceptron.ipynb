{
 "cells": [
  {
   "cell_type": "code",
   "execution_count": 20,
   "id": "81323a4a-8b32-45a1-b856-7fc49e4cb47d",
   "metadata": {},
   "outputs": [],
   "source": [
    "import numpy as np"
   ]
  },
  {
   "cell_type": "code",
   "execution_count": 21,
   "id": "ccd30c7c-9eed-4731-a672-de2128fd1183",
   "metadata": {},
   "outputs": [],
   "source": [
    "# activation fun\n",
    "def sigmoid (x):\n",
    "    return (1/(1+np.exp(-x)))"
   ]
  },
  {
   "cell_type": "code",
   "execution_count": null,
   "id": "09c911c1-6a85-4e8b-908b-e03e04f92c82",
   "metadata": {},
   "outputs": [],
   "source": [
    "def s_der "
   ]
  },
  {
   "cell_type": "code",
   "execution_count": 22,
   "id": "3d810ea6-7023-4315-bd42-fdb9aa659d32",
   "metadata": {},
   "outputs": [],
   "source": [
    "# inputs\n",
    "input = np.array(\n",
    "    [\n",
    "        [1,0,1],\n",
    "        [1,1,1],\n",
    "        [0,1,1],\n",
    "        [0,0,1]\n",
    "\n",
    "    ]  \n",
    ")\n",
    "    "
   ]
  },
  {
   "cell_type": "code",
   "execution_count": 23,
   "id": "fd4bc0e1-8b24-4a6b-94c0-c849b4712845",
   "metadata": {},
   "outputs": [
    {
     "data": {
      "text/plain": [
       "array([[1],\n",
       "       [1],\n",
       "       [0],\n",
       "       [0]])"
      ]
     },
     "execution_count": 23,
     "metadata": {},
     "output_type": "execute_result"
    }
   ],
   "source": [
    "t_output = np.array([[1,1,0,0]]).T\n",
    "t_output"
   ]
  },
  {
   "cell_type": "code",
   "execution_count": 24,
   "id": "0a12df2e-8d2d-4a4c-892f-0d60c205c7a4",
   "metadata": {},
   "outputs": [],
   "source": [
    "t_out = np.array([[1],[1],[0],[0]])"
   ]
  },
  {
   "cell_type": "code",
   "execution_count": 25,
   "id": "f0838fa4-50de-4eb2-a9cb-d5ef9657bdf2",
   "metadata": {},
   "outputs": [
    {
     "data": {
      "text/plain": [
       "array([[1],\n",
       "       [1],\n",
       "       [0],\n",
       "       [0]])"
      ]
     },
     "execution_count": 25,
     "metadata": {},
     "output_type": "execute_result"
    }
   ],
   "source": [
    "t_out"
   ]
  },
  {
   "cell_type": "code",
   "execution_count": 26,
   "id": "f55dd8d6-3e0c-4462-a28c-10d6390c452f",
   "metadata": {},
   "outputs": [
    {
     "data": {
      "text/plain": [
       "array([[ 0.41851673],\n",
       "       [-0.91785735],\n",
       "       [ 0.6710912 ]])"
      ]
     },
     "execution_count": 26,
     "metadata": {},
     "output_type": "execute_result"
    }
   ],
   "source": [
    "weights = 2*np.random.random((3,1)) -1\n",
    "# weights = np.random.random((3,1)) \n",
    "weights"
   ]
  },
  {
   "cell_type": "code",
   "execution_count": 27,
   "id": "e9cd445a-3689-4fec-8134-3feab9a55195",
   "metadata": {},
   "outputs": [],
   "source": [
    "for iter in range (1):\n",
    "    output = sigmoid (np.dot(input, weights))"
   ]
  },
  {
   "cell_type": "code",
   "execution_count": 28,
   "id": "1843f042-0d24-4b26-87f6-3fae754e2b3b",
   "metadata": {},
   "outputs": [
    {
     "data": {
      "text/plain": [
       "array([[1.],\n",
       "       [1.],\n",
       "       [0.],\n",
       "       [1.]])"
      ]
     },
     "execution_count": 28,
     "metadata": {},
     "output_type": "execute_result"
    }
   ],
   "source": [
    "np.round(output)\n",
    "       # [1],\n",
    "       # [1],\n",
    "       # [0],\n",
    "       # [0]\n"
   ]
  },
  {
   "cell_type": "code",
   "execution_count": 30,
   "id": "b4d73b79-01cc-4276-aad9-000dd87c0b72",
   "metadata": {},
   "outputs": [
    {
     "data": {
      "text/plain": [
       "array([[0.74830789],\n",
       "       [0.54283241],\n",
       "       [0.43861962],\n",
       "       [0.66174745]])"
      ]
     },
     "execution_count": 30,
     "metadata": {},
     "output_type": "execute_result"
    }
   ],
   "source": [
    "output"
   ]
  },
  {
   "cell_type": "code",
   "execution_count": null,
   "id": "8b1a8733-02ac-436e-ad55-f60f03f16e70",
   "metadata": {},
   "outputs": [],
   "source": []
  }
 ],
 "metadata": {
  "kernelspec": {
   "display_name": "Python 3 (ipykernel)",
   "language": "python",
   "name": "python3"
  },
  "language_info": {
   "codemirror_mode": {
    "name": "ipython",
    "version": 3
   },
   "file_extension": ".py",
   "mimetype": "text/x-python",
   "name": "python",
   "nbconvert_exporter": "python",
   "pygments_lexer": "ipython3",
   "version": "3.11.4"
  }
 },
 "nbformat": 4,
 "nbformat_minor": 5
}
