{
 "cells": [
  {
   "cell_type": "code",
   "execution_count": 65,
   "id": "76157fa6",
   "metadata": {},
   "outputs": [],
   "source": [
    "import pandas as pd"
   ]
  },
  {
   "cell_type": "code",
   "execution_count": 69,
   "id": "680f90c1",
   "metadata": {},
   "outputs": [],
   "source": [
    "import matplotlib.pyplot as plt"
   ]
  },
  {
   "cell_type": "code",
   "execution_count": 70,
   "id": "88962372",
   "metadata": {},
   "outputs": [],
   "source": [
    "import numpy as np"
   ]
  },
  {
   "cell_type": "code",
   "execution_count": 71,
   "id": "61a743c7",
   "metadata": {},
   "outputs": [],
   "source": [
    "import plotly.express as px"
   ]
  },
  {
   "cell_type": "code",
   "execution_count": 72,
   "id": "5cc528ed",
   "metadata": {},
   "outputs": [],
   "source": [
    "from sklearn.linear_model import LinearRegression\n"
   ]
  },
  {
   "cell_type": "code",
   "execution_count": 73,
   "id": "c039da21",
   "metadata": {},
   "outputs": [],
   "source": [
    "df=pd.read_csv(\"Ai practice project.csv\")\n"
   ]
  },
  {
   "cell_type": "code",
   "execution_count": 74,
   "id": "7f924989",
   "metadata": {},
   "outputs": [
    {
     "name": "stdout",
     "output_type": "stream",
     "text": [
      "<class 'pandas.core.frame.DataFrame'>\n",
      "RangeIndex: 7 entries, 0 to 6\n",
      "Data columns (total 14 columns):\n",
      " #   Column  Non-Null Count  Dtype \n",
      "---  ------  --------------  ----- \n",
      " 0   Brands  7 non-null      object\n",
      " 1   2016    7 non-null      int64 \n",
      " 2   2017    7 non-null      int64 \n",
      " 3   2018    7 non-null      int64 \n",
      " 4   2019    7 non-null      int64 \n",
      " 5   2020    7 non-null      int64 \n",
      " 6   2021    7 non-null      int64 \n",
      " 7   2022    7 non-null      int64 \n",
      " 8   2023    7 non-null      int64 \n",
      " 9   2024    7 non-null      int64 \n",
      " 10  2025    7 non-null      int64 \n",
      " 11  2026    7 non-null      int64 \n",
      " 12  2027    7 non-null      int64 \n",
      " 13  2028    7 non-null      int64 \n",
      "dtypes: int64(13), object(1)\n",
      "memory usage: 916.0+ bytes\n"
     ]
    }
   ],
   "source": [
    "df.info()\n"
   ]
  },
  {
   "cell_type": "code",
   "execution_count": 75,
   "id": "860569f6",
   "metadata": {},
   "outputs": [
    {
     "name": "stdout",
     "output_type": "stream",
     "text": [
      "            2016      2017     2018      2019     2020     2021      2022  \\\n",
      "Brands                                                                      \n",
      "Apple      79918     92956    36311     98601    70320    51261     92014   \n",
      "Mi       3315550   1409596  9277163   1660474  9992642  8448689   3212109   \n",
      "Samsung  9394877   6224008  2676267  10854249  9698714  5601749  11744976   \n",
      "Nokia    9957350  10681674  8963409   9150408  8832315  7767173   5021397   \n",
      "Moto     8811559   8960636  9256990   5709109  9261169  1095159  11050079   \n",
      "\n",
      "            2023     2024     2025     2026     2027     2028  \n",
      "Brands                                                         \n",
      "Apple      78019    74848    74831    74814    74797    74780  \n",
      "Mi       3837745  6136104  6356516  6576929  6797342  7017755  \n",
      "Samsung  6454424  8615582  8789898  8964215  9138531  9312848  \n",
      "Nokia    9566786  6870664  6454686  6038708  5622731  5206753  \n",
      "Moto     2209602  4006792  3331793  2656794  1981795  1306796  \n"
     ]
    }
   ],
   "source": [
    "df = pd.read_csv('Ai practice project.csv')\n",
    "# df.head()\n",
    "df.set_index(\"Brands\",inplace=True)\n",
    "print(df.head())"
   ]
  },
  {
   "cell_type": "code",
   "execution_count": 76,
   "id": "2323d448",
   "metadata": {},
   "outputs": [
    {
     "name": "stdout",
     "output_type": "stream",
     "text": [
      "[[2016]\n",
      " [2017]\n",
      " [2018]\n",
      " [2019]\n",
      " [2020]\n",
      " [2021]\n",
      " [2022]\n",
      " [2023]\n",
      " [2024]\n",
      " [2025]\n",
      " [2026]\n",
      " [2027]\n",
      " [2028]]\n"
     ]
    }
   ],
   "source": [
    "years=np.array([int(year) for year in df.columns]).reshape(-1,1)\n",
    "print(years)\n",
    "predictions={}"
   ]
  },
  {
   "cell_type": "code",
   "execution_count": 77,
   "id": "3f209e01",
   "metadata": {},
   "outputs": [],
   "source": [
    "df.to_csv('output.csv',header=False,index=False)\n"
   ]
  },
  {
   "cell_type": "code",
   "execution_count": 78,
   "id": "b2608698",
   "metadata": {},
   "outputs": [],
   "source": [
    "df = pd.read_csv('Ai practice project.csv')\n"
   ]
  },
  {
   "cell_type": "code",
   "execution_count": 79,
   "id": "9ff59a70",
   "metadata": {},
   "outputs": [],
   "source": [
    "# df.rename(columns={'Brands': 'Year'}, inplace=True)\n",
    "# df.head()\n",
    "# df.transpose()\n",
    "# df.to_csv('some.csv',header=False)"
   ]
  },
  {
   "cell_type": "code",
   "execution_count": 80,
   "id": "6801aaf3",
   "metadata": {},
   "outputs": [],
   "source": [
    "# df = pd.read_csv('some.csv')\n"
   ]
  },
  {
   "cell_type": "code",
   "execution_count": 81,
   "id": "8dc6c8ba",
   "metadata": {},
   "outputs": [],
   "source": [
    "df_transposed = df.transpose()"
   ]
  },
  {
   "cell_type": "code",
   "execution_count": 82,
   "id": "207e1887",
   "metadata": {},
   "outputs": [
    {
     "name": "stdout",
     "output_type": "stream",
     "text": [
      "            0        1         2         3         4         5        6\n",
      "Brands  Apple       Mi   Samsung     Nokia      Moto      Vivo     Oppo\n",
      "2016    79918  3315550   9394877   9957350   8811559   3216518  4292105\n",
      "2017    92956  1409596   6224008  10681674   8960636   1199904  4892096\n",
      "2018    36311  9277163   2676267   8963409   9256990   6631994  5552392\n",
      "2019    98601  1660474  10854249   9150408   5709109   7478769  7785292\n",
      "2020    70320  9992642   9698714   8832315   9261169   6015910  2739808\n",
      "2021    51261  8448689   5601749   7767173   1095159   4286578  6624464\n",
      "2022    92014  3212109  11744976   5021397  11050079  11175540  5224112\n",
      "2023    78019  3837745   6454424   9566786   2209602   5852808  8943846\n",
      "2024    74848  6136104   8615582   6870664   4006792   8937597  7492104\n",
      "2025    74831  6356516   8789898   6454686   3331793   9649896  7877735\n",
      "2026    74814  6576929   8964215   6038708   2656794  10362195  8263365\n",
      "2027    74797  6797342   9138531   5622731   1981795  11074494  8648996\n",
      "2028    74780  7017755   9312848   5206753   1306796  11786793  9034627\n"
     ]
    }
   ],
   "source": [
    "print(df_transposed)"
   ]
  },
  {
   "cell_type": "code",
   "execution_count": 96,
   "id": "3fb80f3b",
   "metadata": {},
   "outputs": [],
   "source": [
    "# df = pd.read_csv('Ai practice project.csv')\n",
    "# df.head()"
   ]
  },
  {
   "cell_type": "code",
   "execution_count": 97,
   "id": "55a01f4e",
   "metadata": {},
   "outputs": [],
   "source": [
    "# data = {\n",
    "#     '2018': [1000, 900],\n",
    "#     '2019': [1100, 950],\n",
    "#     '2020': [1200, 1000],\n",
    "#     '2021': [1300, 1050],\n",
    "#     '2022': [1400, 1100]\n",
    "# }"
   ]
  },
  {
   "cell_type": "code",
   "execution_count": 98,
   "id": "fbece83f",
   "metadata": {},
   "outputs": [],
   "source": [
    "# brands = ['Apple', 'Samsung']\n",
    "# df = pd.DataFrame(data, index=brands)"
   ]
  },
  {
   "cell_type": "code",
   "execution_count": 99,
   "id": "f0c17ec7",
   "metadata": {},
   "outputs": [],
   "source": [
    "# years = np.array([[2018], [2019], [2020], [2021], [2022]])\n"
   ]
  },
  {
   "cell_type": "code",
   "execution_count": 100,
   "id": "d78bd82d",
   "metadata": {},
   "outputs": [],
   "source": [
    "# predictions = {}\n",
    "# actual_sales = {}"
   ]
  },
  {
   "cell_type": "code",
   "execution_count": 101,
   "id": "b05bdb55",
   "metadata": {},
   "outputs": [],
   "source": [
    "# for brand in df.index:\n",
    "#     try:\n",
    "\n",
    "#         sales_data = df.loc[brand].values.astype(float).reshape(-1, 1)\n",
    "#         model = LinearRegression().fit(years, sales_data)\n",
    "#         f_years = np.array([2024, 2025, 2026, 2027, 2028]).reshape(-1, 1)\n",
    "#         p_sales = model.predict(f_years).flatten()\n",
    "#         predictions[brand] = p_sales\n",
    "#     except ValueError as e:\n",
    "#         print(f\"Skipping brand {brand} due to an error: {e}\")"
   ]
  },
  {
   "cell_type": "code",
   "execution_count": 102,
   "id": "09bc2669",
   "metadata": {},
   "outputs": [],
   "source": [
    "# brand = 'Apple'\n",
    "# if brand in actual_sales and brand in predictions:\n",
    "#     plt.plot(range(2018, 2023), actual_sales[brands], label=\"Actual Sales\")\n",
    "#     plt.plot(range(2024, 2029), predictions[brands], label=\"Predicted Sales\")\n",
    "#     plt.ylabel(\"Sales\")\n",
    "#     plt.xlabel(\"Years\")\n",
    "#     plt.title(f\"Sales according to the Year for {brands}\")\n",
    "#     plt.legend()\n",
    "#     plt.show()\n",
    "# else:\n",
    "#     print(f\"No data available to plot for brand {brands}\")"
   ]
  },
  {
   "cell_type": "code",
   "execution_count": 103,
   "id": "0aab95a2",
   "metadata": {},
   "outputs": [],
   "source": [
    "# print(predictions)"
   ]
  },
  {
   "cell_type": "code",
   "execution_count": 104,
   "id": "0923b9dc",
   "metadata": {},
   "outputs": [
    {
     "name": "stdout",
     "output_type": "stream",
     "text": [
      "<class 'pandas.core.frame.DataFrame'>\n",
      "RangeIndex: 7 entries, 0 to 6\n",
      "Data columns (total 14 columns):\n",
      " #   Column  Non-Null Count  Dtype \n",
      "---  ------  --------------  ----- \n",
      " 0   Brands  7 non-null      object\n",
      " 1   2016    7 non-null      int64 \n",
      " 2   2017    7 non-null      int64 \n",
      " 3   2018    7 non-null      int64 \n",
      " 4   2019    7 non-null      int64 \n",
      " 5   2020    7 non-null      int64 \n",
      " 6   2021    7 non-null      int64 \n",
      " 7   2022    7 non-null      int64 \n",
      " 8   2023    7 non-null      int64 \n",
      " 9   2024    7 non-null      int64 \n",
      " 10  2025    7 non-null      int64 \n",
      " 11  2026    7 non-null      int64 \n",
      " 12  2027    7 non-null      int64 \n",
      " 13  2028    7 non-null      int64 \n",
      "dtypes: int64(13), object(1)\n",
      "memory usage: 916.0+ bytes\n"
     ]
    }
   ],
   "source": [
    "df.info()"
   ]
  },
  {
   "cell_type": "code",
   "execution_count": 105,
   "id": "89021e96",
   "metadata": {
    "scrolled": true
   },
   "outputs": [
    {
     "data": {
      "text/html": [
       "<div>\n",
       "<style scoped>\n",
       "    .dataframe tbody tr th:only-of-type {\n",
       "        vertical-align: middle;\n",
       "    }\n",
       "\n",
       "    .dataframe tbody tr th {\n",
       "        vertical-align: top;\n",
       "    }\n",
       "\n",
       "    .dataframe thead th {\n",
       "        text-align: right;\n",
       "    }\n",
       "</style>\n",
       "<table border=\"1\" class=\"dataframe\">\n",
       "  <thead>\n",
       "    <tr style=\"text-align: right;\">\n",
       "      <th></th>\n",
       "      <th>2016</th>\n",
       "      <th>2017</th>\n",
       "      <th>2018</th>\n",
       "      <th>2019</th>\n",
       "      <th>2020</th>\n",
       "      <th>2021</th>\n",
       "      <th>2022</th>\n",
       "      <th>2023</th>\n",
       "      <th>2024</th>\n",
       "      <th>2025</th>\n",
       "      <th>2026</th>\n",
       "      <th>2027</th>\n",
       "      <th>2028</th>\n",
       "    </tr>\n",
       "  </thead>\n",
       "  <tbody>\n",
       "    <tr>\n",
       "      <th>count</th>\n",
       "      <td>7.000000e+00</td>\n",
       "      <td>7.000000e+00</td>\n",
       "      <td>7.000000e+00</td>\n",
       "      <td>7.000000e+00</td>\n",
       "      <td>7.000000e+00</td>\n",
       "      <td>7.000000e+00</td>\n",
       "      <td>7.000000e+00</td>\n",
       "      <td>7.000000e+00</td>\n",
       "      <td>7.000000e+00</td>\n",
       "      <td>7.000000e+00</td>\n",
       "      <td>7.000000e+00</td>\n",
       "      <td>7.000000e+00</td>\n",
       "      <td>7.000000e+00</td>\n",
       "    </tr>\n",
       "    <tr>\n",
       "      <th>mean</th>\n",
       "      <td>5.581125e+06</td>\n",
       "      <td>4.780124e+06</td>\n",
       "      <td>6.056361e+06</td>\n",
       "      <td>6.105272e+06</td>\n",
       "      <td>6.658697e+06</td>\n",
       "      <td>4.839296e+06</td>\n",
       "      <td>6.788604e+06</td>\n",
       "      <td>5.277604e+06</td>\n",
       "      <td>6.019099e+06</td>\n",
       "      <td>6.076479e+06</td>\n",
       "      <td>6.133860e+06</td>\n",
       "      <td>6.191241e+06</td>\n",
       "      <td>6.248622e+06</td>\n",
       "    </tr>\n",
       "    <tr>\n",
       "      <th>std</th>\n",
       "      <td>3.803086e+06</td>\n",
       "      <td>4.093700e+06</td>\n",
       "      <td>3.589798e+06</td>\n",
       "      <td>3.926998e+06</td>\n",
       "      <td>3.895124e+06</td>\n",
       "      <td>3.230523e+06</td>\n",
       "      <td>4.567590e+06</td>\n",
       "      <td>3.465922e+06</td>\n",
       "      <td>3.097081e+06</td>\n",
       "      <td>3.345420e+06</td>\n",
       "      <td>3.638496e+06</td>\n",
       "      <td>3.966403e+06</td>\n",
       "      <td>4.321220e+06</td>\n",
       "    </tr>\n",
       "    <tr>\n",
       "      <th>min</th>\n",
       "      <td>7.991800e+04</td>\n",
       "      <td>9.295600e+04</td>\n",
       "      <td>3.631100e+04</td>\n",
       "      <td>9.860100e+04</td>\n",
       "      <td>7.032000e+04</td>\n",
       "      <td>5.126100e+04</td>\n",
       "      <td>9.201400e+04</td>\n",
       "      <td>7.801900e+04</td>\n",
       "      <td>7.484800e+04</td>\n",
       "      <td>7.483100e+04</td>\n",
       "      <td>7.481400e+04</td>\n",
       "      <td>7.479700e+04</td>\n",
       "      <td>7.478000e+04</td>\n",
       "    </tr>\n",
       "    <tr>\n",
       "      <th>25%</th>\n",
       "      <td>3.266034e+06</td>\n",
       "      <td>1.304750e+06</td>\n",
       "      <td>4.114330e+06</td>\n",
       "      <td>3.684792e+06</td>\n",
       "      <td>4.377859e+06</td>\n",
       "      <td>2.690868e+06</td>\n",
       "      <td>4.116753e+06</td>\n",
       "      <td>3.023674e+06</td>\n",
       "      <td>5.071448e+06</td>\n",
       "      <td>4.844154e+06</td>\n",
       "      <td>4.347751e+06</td>\n",
       "      <td>3.802263e+06</td>\n",
       "      <td>3.256774e+06</td>\n",
       "    </tr>\n",
       "    <tr>\n",
       "      <th>50%</th>\n",
       "      <td>4.292105e+06</td>\n",
       "      <td>4.892096e+06</td>\n",
       "      <td>6.631994e+06</td>\n",
       "      <td>7.478769e+06</td>\n",
       "      <td>8.832315e+06</td>\n",
       "      <td>5.601749e+06</td>\n",
       "      <td>5.224112e+06</td>\n",
       "      <td>5.852808e+06</td>\n",
       "      <td>6.870664e+06</td>\n",
       "      <td>6.454686e+06</td>\n",
       "      <td>6.576929e+06</td>\n",
       "      <td>6.797342e+06</td>\n",
       "      <td>7.017755e+06</td>\n",
       "    </tr>\n",
       "    <tr>\n",
       "      <th>75%</th>\n",
       "      <td>9.103218e+06</td>\n",
       "      <td>7.592322e+06</td>\n",
       "      <td>9.110200e+06</td>\n",
       "      <td>8.467850e+06</td>\n",
       "      <td>9.479942e+06</td>\n",
       "      <td>7.195818e+06</td>\n",
       "      <td>1.111281e+07</td>\n",
       "      <td>7.699135e+06</td>\n",
       "      <td>8.053843e+06</td>\n",
       "      <td>8.333816e+06</td>\n",
       "      <td>8.613790e+06</td>\n",
       "      <td>8.893764e+06</td>\n",
       "      <td>9.173738e+06</td>\n",
       "    </tr>\n",
       "    <tr>\n",
       "      <th>max</th>\n",
       "      <td>9.957350e+06</td>\n",
       "      <td>1.068167e+07</td>\n",
       "      <td>9.277163e+06</td>\n",
       "      <td>1.085425e+07</td>\n",
       "      <td>9.992642e+06</td>\n",
       "      <td>8.448689e+06</td>\n",
       "      <td>1.174498e+07</td>\n",
       "      <td>9.566786e+06</td>\n",
       "      <td>8.937597e+06</td>\n",
       "      <td>9.649896e+06</td>\n",
       "      <td>1.036220e+07</td>\n",
       "      <td>1.107449e+07</td>\n",
       "      <td>1.178679e+07</td>\n",
       "    </tr>\n",
       "  </tbody>\n",
       "</table>\n",
       "</div>"
      ],
      "text/plain": [
       "               2016          2017          2018          2019          2020  \\\n",
       "count  7.000000e+00  7.000000e+00  7.000000e+00  7.000000e+00  7.000000e+00   \n",
       "mean   5.581125e+06  4.780124e+06  6.056361e+06  6.105272e+06  6.658697e+06   \n",
       "std    3.803086e+06  4.093700e+06  3.589798e+06  3.926998e+06  3.895124e+06   \n",
       "min    7.991800e+04  9.295600e+04  3.631100e+04  9.860100e+04  7.032000e+04   \n",
       "25%    3.266034e+06  1.304750e+06  4.114330e+06  3.684792e+06  4.377859e+06   \n",
       "50%    4.292105e+06  4.892096e+06  6.631994e+06  7.478769e+06  8.832315e+06   \n",
       "75%    9.103218e+06  7.592322e+06  9.110200e+06  8.467850e+06  9.479942e+06   \n",
       "max    9.957350e+06  1.068167e+07  9.277163e+06  1.085425e+07  9.992642e+06   \n",
       "\n",
       "               2021          2022          2023          2024          2025  \\\n",
       "count  7.000000e+00  7.000000e+00  7.000000e+00  7.000000e+00  7.000000e+00   \n",
       "mean   4.839296e+06  6.788604e+06  5.277604e+06  6.019099e+06  6.076479e+06   \n",
       "std    3.230523e+06  4.567590e+06  3.465922e+06  3.097081e+06  3.345420e+06   \n",
       "min    5.126100e+04  9.201400e+04  7.801900e+04  7.484800e+04  7.483100e+04   \n",
       "25%    2.690868e+06  4.116753e+06  3.023674e+06  5.071448e+06  4.844154e+06   \n",
       "50%    5.601749e+06  5.224112e+06  5.852808e+06  6.870664e+06  6.454686e+06   \n",
       "75%    7.195818e+06  1.111281e+07  7.699135e+06  8.053843e+06  8.333816e+06   \n",
       "max    8.448689e+06  1.174498e+07  9.566786e+06  8.937597e+06  9.649896e+06   \n",
       "\n",
       "               2026          2027          2028  \n",
       "count  7.000000e+00  7.000000e+00  7.000000e+00  \n",
       "mean   6.133860e+06  6.191241e+06  6.248622e+06  \n",
       "std    3.638496e+06  3.966403e+06  4.321220e+06  \n",
       "min    7.481400e+04  7.479700e+04  7.478000e+04  \n",
       "25%    4.347751e+06  3.802263e+06  3.256774e+06  \n",
       "50%    6.576929e+06  6.797342e+06  7.017755e+06  \n",
       "75%    8.613790e+06  8.893764e+06  9.173738e+06  \n",
       "max    1.036220e+07  1.107449e+07  1.178679e+07  "
      ]
     },
     "execution_count": 105,
     "metadata": {},
     "output_type": "execute_result"
    }
   ],
   "source": [
    "df.describe()\n"
   ]
  },
  {
   "cell_type": "code",
   "execution_count": 106,
   "id": "d737e799",
   "metadata": {},
   "outputs": [],
   "source": [
    "y=['Apple','Mi','Samsung','Nokia','Moto','Vivo','Oppo'] \n"
   ]
  },
  {
   "cell_type": "code",
   "execution_count": 107,
   "id": "16db94ab",
   "metadata": {
    "scrolled": true
   },
   "outputs": [
    {
     "ename": "ValueError",
     "evalue": "Value of 'x' is not the name of a column in 'data_frame'. Expected one of ['Brands', '2016', '2017', '2018', '2019', '2020', '2021', '2022', '2023', '2024', '2025', '2026', '2027', '2028'] but received: Years",
     "output_type": "error",
     "traceback": [
      "\u001b[1;31m---------------------------------------------------------------------------\u001b[0m",
      "\u001b[1;31mValueError\u001b[0m                                Traceback (most recent call last)",
      "Cell \u001b[1;32mIn[107], line 1\u001b[0m\n\u001b[1;32m----> 1\u001b[0m fig \u001b[38;5;241m=\u001b[39m \u001b[43mpx\u001b[49m\u001b[38;5;241;43m.\u001b[39;49m\u001b[43mline\u001b[49m\u001b[43m(\u001b[49m\u001b[43mdf\u001b[49m\u001b[43m,\u001b[49m\u001b[43m \u001b[49m\u001b[43mx\u001b[49m\u001b[38;5;241;43m=\u001b[39;49m\u001b[38;5;124;43m'\u001b[39;49m\u001b[38;5;124;43mYears\u001b[39;49m\u001b[38;5;124;43m'\u001b[39;49m\u001b[43m,\u001b[49m\u001b[43m \u001b[49m\u001b[43my\u001b[49m\u001b[38;5;241;43m=\u001b[39;49m\u001b[43my\u001b[49m\u001b[43m)\u001b[49m\n\u001b[0;32m      2\u001b[0m fig\u001b[38;5;241m.\u001b[39mshow()\n",
      "File \u001b[1;32m~\\AppData\\Roaming\\Python\\Python311\\site-packages\\plotly\\express\\_chart_types.py:264\u001b[0m, in \u001b[0;36mline\u001b[1;34m(data_frame, x, y, line_group, color, line_dash, symbol, hover_name, hover_data, custom_data, text, facet_row, facet_col, facet_col_wrap, facet_row_spacing, facet_col_spacing, error_x, error_x_minus, error_y, error_y_minus, animation_frame, animation_group, category_orders, labels, orientation, color_discrete_sequence, color_discrete_map, line_dash_sequence, line_dash_map, symbol_sequence, symbol_map, markers, log_x, log_y, range_x, range_y, line_shape, render_mode, title, template, width, height)\u001b[0m\n\u001b[0;32m    216\u001b[0m \u001b[38;5;28;01mdef\u001b[39;00m \u001b[38;5;21mline\u001b[39m(\n\u001b[0;32m    217\u001b[0m     data_frame\u001b[38;5;241m=\u001b[39m\u001b[38;5;28;01mNone\u001b[39;00m,\n\u001b[0;32m    218\u001b[0m     x\u001b[38;5;241m=\u001b[39m\u001b[38;5;28;01mNone\u001b[39;00m,\n\u001b[1;32m   (...)\u001b[0m\n\u001b[0;32m    258\u001b[0m     height\u001b[38;5;241m=\u001b[39m\u001b[38;5;28;01mNone\u001b[39;00m,\n\u001b[0;32m    259\u001b[0m ) \u001b[38;5;241m-\u001b[39m\u001b[38;5;241m>\u001b[39m go\u001b[38;5;241m.\u001b[39mFigure:\n\u001b[0;32m    260\u001b[0m \u001b[38;5;250m    \u001b[39m\u001b[38;5;124;03m\"\"\"\u001b[39;00m\n\u001b[0;32m    261\u001b[0m \u001b[38;5;124;03m    In a 2D line plot, each row of `data_frame` is represented as vertex of\u001b[39;00m\n\u001b[0;32m    262\u001b[0m \u001b[38;5;124;03m    a polyline mark in 2D space.\u001b[39;00m\n\u001b[0;32m    263\u001b[0m \u001b[38;5;124;03m    \"\"\"\u001b[39;00m\n\u001b[1;32m--> 264\u001b[0m     \u001b[38;5;28;01mreturn\u001b[39;00m \u001b[43mmake_figure\u001b[49m\u001b[43m(\u001b[49m\u001b[43margs\u001b[49m\u001b[38;5;241;43m=\u001b[39;49m\u001b[38;5;28;43mlocals\u001b[39;49m\u001b[43m(\u001b[49m\u001b[43m)\u001b[49m\u001b[43m,\u001b[49m\u001b[43m \u001b[49m\u001b[43mconstructor\u001b[49m\u001b[38;5;241;43m=\u001b[39;49m\u001b[43mgo\u001b[49m\u001b[38;5;241;43m.\u001b[39;49m\u001b[43mScatter\u001b[49m\u001b[43m)\u001b[49m\n",
      "File \u001b[1;32m~\\AppData\\Roaming\\Python\\Python311\\site-packages\\plotly\\express\\_core.py:2090\u001b[0m, in \u001b[0;36mmake_figure\u001b[1;34m(args, constructor, trace_patch, layout_patch)\u001b[0m\n\u001b[0;32m   2087\u001b[0m layout_patch \u001b[38;5;241m=\u001b[39m layout_patch \u001b[38;5;129;01mor\u001b[39;00m {}\n\u001b[0;32m   2088\u001b[0m apply_default_cascade(args)\n\u001b[1;32m-> 2090\u001b[0m args \u001b[38;5;241m=\u001b[39m \u001b[43mbuild_dataframe\u001b[49m\u001b[43m(\u001b[49m\u001b[43margs\u001b[49m\u001b[43m,\u001b[49m\u001b[43m \u001b[49m\u001b[43mconstructor\u001b[49m\u001b[43m)\u001b[49m\n\u001b[0;32m   2091\u001b[0m \u001b[38;5;28;01mif\u001b[39;00m constructor \u001b[38;5;129;01min\u001b[39;00m [go\u001b[38;5;241m.\u001b[39mTreemap, go\u001b[38;5;241m.\u001b[39mSunburst, go\u001b[38;5;241m.\u001b[39mIcicle] \u001b[38;5;129;01mand\u001b[39;00m args[\u001b[38;5;124m\"\u001b[39m\u001b[38;5;124mpath\u001b[39m\u001b[38;5;124m\"\u001b[39m] \u001b[38;5;129;01mis\u001b[39;00m \u001b[38;5;129;01mnot\u001b[39;00m \u001b[38;5;28;01mNone\u001b[39;00m:\n\u001b[0;32m   2092\u001b[0m     args \u001b[38;5;241m=\u001b[39m process_dataframe_hierarchy(args)\n",
      "File \u001b[1;32m~\\AppData\\Roaming\\Python\\Python311\\site-packages\\plotly\\express\\_core.py:1492\u001b[0m, in \u001b[0;36mbuild_dataframe\u001b[1;34m(args, constructor)\u001b[0m\n\u001b[0;32m   1489\u001b[0m     args[\u001b[38;5;124m\"\u001b[39m\u001b[38;5;124mcolor\u001b[39m\u001b[38;5;124m\"\u001b[39m] \u001b[38;5;241m=\u001b[39m \u001b[38;5;28;01mNone\u001b[39;00m\n\u001b[0;32m   1490\u001b[0m \u001b[38;5;66;03m# now that things have been prepped, we do the systematic rewriting of `args`\u001b[39;00m\n\u001b[1;32m-> 1492\u001b[0m df_output, wide_id_vars \u001b[38;5;241m=\u001b[39m \u001b[43mprocess_args_into_dataframe\u001b[49m\u001b[43m(\u001b[49m\n\u001b[0;32m   1493\u001b[0m \u001b[43m    \u001b[49m\u001b[43margs\u001b[49m\u001b[43m,\u001b[49m\u001b[43m \u001b[49m\u001b[43mwide_mode\u001b[49m\u001b[43m,\u001b[49m\u001b[43m \u001b[49m\u001b[43mvar_name\u001b[49m\u001b[43m,\u001b[49m\u001b[43m \u001b[49m\u001b[43mvalue_name\u001b[49m\n\u001b[0;32m   1494\u001b[0m \u001b[43m\u001b[49m\u001b[43m)\u001b[49m\n\u001b[0;32m   1496\u001b[0m \u001b[38;5;66;03m# now that `df_output` exists and `args` contains only references, we complete\u001b[39;00m\n\u001b[0;32m   1497\u001b[0m \u001b[38;5;66;03m# the special-case and wide-mode handling by further rewriting args and/or mutating\u001b[39;00m\n\u001b[0;32m   1498\u001b[0m \u001b[38;5;66;03m# df_output\u001b[39;00m\n\u001b[0;32m   1500\u001b[0m count_name \u001b[38;5;241m=\u001b[39m _escape_col_name(df_output, \u001b[38;5;124m\"\u001b[39m\u001b[38;5;124mcount\u001b[39m\u001b[38;5;124m\"\u001b[39m, [var_name, value_name])\n",
      "File \u001b[1;32m~\\AppData\\Roaming\\Python\\Python311\\site-packages\\plotly\\express\\_core.py:1213\u001b[0m, in \u001b[0;36mprocess_args_into_dataframe\u001b[1;34m(args, wide_mode, var_name, value_name)\u001b[0m\n\u001b[0;32m   1211\u001b[0m         \u001b[38;5;28;01mif\u001b[39;00m argument \u001b[38;5;241m==\u001b[39m \u001b[38;5;124m\"\u001b[39m\u001b[38;5;124mindex\u001b[39m\u001b[38;5;124m\"\u001b[39m:\n\u001b[0;32m   1212\u001b[0m             err_msg \u001b[38;5;241m+\u001b[39m\u001b[38;5;241m=\u001b[39m \u001b[38;5;124m\"\u001b[39m\u001b[38;5;130;01m\\n\u001b[39;00m\u001b[38;5;124m To use the index, pass it in directly as `df.index`.\u001b[39m\u001b[38;5;124m\"\u001b[39m\n\u001b[1;32m-> 1213\u001b[0m         \u001b[38;5;28;01mraise\u001b[39;00m \u001b[38;5;167;01mValueError\u001b[39;00m(err_msg)\n\u001b[0;32m   1214\u001b[0m \u001b[38;5;28;01melif\u001b[39;00m length \u001b[38;5;129;01mand\u001b[39;00m \u001b[38;5;28mlen\u001b[39m(df_input[argument]) \u001b[38;5;241m!=\u001b[39m length:\n\u001b[0;32m   1215\u001b[0m     \u001b[38;5;28;01mraise\u001b[39;00m \u001b[38;5;167;01mValueError\u001b[39;00m(\n\u001b[0;32m   1216\u001b[0m         \u001b[38;5;124m\"\u001b[39m\u001b[38;5;124mAll arguments should have the same length. \u001b[39m\u001b[38;5;124m\"\u001b[39m\n\u001b[0;32m   1217\u001b[0m         \u001b[38;5;124m\"\u001b[39m\u001b[38;5;124mThe length of column argument `df[\u001b[39m\u001b[38;5;132;01m%s\u001b[39;00m\u001b[38;5;124m]` is \u001b[39m\u001b[38;5;132;01m%d\u001b[39;00m\u001b[38;5;124m, whereas the \u001b[39m\u001b[38;5;124m\"\u001b[39m\n\u001b[1;32m   (...)\u001b[0m\n\u001b[0;32m   1224\u001b[0m         )\n\u001b[0;32m   1225\u001b[0m     )\n",
      "\u001b[1;31mValueError\u001b[0m: Value of 'x' is not the name of a column in 'data_frame'. Expected one of ['Brands', '2016', '2017', '2018', '2019', '2020', '2021', '2022', '2023', '2024', '2025', '2026', '2027', '2028'] but received: Years"
     ]
    }
   ],
   "source": [
    "fig = px.line(df, x='Years', y=y)\n",
    "fig.show()"
   ]
  },
  {
   "cell_type": "code",
   "execution_count": 110,
   "id": "36d0e111",
   "metadata": {},
   "outputs": [
    {
     "ename": "ValueError",
     "evalue": "Value of 'x' is not the name of a column in 'data_frame'. Expected one of ['Brands', '2016', '2017', '2018', '2019', '2020', '2021', '2022', '2023', '2024', '2025', '2026', '2027', '2028'] but received: Years",
     "output_type": "error",
     "traceback": [
      "\u001b[1;31m---------------------------------------------------------------------------\u001b[0m",
      "\u001b[1;31mValueError\u001b[0m                                Traceback (most recent call last)",
      "Cell \u001b[1;32mIn[110], line 1\u001b[0m\n\u001b[1;32m----> 1\u001b[0m fig \u001b[38;5;241m=\u001b[39m \u001b[43mpx\u001b[49m\u001b[38;5;241;43m.\u001b[39;49m\u001b[43mbar\u001b[49m\u001b[43m(\u001b[49m\u001b[43mdf\u001b[49m\u001b[43m,\u001b[49m\u001b[43m \u001b[49m\u001b[43mx\u001b[49m\u001b[38;5;241;43m=\u001b[39;49m\u001b[38;5;124;43m'\u001b[39;49m\u001b[38;5;124;43mYears\u001b[39;49m\u001b[38;5;124;43m'\u001b[39;49m\u001b[43m,\u001b[49m\u001b[43m \u001b[49m\u001b[43my\u001b[49m\u001b[38;5;241;43m=\u001b[39;49m\u001b[43my\u001b[49m\u001b[43m)\u001b[49m\n\u001b[0;32m      2\u001b[0m fig\u001b[38;5;241m.\u001b[39mshow()\n",
      "File \u001b[1;32m~\\AppData\\Roaming\\Python\\Python311\\site-packages\\plotly\\express\\_chart_types.py:373\u001b[0m, in \u001b[0;36mbar\u001b[1;34m(data_frame, x, y, color, pattern_shape, facet_row, facet_col, facet_col_wrap, facet_row_spacing, facet_col_spacing, hover_name, hover_data, custom_data, text, base, error_x, error_x_minus, error_y, error_y_minus, animation_frame, animation_group, category_orders, labels, color_discrete_sequence, color_discrete_map, color_continuous_scale, pattern_shape_sequence, pattern_shape_map, range_color, color_continuous_midpoint, opacity, orientation, barmode, log_x, log_y, range_x, range_y, text_auto, title, template, width, height)\u001b[0m\n\u001b[0;32m    325\u001b[0m \u001b[38;5;28;01mdef\u001b[39;00m \u001b[38;5;21mbar\u001b[39m(\n\u001b[0;32m    326\u001b[0m     data_frame\u001b[38;5;241m=\u001b[39m\u001b[38;5;28;01mNone\u001b[39;00m,\n\u001b[0;32m    327\u001b[0m     x\u001b[38;5;241m=\u001b[39m\u001b[38;5;28;01mNone\u001b[39;00m,\n\u001b[1;32m   (...)\u001b[0m\n\u001b[0;32m    367\u001b[0m     height\u001b[38;5;241m=\u001b[39m\u001b[38;5;28;01mNone\u001b[39;00m,\n\u001b[0;32m    368\u001b[0m ) \u001b[38;5;241m-\u001b[39m\u001b[38;5;241m>\u001b[39m go\u001b[38;5;241m.\u001b[39mFigure:\n\u001b[0;32m    369\u001b[0m \u001b[38;5;250m    \u001b[39m\u001b[38;5;124;03m\"\"\"\u001b[39;00m\n\u001b[0;32m    370\u001b[0m \u001b[38;5;124;03m    In a bar plot, each row of `data_frame` is represented as a rectangular\u001b[39;00m\n\u001b[0;32m    371\u001b[0m \u001b[38;5;124;03m    mark.\u001b[39;00m\n\u001b[0;32m    372\u001b[0m \u001b[38;5;124;03m    \"\"\"\u001b[39;00m\n\u001b[1;32m--> 373\u001b[0m     \u001b[38;5;28;01mreturn\u001b[39;00m \u001b[43mmake_figure\u001b[49m\u001b[43m(\u001b[49m\n\u001b[0;32m    374\u001b[0m \u001b[43m        \u001b[49m\u001b[43margs\u001b[49m\u001b[38;5;241;43m=\u001b[39;49m\u001b[38;5;28;43mlocals\u001b[39;49m\u001b[43m(\u001b[49m\u001b[43m)\u001b[49m\u001b[43m,\u001b[49m\n\u001b[0;32m    375\u001b[0m \u001b[43m        \u001b[49m\u001b[43mconstructor\u001b[49m\u001b[38;5;241;43m=\u001b[39;49m\u001b[43mgo\u001b[49m\u001b[38;5;241;43m.\u001b[39;49m\u001b[43mBar\u001b[49m\u001b[43m,\u001b[49m\n\u001b[0;32m    376\u001b[0m \u001b[43m        \u001b[49m\u001b[43mtrace_patch\u001b[49m\u001b[38;5;241;43m=\u001b[39;49m\u001b[38;5;28;43mdict\u001b[39;49m\u001b[43m(\u001b[49m\u001b[43mtextposition\u001b[49m\u001b[38;5;241;43m=\u001b[39;49m\u001b[38;5;124;43m\"\u001b[39;49m\u001b[38;5;124;43mauto\u001b[39;49m\u001b[38;5;124;43m\"\u001b[39;49m\u001b[43m)\u001b[49m\u001b[43m,\u001b[49m\n\u001b[0;32m    377\u001b[0m \u001b[43m        \u001b[49m\u001b[43mlayout_patch\u001b[49m\u001b[38;5;241;43m=\u001b[39;49m\u001b[38;5;28;43mdict\u001b[39;49m\u001b[43m(\u001b[49m\u001b[43mbarmode\u001b[49m\u001b[38;5;241;43m=\u001b[39;49m\u001b[43mbarmode\u001b[49m\u001b[43m)\u001b[49m\u001b[43m,\u001b[49m\n\u001b[0;32m    378\u001b[0m \u001b[43m    \u001b[49m\u001b[43m)\u001b[49m\n",
      "File \u001b[1;32m~\\AppData\\Roaming\\Python\\Python311\\site-packages\\plotly\\express\\_core.py:2090\u001b[0m, in \u001b[0;36mmake_figure\u001b[1;34m(args, constructor, trace_patch, layout_patch)\u001b[0m\n\u001b[0;32m   2087\u001b[0m layout_patch \u001b[38;5;241m=\u001b[39m layout_patch \u001b[38;5;129;01mor\u001b[39;00m {}\n\u001b[0;32m   2088\u001b[0m apply_default_cascade(args)\n\u001b[1;32m-> 2090\u001b[0m args \u001b[38;5;241m=\u001b[39m \u001b[43mbuild_dataframe\u001b[49m\u001b[43m(\u001b[49m\u001b[43margs\u001b[49m\u001b[43m,\u001b[49m\u001b[43m \u001b[49m\u001b[43mconstructor\u001b[49m\u001b[43m)\u001b[49m\n\u001b[0;32m   2091\u001b[0m \u001b[38;5;28;01mif\u001b[39;00m constructor \u001b[38;5;129;01min\u001b[39;00m [go\u001b[38;5;241m.\u001b[39mTreemap, go\u001b[38;5;241m.\u001b[39mSunburst, go\u001b[38;5;241m.\u001b[39mIcicle] \u001b[38;5;129;01mand\u001b[39;00m args[\u001b[38;5;124m\"\u001b[39m\u001b[38;5;124mpath\u001b[39m\u001b[38;5;124m\"\u001b[39m] \u001b[38;5;129;01mis\u001b[39;00m \u001b[38;5;129;01mnot\u001b[39;00m \u001b[38;5;28;01mNone\u001b[39;00m:\n\u001b[0;32m   2092\u001b[0m     args \u001b[38;5;241m=\u001b[39m process_dataframe_hierarchy(args)\n",
      "File \u001b[1;32m~\\AppData\\Roaming\\Python\\Python311\\site-packages\\plotly\\express\\_core.py:1492\u001b[0m, in \u001b[0;36mbuild_dataframe\u001b[1;34m(args, constructor)\u001b[0m\n\u001b[0;32m   1489\u001b[0m     args[\u001b[38;5;124m\"\u001b[39m\u001b[38;5;124mcolor\u001b[39m\u001b[38;5;124m\"\u001b[39m] \u001b[38;5;241m=\u001b[39m \u001b[38;5;28;01mNone\u001b[39;00m\n\u001b[0;32m   1490\u001b[0m \u001b[38;5;66;03m# now that things have been prepped, we do the systematic rewriting of `args`\u001b[39;00m\n\u001b[1;32m-> 1492\u001b[0m df_output, wide_id_vars \u001b[38;5;241m=\u001b[39m \u001b[43mprocess_args_into_dataframe\u001b[49m\u001b[43m(\u001b[49m\n\u001b[0;32m   1493\u001b[0m \u001b[43m    \u001b[49m\u001b[43margs\u001b[49m\u001b[43m,\u001b[49m\u001b[43m \u001b[49m\u001b[43mwide_mode\u001b[49m\u001b[43m,\u001b[49m\u001b[43m \u001b[49m\u001b[43mvar_name\u001b[49m\u001b[43m,\u001b[49m\u001b[43m \u001b[49m\u001b[43mvalue_name\u001b[49m\n\u001b[0;32m   1494\u001b[0m \u001b[43m\u001b[49m\u001b[43m)\u001b[49m\n\u001b[0;32m   1496\u001b[0m \u001b[38;5;66;03m# now that `df_output` exists and `args` contains only references, we complete\u001b[39;00m\n\u001b[0;32m   1497\u001b[0m \u001b[38;5;66;03m# the special-case and wide-mode handling by further rewriting args and/or mutating\u001b[39;00m\n\u001b[0;32m   1498\u001b[0m \u001b[38;5;66;03m# df_output\u001b[39;00m\n\u001b[0;32m   1500\u001b[0m count_name \u001b[38;5;241m=\u001b[39m _escape_col_name(df_output, \u001b[38;5;124m\"\u001b[39m\u001b[38;5;124mcount\u001b[39m\u001b[38;5;124m\"\u001b[39m, [var_name, value_name])\n",
      "File \u001b[1;32m~\\AppData\\Roaming\\Python\\Python311\\site-packages\\plotly\\express\\_core.py:1213\u001b[0m, in \u001b[0;36mprocess_args_into_dataframe\u001b[1;34m(args, wide_mode, var_name, value_name)\u001b[0m\n\u001b[0;32m   1211\u001b[0m         \u001b[38;5;28;01mif\u001b[39;00m argument \u001b[38;5;241m==\u001b[39m \u001b[38;5;124m\"\u001b[39m\u001b[38;5;124mindex\u001b[39m\u001b[38;5;124m\"\u001b[39m:\n\u001b[0;32m   1212\u001b[0m             err_msg \u001b[38;5;241m+\u001b[39m\u001b[38;5;241m=\u001b[39m \u001b[38;5;124m\"\u001b[39m\u001b[38;5;130;01m\\n\u001b[39;00m\u001b[38;5;124m To use the index, pass it in directly as `df.index`.\u001b[39m\u001b[38;5;124m\"\u001b[39m\n\u001b[1;32m-> 1213\u001b[0m         \u001b[38;5;28;01mraise\u001b[39;00m \u001b[38;5;167;01mValueError\u001b[39;00m(err_msg)\n\u001b[0;32m   1214\u001b[0m \u001b[38;5;28;01melif\u001b[39;00m length \u001b[38;5;129;01mand\u001b[39;00m \u001b[38;5;28mlen\u001b[39m(df_input[argument]) \u001b[38;5;241m!=\u001b[39m length:\n\u001b[0;32m   1215\u001b[0m     \u001b[38;5;28;01mraise\u001b[39;00m \u001b[38;5;167;01mValueError\u001b[39;00m(\n\u001b[0;32m   1216\u001b[0m         \u001b[38;5;124m\"\u001b[39m\u001b[38;5;124mAll arguments should have the same length. \u001b[39m\u001b[38;5;124m\"\u001b[39m\n\u001b[0;32m   1217\u001b[0m         \u001b[38;5;124m\"\u001b[39m\u001b[38;5;124mThe length of column argument `df[\u001b[39m\u001b[38;5;132;01m%s\u001b[39;00m\u001b[38;5;124m]` is \u001b[39m\u001b[38;5;132;01m%d\u001b[39;00m\u001b[38;5;124m, whereas the \u001b[39m\u001b[38;5;124m\"\u001b[39m\n\u001b[1;32m   (...)\u001b[0m\n\u001b[0;32m   1224\u001b[0m         )\n\u001b[0;32m   1225\u001b[0m     )\n",
      "\u001b[1;31mValueError\u001b[0m: Value of 'x' is not the name of a column in 'data_frame'. Expected one of ['Brands', '2016', '2017', '2018', '2019', '2020', '2021', '2022', '2023', '2024', '2025', '2026', '2027', '2028'] but received: Years"
     ]
    }
   ],
   "source": [
    "fig = px.bar(df, x='Years', y=y)\n",
    "fig.show()"
   ]
  },
  {
   "cell_type": "code",
   "execution_count": 111,
   "id": "ede5b37f",
   "metadata": {},
   "outputs": [
    {
     "name": "stdout",
     "output_type": "stream",
     "text": [
      "    Brands     2016      2017     2018      2019     2020     2021      2022  \\\n",
      "0    Apple    79918     92956    36311     98601    70320    51261     92014   \n",
      "1       Mi  3315550   1409596  9277163   1660474  9992642  8448689   3212109   \n",
      "2  Samsung  9394877   6224008  2676267  10854249  9698714  5601749  11744976   \n",
      "3    Nokia  9957350  10681674  8963409   9150408  8832315  7767173   5021397   \n",
      "4     Moto  8811559   8960636  9256990   5709109  9261169  1095159  11050079   \n",
      "5     Vivo  3216518   1199904  6631994   7478769  6015910  4286578  11175540   \n",
      "6     Oppo  4292105   4892096  5552392   7785292  2739808  6624464   5224112   \n",
      "\n",
      "      2023     2024     2025      2026      2027      2028  \n",
      "0    78019    74848    74831     74814     74797     74780  \n",
      "1  3837745  6136104  6356516   6576929   6797342   7017755  \n",
      "2  6454424  8615582  8789898   8964215   9138531   9312848  \n",
      "3  9566786  6870664  6454686   6038708   5622731   5206753  \n",
      "4  2209602  4006792  3331793   2656794   1981795   1306796  \n",
      "5  5852808  8937597  9649896  10362195  11074494  11786793  \n",
      "6  8943846  7492104  7877735   8263365   8648996   9034627  \n"
     ]
    }
   ],
   "source": [
    "print(df)"
   ]
  },
  {
   "cell_type": "code",
   "execution_count": null,
   "id": "b3299c81",
   "metadata": {},
   "outputs": [],
   "source": []
  }
 ],
 "metadata": {
  "kernelspec": {
   "display_name": "Python 3 (ipykernel)",
   "language": "python",
   "name": "python3"
  },
  "language_info": {
   "codemirror_mode": {
    "name": "ipython",
    "version": 3
   },
   "file_extension": ".py",
   "mimetype": "text/x-python",
   "name": "python",
   "nbconvert_exporter": "python",
   "pygments_lexer": "ipython3",
   "version": "3.11.4"
  }
 },
 "nbformat": 4,
 "nbformat_minor": 5
}
