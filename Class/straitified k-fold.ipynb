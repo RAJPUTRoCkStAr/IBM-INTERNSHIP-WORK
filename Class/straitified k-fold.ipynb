{
 "cells": [
  {
   "cell_type": "code",
   "execution_count": 1,
   "id": "61793623-0de0-4f10-a448-3a1a40a8e9b6",
   "metadata": {},
   "outputs": [],
   "source": [
    "from sklearn.model_selection import StratifiedKFold\n",
    "from sklearn.linear_model import LogisticRegression\n",
    "from sklearn.metrics import accuracy_score\n",
    "import numpy as np"
   ]
  },
  {
   "cell_type": "code",
   "execution_count": 6,
   "id": "872e0761-a49d-4e47-bf27-ee1e05c8c950",
   "metadata": {},
   "outputs": [
    {
     "name": "stdout",
     "output_type": "stream",
     "text": [
      "Average accuracy: 1.0\n"
     ]
    }
   ],
   "source": [
    "x = np.array([[1,2], [3,4], [1,2], [3,4], [1,2], [3,4]])\n",
    "y = np.array([0,1,0,1,0,1])\n",
    "\n",
    "skf = StratifiedKFold(n_splits= 3, shuffle = True, random_state=42)\n",
    "model = LogisticRegression()\n",
    "accuracies = []\n",
    "\n",
    "for train_index, test_index in skf.split(x,y):\n",
    "    x_train, x_test = x[train_index], x[test_index]\n",
    "    y_train, y_test = y[train_index], y[test_index]\n",
    "\n",
    "    model.fit(x_train,y_train)\n",
    "    predictions = model.predict(x_test)\n",
    "\n",
    "    accuracy = accuracy_score(y_test, predictions)\n",
    "    accuracies.append (accuracy)\n",
    "\n",
    "print(f\"Average accuracy: {np.mean(accuracies)}\")"
   ]
  },
  {
   "cell_type": "code",
   "execution_count": null,
   "id": "8ea61597-5ac9-4d5a-b0f2-ca221115d886",
   "metadata": {},
   "outputs": [],
   "source": []
  }
 ],
 "metadata": {
  "kernelspec": {
   "display_name": "Python 3 (ipykernel)",
   "language": "python",
   "name": "python3"
  },
  "language_info": {
   "codemirror_mode": {
    "name": "ipython",
    "version": 3
   },
   "file_extension": ".py",
   "mimetype": "text/x-python",
   "name": "python",
   "nbconvert_exporter": "python",
   "pygments_lexer": "ipython3",
   "version": "3.11.4"
  }
 },
 "nbformat": 4,
 "nbformat_minor": 5
}
