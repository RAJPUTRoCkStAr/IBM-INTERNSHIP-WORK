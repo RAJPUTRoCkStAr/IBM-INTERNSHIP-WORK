{
 "cells": [
  {
   "cell_type": "code",
   "execution_count": 1,
   "id": "5a20eda8-2b67-4cd0-968e-b6bcb279c835",
   "metadata": {},
   "outputs": [],
   "source": [
    "import numpy as np\n",
    "train_input = np.array(\n",
    "    [\n",
    "        [1,1,0],\n",
    "        [0,1,0],\n",
    "        [0,0,1],\n",
    "        [1,0,0]\n",
    "    ]\n",
    ")\n",
    "train_output = np.array(\n",
    "    [\n",
    "        [1],\n",
    "        [0],\n",
    "        [0],\n",
    "        [1]\n",
    "    ]\n",
    ")"
   ]
  },
  {
   "cell_type": "code",
   "execution_count": 9,
   "id": "831409d8-2f4f-482b-aaaa-15331d9724e7",
   "metadata": {},
   "outputs": [],
   "source": [
    "weight =2*np.random.random((3,1))-1"
   ]
  },
  {
   "cell_type": "code",
   "execution_count": 10,
   "id": "59b54f38-f519-4cc2-bad4-e3d1fc98e280",
   "metadata": {},
   "outputs": [
    {
     "data": {
      "text/plain": [
       "array([[-0.55794511],\n",
       "       [-0.61541836],\n",
       "       [ 0.99452349]])"
      ]
     },
     "execution_count": 10,
     "metadata": {},
     "output_type": "execute_result"
    }
   ],
   "source": [
    "weight"
   ]
  },
  {
   "cell_type": "code",
   "execution_count": 11,
   "id": "ba3dfb19-9369-4604-9a1c-f71f64665ceb",
   "metadata": {},
   "outputs": [],
   "source": [
    "# summation\n",
    "# def summation(a,b):\n",
    "#     np.dot(a,b)\n",
    "\n",
    "def activation(x):\n",
    "    return (1/(1+np.exp(-x)))\n",
    "    \n",
    "    "
   ]
  },
  {
   "cell_type": "code",
   "execution_count": 12,
   "id": "430fdc41-0d6a-4ad9-99d2-326e343e7789",
   "metadata": {},
   "outputs": [],
   "source": [
    "pred_output = activation(np.dot(train_input,weight))"
   ]
  },
  {
   "cell_type": "code",
   "execution_count": 13,
   "id": "dfb41159-5164-491a-a66e-ea1a4c318a3a",
   "metadata": {},
   "outputs": [
    {
     "data": {
      "text/plain": [
       "array([[0.23624756],\n",
       "       [0.35082419],\n",
       "       [0.72998047],\n",
       "       [0.36402305]])"
      ]
     },
     "execution_count": 13,
     "metadata": {},
     "output_type": "execute_result"
    }
   ],
   "source": [
    "pred_output"
   ]
  },
  {
   "cell_type": "code",
   "execution_count": 15,
   "id": "784774ee-b16f-4f32-8a65-06cdb7d2ca20",
   "metadata": {},
   "outputs": [
    {
     "data": {
      "text/plain": [
       "array([[ 0.76375244],\n",
       "       [-0.35082419],\n",
       "       [-0.72998047],\n",
       "       [ 0.63597695]])"
      ]
     },
     "execution_count": 15,
     "metadata": {},
     "output_type": "execute_result"
    }
   ],
   "source": [
    "error = train_output-pred_output\n",
    "error"
   ]
  },
  {
   "cell_type": "code",
   "execution_count": 16,
   "id": "c36c2926-a8c2-4f04-a380-d357b27e0318",
   "metadata": {},
   "outputs": [],
   "source": [
    "def derivative(x):\n",
    "    return (x*(1-x))"
   ]
  },
  {
   "cell_type": "code",
   "execution_count": 20,
   "id": "5d1e7da8-4feb-4db8-8f0c-8432f941e916",
   "metadata": {},
   "outputs": [
    {
     "data": {
      "text/plain": [
       "array([[ 0.1378074 ],\n",
       "       [-0.07989901],\n",
       "       [-0.14388571],\n",
       "       [ 0.14723519]])"
      ]
     },
     "execution_count": 20,
     "metadata": {},
     "output_type": "execute_result"
    }
   ],
   "source": [
    "adjusted_values = error*derivative(pred_output)\n",
    "adjusted_values"
   ]
  },
  {
   "cell_type": "code",
   "execution_count": 22,
   "id": "a1d105d0-0f1f-4ef4-9ab6-1b1ca9322e12",
   "metadata": {},
   "outputs": [],
   "source": [
    "weight +=np.dot(train_input.T, adjusted_values)"
   ]
  },
  {
   "cell_type": "code",
   "execution_count": 23,
   "id": "adcd12b6-870a-4700-8f47-1273352b5dfb",
   "metadata": {},
   "outputs": [
    {
     "data": {
      "text/plain": [
       "array([[-0.27290251],\n",
       "       [-0.55750996],\n",
       "       [ 0.85063778]])"
      ]
     },
     "execution_count": 23,
     "metadata": {},
     "output_type": "execute_result"
    }
   ],
   "source": [
    "weight"
   ]
  },
  {
   "cell_type": "code",
   "execution_count": 30,
   "id": "4bb93485-546e-456e-bdf7-3dd2b7590a54",
   "metadata": {},
   "outputs": [],
   "source": [
    "for i in range(10000):\n",
    "    pred_output =activation(np.dot(train_input, weight))  #output 1\n",
    "    error = train_output-pred_output\n",
    "    updates = error*derivative(pred_output)\n",
    "    weight = np.dot( train_input.T,updates)"
   ]
  },
  {
   "cell_type": "code",
   "execution_count": 31,
   "id": "c6031d18-4ca8-4e9e-a790-385fe33e432d",
   "metadata": {},
   "outputs": [
    {
     "data": {
      "text/plain": [
       "array([[ 0.22079076],\n",
       "       [-0.01328488],\n",
       "       [-0.11727501]])"
      ]
     },
     "execution_count": 31,
     "metadata": {},
     "output_type": "execute_result"
    }
   ],
   "source": [
    "weight"
   ]
  },
  {
   "cell_type": "code",
   "execution_count": 34,
   "id": "8d2cbd83-5175-4c30-8924-669cffa8a3a6",
   "metadata": {},
   "outputs": [
    {
     "name": "stdout",
     "output_type": "stream",
     "text": [
      "[[0.55169112]\n",
      " [0.49667883]\n",
      " [0.47071481]\n",
      " [0.55497454]]\n"
     ]
    }
   ],
   "source": [
    "print(np.round(pred_output))"
   ]
  },
  {
   "cell_type": "code",
   "execution_count": 35,
   "id": "3edf3b4e-05a5-4168-973a-9702cb22141b",
   "metadata": {},
   "outputs": [],
   "source": [
    "import tensorflow as tf\n",
    "from tensorflow import keras\n",
    "import matplotlib.pyplot as plt"
   ]
  },
  {
   "cell_type": "code",
   "execution_count": 38,
   "id": "30b41ff1-9efe-4be6-a61b-8eb051deef08",
   "metadata": {},
   "outputs": [],
   "source": [
    "(x_train,y_train), (x_test,y_test) = keras.datasets.mnist.load_data()"
   ]
  },
  {
   "cell_type": "code",
   "execution_count": 43,
   "id": "59308a4c-6ed6-4a5c-9407-75ecc1301eeb",
   "metadata": {},
   "outputs": [
    {
     "data": {
      "text/plain": [
       "10000"
      ]
     },
     "execution_count": 43,
     "metadata": {},
     "output_type": "execute_result"
    }
   ],
   "source": [
    "# len(x_train)\n",
    "len(x_test)"
   ]
  },
  {
   "cell_type": "code",
   "execution_count": 52,
   "id": "5e8e1223-9002-49f7-85f2-440269676915",
   "metadata": {},
   "outputs": [
    {
     "data": {
      "text/plain": [
       "<matplotlib.image.AxesImage at 0x2ae7e288710>"
      ]
     },
     "execution_count": 52,
     "metadata": {},
     "output_type": "execute_result"
    },
    {
     "data": {
      "image/png": "[encoded data removed]",
      "text/plain": [
       "<Figure size 480x480 with 1 Axes>"
      ]
     },
     "metadata": {},
     "output_type": "display_data"
    }
   ],
   "source": [
    "# plt.figure(figsize=(4,4))\n",
    "plt.matshow(x_train[4])"
   ]
  },
  {
   "cell_type": "code",
   "execution_count": 53,
   "id": "c90ced81-e60a-421d-9822-a61756ca8e5d",
   "metadata": {},
   "outputs": [
    {
     "data": {
      "text/plain": [
       "(60000, 28, 28)"
      ]
     },
     "execution_count": 53,
     "metadata": {},
     "output_type": "execute_result"
    }
   ],
   "source": [
    "x_train.shape"
   ]
  },
  {
   "cell_type": "code",
   "execution_count": null,
   "id": "b30faf7b-136e-4709-9f07-632a8ece03a3",
   "metadata": {},
   "outputs": [],
   "source": []
  }
 ],
 "metadata": {
  "kernelspec": {
   "display_name": "Python 3 (ipykernel)",
   "language": "python",
   "name": "python3"
  },
  "language_info": {
   "codemirror_mode": {
    "name": "ipython",
    "version": 3
   },
   "file_extension": ".py",
   "mimetype": "text/x-python",
   "name": "python",
   "nbconvert_exporter": "python",
   "pygments_lexer": "ipython3",
   "version": "3.11.4"
  }
 },
 "nbformat": 4,
 "nbformat_minor": 5
}
