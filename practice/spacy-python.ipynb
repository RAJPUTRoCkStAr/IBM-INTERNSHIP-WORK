{
 "cells": [
  {
   "cell_type": "code",
   "execution_count": 1,
   "id": "2bd43ea4-603c-4866-9f16-459da6be2099",
   "metadata": {},
   "outputs": [],
   "source": [
    "import spacy\n",
    "nlp = spacy.load('en_core_web_sm')  "
   ]
  },
  {
   "cell_type": "code",
   "execution_count": 2,
   "id": "294c0417-e9c1-404f-9f12-f9321b070b6c",
   "metadata": {},
   "outputs": [
    {
     "name": "stdout",
     "output_type": "stream",
     "text": [
      "Apple PROPN nsubj\n",
      "is AUX aux\n",
      "looking VERB ROOT\n",
      "at ADP prep\n",
      "buying VERB pcomp\n",
      "U.K. PROPN dobj\n",
      "startup NOUN dep\n",
      "for ADP prep\n",
      "$ SYM quantmod\n",
      "1 NUM compound\n",
      "billion NUM pobj\n"
     ]
    }
   ],
   "source": [
    "doc = nlp(\"Apple is looking at buying U.K. startup for $1 billion\")\n",
    "\n",
    "for token in doc:\n",
    "    print(token.text, token.pos_, token.dep_)"
   ]
  },
  {
   "cell_type": "code",
   "execution_count": 3,
   "id": "03ad8af6-e6ed-46ff-bf7e-08eff8e7b287",
   "metadata": {},
   "outputs": [
    {
     "name": "stdout",
     "output_type": "stream",
     "text": [
      "Apple Apple\n",
      "is be\n",
      "looking look\n",
      "at at\n",
      "buying buy\n",
      "U.K. U.K.\n",
      "startup startup\n",
      "for for\n",
      "$ $\n",
      "1 1\n",
      "billion billion\n"
     ]
    }
   ],
   "source": [
    "for token in doc:\n",
    "    print(token.text, token.lemma_)\n"
   ]
  },
  {
   "cell_type": "code",
   "execution_count": 4,
   "id": "5b96f138-e839-4347-89c7-c144e6961c30",
   "metadata": {},
   "outputs": [
    {
     "name": "stdout",
     "output_type": "stream",
     "text": [
      "Apple\n",
      "is\n",
      "looking\n",
      "at\n",
      "buying\n",
      "U.K.\n",
      "startup\n",
      "for\n",
      "$\n",
      "1\n",
      "billion\n"
     ]
    }
   ],
   "source": [
    "for token in doc:\n",
    "    print(token.text)"
   ]
  },
  {
   "cell_type": "code",
   "execution_count": 5,
   "id": "9b594eb9-aaa0-4ca7-9ede-710fe394f22c",
   "metadata": {},
   "outputs": [
    {
     "name": "stdout",
     "output_type": "stream",
     "text": [
      "Apple Apple PROPN NNP nsubj Xxxxx True False\n",
      "is be AUX VBZ aux xx True True\n",
      "looking look VERB VBG ROOT xxxx True False\n",
      "at at ADP IN prep xx True True\n",
      "buying buy VERB VBG pcomp xxxx True False\n",
      "U.K. U.K. PROPN NNP dobj X.X. False False\n",
      "startup startup NOUN NN dep xxxx True False\n",
      "for for ADP IN prep xxx True True\n",
      "$ $ SYM $ quantmod $ False False\n",
      "1 1 NUM CD compound d False False\n",
      "billion billion NUM CD pobj xxxx True False\n"
     ]
    }
   ],
   "source": [
    "for token in doc:\n",
    "    print(token.text, token.lemma_, token.pos_, token.tag_, token.dep_,\n",
    "            token.shape_, token.is_alpha, token.is_stop)"
   ]
  },
  {
   "cell_type": "code",
   "execution_count": 6,
   "id": "c71d07ef-974c-47b2-b82d-d7db8dd988e9",
   "metadata": {},
   "outputs": [
    {
     "name": "stdout",
     "output_type": "stream",
     "text": [
      "Apple 0 5 ORG Companies, agencies, institutions, etc.\n",
      "U.K. 27 31 GPE Countries, cities, states\n",
      "$1 billion 44 54 MONEY Monetary values, including unit\n"
     ]
    }
   ],
   "source": [
    "dod = nlp(\"Apple is looking very tasty lets eat it\")\n",
    "for ent in doc.ents:\n",
    "    print(ent.text, ent.start_char, ent.end_char, ent.label_, spacy.explain(ent.label_))\n"
   ]
  },
  {
   "cell_type": "code",
   "execution_count": 7,
   "id": "b577df60-03cb-4d19-ad2e-4ce634d7217b",
   "metadata": {},
   "outputs": [
    {
     "data": {
      "text/plain": [
       "'Non-GPE locations, mountain ranges, bodies of water'"
      ]
     },
     "execution_count": 7,
     "metadata": {},
     "output_type": "execute_result"
    }
   ],
   "source": [
    "spacy.explain('LOC')"
   ]
  },
  {
   "cell_type": "code",
   "execution_count": 52,
   "id": "c4c968dc-052b-4566-a403-e5dbfe302b4e",
   "metadata": {},
   "outputs": [
    {
     "data": {
      "text/plain": [
       "'india'"
      ]
     },
     "execution_count": 52,
     "metadata": {},
     "output_type": "execute_result"
    }
   ],
   "source": [
    "from spacy.tokens import Span\n",
    "doc = nlp(\"i live in india\")\n",
    "span = Span(doc,3,4,label='GPE')\n",
    "span.text"
   ]
  },
  {
   "cell_type": "code",
   "execution_count": 9,
   "id": "fee139e3-807c-45d8-8a3e-97f796201392",
   "metadata": {},
   "outputs": [
    {
     "data": {
      "text/html": [
       "<span class=\"tex2jax_ignore\"><div class=\"entities\" style=\"line-height: 2.5; direction: ltr\">\n",
       "<mark class=\"entity\" style=\"background: #7aecec; padding: 0.45em 0.6em; margin: 0 0.25em; line-height: 1; border-radius: 0.35em;\">\n",
       "    Apple\n",
       "    <span style=\"font-size: 0.8em; font-weight: bold; line-height: 1; border-radius: 0.35em; vertical-align: middle; margin-left: 0.5rem\">ORG</span>\n",
       "</mark>\n",
       " is looking at buying \n",
       "<mark class=\"entity\" style=\"background: #feca74; padding: 0.45em 0.6em; margin: 0 0.25em; line-height: 1; border-radius: 0.35em;\">\n",
       "    U.K.\n",
       "    <span style=\"font-size: 0.8em; font-weight: bold; line-height: 1; border-radius: 0.35em; vertical-align: middle; margin-left: 0.5rem\">GPE</span>\n",
       "</mark>\n",
       " startup for \n",
       "<mark class=\"entity\" style=\"background: #e4e7d2; padding: 0.45em 0.6em; margin: 0 0.25em; line-height: 1; border-radius: 0.35em;\">\n",
       "    $1 billion\n",
       "    <span style=\"font-size: 0.8em; font-weight: bold; line-height: 1; border-radius: 0.35em; vertical-align: middle; margin-left: 0.5rem\">MONEY</span>\n",
       "</mark>\n",
       "</div></span>"
      ],
      "text/plain": [
       "<IPython.core.display.HTML object>"
      ]
     },
     "metadata": {},
     "output_type": "display_data"
    }
   ],
   "source": [
    "\n",
    "from spacy import displacy\n",
    "# displacy.render(doc,style=\"dep\")\n",
    "displacy.render(doc,style=\"ent\")\n",
    "# displacy.serve(doc,style=\"ent\")"
   ]
  },
  {
   "cell_type": "code",
   "execution_count": 10,
   "id": "98b5069d-cc04-4d45-82cf-43570e4795dc",
   "metadata": {},
   "outputs": [
    {
     "name": "stdout",
     "output_type": "stream",
     "text": [
      "dog True 75.254234 False\n",
      "cat True 63.188496 False\n",
      "banana True 31.620354 False\n",
      "afskfsd False 0.0 True\n"
     ]
    }
   ],
   "source": [
    "import spacy\n",
    "\n",
    "nlp = spacy.load(\"en_core_web_md\")\n",
    "tokens = nlp(\"dog cat banana afskfsd\")\n",
    "\n",
    "for token in tokens:\n",
    "    print(token.text, token.has_vector, token.vector_norm, token.is_oov)\n"
   ]
  },
  {
   "cell_type": "code",
   "execution_count": 12,
   "id": "ded736f4-2fdf-4b9e-aae6-631d497aae36",
   "metadata": {},
   "outputs": [
    {
     "name": "stdout",
     "output_type": "stream",
     "text": [
      "['tok2vec', 'tagger', 'parser', 'attribute_ruler', 'lemmatizer', 'ner']\n"
     ]
    }
   ],
   "source": [
    "print(nlp.pipe_names)\n"
   ]
  },
  {
   "cell_type": "code",
   "execution_count": 3,
   "id": "02e158c6-28be-470e-9c4a-65a7983db34e",
   "metadata": {},
   "outputs": [
    {
     "name": "stdout",
     "output_type": "stream",
     "text": [
      "Iron\n",
      "loved\n",
      "the\n",
      "pav\n",
      "which\n",
      "cost\n",
      "$\n",
      "25\n",
      "per\n",
      "plate\n"
     ]
    }
   ],
   "source": [
    "import spacy\n",
    "nlp = spacy.blank(\"en\")\n",
    "doc = nlp(\"Iron loved the pav which cost $25 per plate\")\n",
    "for token in doc:\n",
    "    print(token)"
   ]
  },
  {
   "cell_type": "code",
   "execution_count": 8,
   "id": "ec189d6d-03d5-4051-91c6-3391b1b7dac1",
   "metadata": {},
   "outputs": [
    {
     "data": {
      "text/plain": [
       "spacy.tokens.span.Span"
      ]
     },
     "execution_count": 8,
     "metadata": {},
     "output_type": "execute_result"
    }
   ],
   "source": [
    "tt = doc[1:5]\n",
    "type(tt)"
   ]
  },
  {
   "cell_type": "code",
   "execution_count": 14,
   "id": "a5e6972b-74d7-4f5d-a1c3-352199ad497c",
   "metadata": {},
   "outputs": [
    {
     "data": {
      "text/plain": [
       "True"
      ]
     },
     "execution_count": 14,
     "metadata": {},
     "output_type": "execute_result"
    }
   ],
   "source": [
    "t1 = doc[-3]\n",
    "t1.like_num"
   ]
  },
  {
   "cell_type": "code",
   "execution_count": 16,
   "id": "aea5e357-3989-43ca-bfb2-9bc650354514",
   "metadata": {},
   "outputs": [
    {
     "name": "stdout",
     "output_type": "stream",
     "text": [
      "Iron ==> index : 0 is_alpha : True is_currenecy : False is_number : False\n",
      "loved ==> index : 1 is_alpha : True is_currenecy : False is_number : False\n",
      "the ==> index : 2 is_alpha : True is_currenecy : False is_number : False\n",
      "pav ==> index : 3 is_alpha : True is_currenecy : False is_number : False\n",
      "which ==> index : 4 is_alpha : True is_currenecy : False is_number : False\n",
      "cost ==> index : 5 is_alpha : True is_currenecy : False is_number : False\n",
      "$ ==> index : 6 is_alpha : False is_currenecy : True is_number : False\n",
      "25 ==> index : 7 is_alpha : False is_currenecy : False is_number : True\n",
      "per ==> index : 8 is_alpha : True is_currenecy : False is_number : False\n",
      "plate ==> index : 9 is_alpha : True is_currenecy : False is_number : False\n"
     ]
    }
   ],
   "source": [
    "for token in doc:\n",
    "    print(token, \"==>\",\"index :\",token.i,\n",
    "         \"is_alpha :\",token.is_alpha,\n",
    "         \"is_currenecy :\",token.is_currency,\n",
    "         \"is_number :\",token.like_num)"
   ]
  },
  {
   "cell_type": "code",
   "execution_count": 18,
   "id": "b6fdff94-2795-4985-9f90-32baf24b7505",
   "metadata": {},
   "outputs": [
    {
     "data": {
      "text/plain": [
       "['gim', 'me', 'double', 'cheese', 'extra', 'large', 'healty', 'pizza']"
      ]
     },
     "execution_count": 18,
     "metadata": {},
     "output_type": "execute_result"
    }
   ],
   "source": [
    "from spacy.symbols import ORTH\n",
    "nlp.tokenizer.add_special_case(\"gimme\",[\n",
    "    {ORTH:\"gim\"},\n",
    "    {ORTH:\"me\"}\n",
    "])\n",
    "doc = nlp(\"gimme double cheese extra large healty pizza\")\n",
    "token = [token.text for token in doc]\n",
    "tokenb"
   ]
  },
  {
   "cell_type": "code",
   "execution_count": 20,
   "id": "53ae0d14-4c46-45ec-bba0-58ee00d9dd72",
   "metadata": {},
   "outputs": [
    {
     "data": {
      "text/plain": [
       "<spacy.pipeline.sentencizer.Sentencizer at 0x20657f09cd0>"
      ]
     },
     "execution_count": 20,
     "metadata": {},
     "output_type": "execute_result"
    }
   ],
   "source": [
    "nlp.add_pipe('sentencizer')"
   ]
  },
  {
   "cell_type": "code",
   "execution_count": 21,
   "id": "fb8a6696-734e-4e8c-9de6-7b76abfaf418",
   "metadata": {},
   "outputs": [
    {
     "data": {
      "text/plain": [
       "['sentencizer']"
      ]
     },
     "execution_count": 21,
     "metadata": {},
     "output_type": "execute_result"
    }
   ],
   "source": [
    "nlp.pipe_names"
   ]
  },
  {
   "cell_type": "code",
   "execution_count": 25,
   "id": "fa240f75-4c85-48af-8067-bfa5789a01bc",
   "metadata": {},
   "outputs": [
    {
     "name": "stdout",
     "output_type": "stream",
     "text": [
      "Iron loved the pav.\n",
      "which cost $25 per plate\n"
     ]
    }
   ],
   "source": [
    "doc = nlp(\"Iron loved the pav. which cost $25 per plate\")\n",
    "for sentence in doc.sents:\n",
    "    print(sentence)"
   ]
  },
  {
   "cell_type": "raw",
   "id": "740a5fd4-c150-46a7-9925-695d0daca3db",
   "metadata": {},
   "source": [
    "Excerise"
   ]
  },
  {
   "cell_type": "code",
   "execution_count": 28,
   "id": "084e6c6b-657d-4832-b39d-92451052b9cf",
   "metadata": {},
   "outputs": [
    {
     "name": "stdout",
     "output_type": "stream",
     "text": [
      "[http://www.data.gov/, http://www.science, http://data.gov.uk/., http://www3.norc.org/gss+website/, http://www.europeansocialsurvey.org/.]\n"
     ]
    }
   ],
   "source": [
    "text='''\n",
    "Look for data to help you address the question. Governments are good\n",
    "sources because data from public research is often freely available. Good\n",
    "places to start include http://www.data.gov/, and http://www.science.\n",
    "gov/, and in the United Kingdom, http://data.gov.uk/.\n",
    "Two of my favorite data sets are the General Social Survey at http://www3.norc.org/gss+website/, \n",
    "and the European Social Survey at http://www.europeansocialsurvey.org/.\n",
    "'''\n",
    "url= []\n",
    "ft = nlp(text)\n",
    "for gg in ft:\n",
    "    if gg.like_url:\n",
    "        url.append(gg)\n",
    "\n",
    "print(url)"
   ]
  },
  {
   "cell_type": "code",
   "execution_count": 29,
   "id": "26594671-c634-4a70-80d4-7c231acaf823",
   "metadata": {},
   "outputs": [
    {
     "data": {
      "text/plain": [
       "['sentencizer']"
      ]
     },
     "execution_count": 29,
     "metadata": {},
     "output_type": "execute_result"
    }
   ],
   "source": [
    "nlp.pipe_names"
   ]
  },
  {
   "cell_type": "code",
   "execution_count": 30,
   "id": "068b1aa7-19ed-43bd-88d9-4e648f03300e",
   "metadata": {},
   "outputs": [],
   "source": [
    "nlp = spacy.load(\"en_core_web_sm\")"
   ]
  },
  {
   "cell_type": "code",
   "execution_count": 31,
   "id": "f0d797e4-730f-4248-adef-78bb55b0e2e8",
   "metadata": {},
   "outputs": [
    {
     "data": {
      "text/plain": [
       "[('tok2vec', <spacy.pipeline.tok2vec.Tok2Vec at 0x20658db4f50>),\n",
       " ('tagger', <spacy.pipeline.tagger.Tagger at 0x20658db48f0>),\n",
       " ('parser', <spacy.pipeline.dep_parser.DependencyParser at 0x2065928fb50>),\n",
       " ('attribute_ruler',\n",
       "  <spacy.pipeline.attributeruler.AttributeRuler at 0x2065919ad10>),\n",
       " ('lemmatizer', <spacy.lang.en.lemmatizer.EnglishLemmatizer at 0x206591a2590>),\n",
       " ('ner', <spacy.pipeline.ner.EntityRecognizer at 0x2065928fe60>)]"
      ]
     },
     "execution_count": 31,
     "metadata": {},
     "output_type": "execute_result"
    }
   ],
   "source": [
    "nlp.pipeline"
   ]
  },
  {
   "cell_type": "code",
   "execution_count": 34,
   "id": "df63e7ae-e71a-4f90-9391-6a02b44ced3e",
   "metadata": {},
   "outputs": [
    {
     "name": "stdout",
     "output_type": "stream",
     "text": [
      "Bro | BROTHER\n",
      ", | ,\n",
      "you | you\n",
      "wanna | wanna\n",
      "go | go\n",
      "! | !\n",
      "Brah | BROTHER\n",
      ", | ,\n",
      "do | do\n",
      "n't | not\n",
      "say | say\n",
      "no | no\n",
      "! | !\n"
     ]
    }
   ],
   "source": [
    "ar = nlp.get_pipe('attribute_ruler')\n",
    "ar.add([[{\"TEXT\":\"Bro\"}],[{\"TEXT\":\"Brah\"}]],{\"LEMMA\":\"BROTHER\"})\n",
    "doc = nlp(\"Bro , you wanna go ! Brah , don't say no!\")\n",
    "for token in doc:\n",
    "    print(token.text,\"|\",token.lemma_)"
   ]
  },
  {
   "cell_type": "code",
   "execution_count": 35,
   "id": "e9e04ffe-cce1-4493-822f-1341e4d0dcce",
   "metadata": {},
   "outputs": [],
   "source": [
    "earnings_text=\"\"\"Microsoft Corp. today announced the following results for the quarter ended December 31, 2021, as compared to the corresponding period of last fiscal year:\n",
    "\n",
    "·         Revenue was $51.7 billion and increased 20%\n",
    "·         Operating income was $22.2 billion and increased 24%\n",
    "·         Net income was $18.8 billion and increased 21%\n",
    "·         Diluted earnings per share was $2.48 and increased 22%\n",
    "“Digital technology is the most malleable resource at the world’s disposal to overcome constraints and reimagine everyday work and life,” said Satya Nadella, chairman and chief executive officer of Microsoft. “As tech as a percentage of global GDP continues to increase, we are innovating and investing across diverse and growing markets, with a common underlying technology stack and an operating model that reinforces a common strategy, culture, and sense of purpose.”\n",
    "“Solid commercial execution, represented by strong bookings growth driven by long-term Azure commitments, increased Microsoft Cloud revenue to $22.1 billion, up 32% year over year” said Amy Hood, executive vice president and chief financial officer of Microsoft.\"\"\"\n",
    "\n",
    "doc = nlp(earnings_text)\n",
    "\n",
    "filtered_tokens = []\n",
    "\n",
    "for token in doc:\n",
    "    if token.pos_ not in [\"SPACE\", \"PUNCT\", \"X\"]:\n",
    "        filtered_tokens.append(token)"
   ]
  },
  {
   "cell_type": "code",
   "execution_count": 36,
   "id": "512eacc0-0755-4742-a94a-1ec6ee46253c",
   "metadata": {},
   "outputs": [
    {
     "data": {
      "text/plain": [
       "[Microsoft,\n",
       " Corp.,\n",
       " today,\n",
       " announced,\n",
       " the,\n",
       " following,\n",
       " results,\n",
       " for,\n",
       " the,\n",
       " quarter]"
      ]
     },
     "execution_count": 36,
     "metadata": {},
     "output_type": "execute_result"
    }
   ],
   "source": [
    "filtered_tokens[:10]"
   ]
  },
  {
   "cell_type": "code",
   "execution_count": 37,
   "id": "1bb4b5c1-5360-4020-935d-bbcbddd7969f",
   "metadata": {},
   "outputs": [
    {
     "data": {
      "text/plain": [
       "{96: 13,\n",
       " 92: 46,\n",
       " 100: 24,\n",
       " 90: 9,\n",
       " 85: 16,\n",
       " 93: 16,\n",
       " 97: 27,\n",
       " 98: 1,\n",
       " 84: 20,\n",
       " 103: 10,\n",
       " 87: 6,\n",
       " 99: 5,\n",
       " 89: 12,\n",
       " 86: 3,\n",
       " 94: 3,\n",
       " 95: 2}"
      ]
     },
     "execution_count": 37,
     "metadata": {},
     "output_type": "execute_result"
    }
   ],
   "source": [
    "count = doc.count_by(spacy.attrs.POS)\n",
    "count"
   ]
  },
  {
   "cell_type": "code",
   "execution_count": 38,
   "id": "bc549aa2-584f-468e-a12e-a1b69c3eef28",
   "metadata": {},
   "outputs": [
    {
     "name": "stdout",
     "output_type": "stream",
     "text": [
      "PROPN | 13\n",
      "NOUN | 46\n",
      "VERB | 24\n",
      "DET | 9\n",
      "ADP | 16\n",
      "NUM | 16\n",
      "PUNCT | 27\n",
      "SCONJ | 1\n",
      "ADJ | 20\n",
      "SPACE | 10\n",
      "AUX | 6\n",
      "SYM | 5\n",
      "CCONJ | 12\n",
      "ADV | 3\n",
      "PART | 3\n",
      "PRON | 2\n"
     ]
    }
   ],
   "source": [
    "for k,v in count.items():\n",
    "    print(doc.vocab[k].text, \"|\",v)"
   ]
  },
  {
   "cell_type": "code",
   "execution_count": 47,
   "id": "dfab6cc6-2c2f-41aa-b018-58d411b3307e",
   "metadata": {},
   "outputs": [
    {
     "name": "stdout",
     "output_type": "stream",
     "text": [
      "Tesla inc | ORG | Companies, agencies, institutions, etc.\n",
      "Twitter inc | ORG | Companies, agencies, institutions, etc.\n",
      "$45 billion | MONEY | Monetary values, including unit\n"
     ]
    }
   ],
   "source": [
    "doc = nlp(\"Tesla inc is going to acquire Twitter inc for $45 billion\")\n",
    "for ent in doc.ents:\n",
    "    print(ent.text,\"|\",ent.label_,\"|\",spacy.explain(ent.label_))"
   ]
  },
  {
   "cell_type": "code",
   "execution_count": 48,
   "id": "5c9830f8-8f94-42da-acbe-96f90a1bb719",
   "metadata": {},
   "outputs": [
    {
     "data": {
      "text/html": [
       "<span class=\"tex2jax_ignore\"><div class=\"entities\" style=\"line-height: 2.5; direction: ltr\">\n",
       "<mark class=\"entity\" style=\"background: #7aecec; padding: 0.45em 0.6em; margin: 0 0.25em; line-height: 1; border-radius: 0.35em;\">\n",
       "    Tesla inc\n",
       "    <span style=\"font-size: 0.8em; font-weight: bold; line-height: 1; border-radius: 0.35em; vertical-align: middle; margin-left: 0.5rem\">ORG</span>\n",
       "</mark>\n",
       " is going to acquire \n",
       "<mark class=\"entity\" style=\"background: #7aecec; padding: 0.45em 0.6em; margin: 0 0.25em; line-height: 1; border-radius: 0.35em;\">\n",
       "    Twitter inc\n",
       "    <span style=\"font-size: 0.8em; font-weight: bold; line-height: 1; border-radius: 0.35em; vertical-align: middle; margin-left: 0.5rem\">ORG</span>\n",
       "</mark>\n",
       " for \n",
       "<mark class=\"entity\" style=\"background: #e4e7d2; padding: 0.45em 0.6em; margin: 0 0.25em; line-height: 1; border-radius: 0.35em;\">\n",
       "    $45 billion\n",
       "    <span style=\"font-size: 0.8em; font-weight: bold; line-height: 1; border-radius: 0.35em; vertical-align: middle; margin-left: 0.5rem\">MONEY</span>\n",
       "</mark>\n",
       "</div></span>"
      ],
      "text/plain": [
       "<IPython.core.display.HTML object>"
      ]
     },
     "metadata": {},
     "output_type": "display_data"
    }
   ],
   "source": [
    "from spacy import displacy\n",
    "displacy.render(doc,style=\"ent\")"
   ]
  },
  {
   "cell_type": "code",
   "execution_count": 49,
   "id": "d5f1a28d-dd08-41a2-bfbd-a28da306bab3",
   "metadata": {},
   "outputs": [
    {
     "data": {
      "text/plain": [
       "['CARDINAL',\n",
       " 'DATE',\n",
       " 'EVENT',\n",
       " 'FAC',\n",
       " 'GPE',\n",
       " 'LANGUAGE',\n",
       " 'LAW',\n",
       " 'LOC',\n",
       " 'MONEY',\n",
       " 'NORP',\n",
       " 'ORDINAL',\n",
       " 'ORG',\n",
       " 'PERCENT',\n",
       " 'PERSON',\n",
       " 'PRODUCT',\n",
       " 'QUANTITY',\n",
       " 'TIME',\n",
       " 'WORK_OF_ART']"
      ]
     },
     "execution_count": 49,
     "metadata": {},
     "output_type": "execute_result"
    }
   ],
   "source": [
    "nlp.pipe_labels['ner']"
   ]
  },
  {
   "cell_type": "code",
   "execution_count": 51,
   "id": "266d74a8-f2fd-4a21-8480-0de8ced6a680",
   "metadata": {},
   "outputs": [
    {
     "name": "stdout",
     "output_type": "stream",
     "text": [
      "Michael Bloomberg | PERSON | People, including fictional\n",
      "Bloomberg inc | ORG | Companies, agencies, institutions, etc.\n",
      "1982 | DATE | Absolute or relative dates or periods\n"
     ]
    }
   ],
   "source": [
    "doc = nlp(\"Michael Bloomberg founded Bloomberg inc in 1982\")\n",
    "for ent in doc.ents:\n",
    "    print(ent.text,\"|\",ent.label_,\"|\",spacy.explain(ent.label_))"
   ]
  },
  {
   "cell_type": "code",
   "execution_count": 57,
   "id": "db2b9789-d2f7-44b7-9236-3bc72a8d2ad5",
   "metadata": {},
   "outputs": [
    {
     "name": "stdout",
     "output_type": "stream",
     "text": [
      "1.0\n"
     ]
    }
   ],
   "source": [
    "import spacy\n",
    "nlp = spacy.load('en_core_web_md')  # Medium model with GloVe embeddings\n",
    "apple_vector = nlp(\"apple\").vector\n",
    "# print(apple_vector)\n",
    "print(nlp(\"apple\").similarity(nlp(\"apple\")))"
   ]
  },
  {
   "cell_type": "code",
   "execution_count": 69,
   "id": "adc2784b-540c-4174-8e3c-0ed3aabaab39",
   "metadata": {},
   "outputs": [
    {
     "data": {
      "text/html": [
       "<div>\n",
       "<style scoped>\n",
       "    .dataframe tbody tr th:only-of-type {\n",
       "        vertical-align: middle;\n",
       "    }\n",
       "\n",
       "    .dataframe tbody tr th {\n",
       "        vertical-align: top;\n",
       "    }\n",
       "\n",
       "    .dataframe thead th {\n",
       "        text-align: right;\n",
       "    }\n",
       "</style>\n",
       "<table border=\"1\" class=\"dataframe\">\n",
       "  <thead>\n",
       "    <tr style=\"text-align: right;\">\n",
       "      <th></th>\n",
       "      <th>Category</th>\n",
       "      <th>Message</th>\n",
       "    </tr>\n",
       "  </thead>\n",
       "  <tbody>\n",
       "    <tr>\n",
       "      <th>0</th>\n",
       "      <td>ham</td>\n",
       "      <td>Go until jurong point, crazy.. Available only ...</td>\n",
       "    </tr>\n",
       "    <tr>\n",
       "      <th>1</th>\n",
       "      <td>ham</td>\n",
       "      <td>Ok lar... Joking wif u oni...</td>\n",
       "    </tr>\n",
       "    <tr>\n",
       "      <th>2</th>\n",
       "      <td>spam</td>\n",
       "      <td>Free entry in 2 a wkly comp to win FA Cup fina...</td>\n",
       "    </tr>\n",
       "    <tr>\n",
       "      <th>3</th>\n",
       "      <td>ham</td>\n",
       "      <td>U dun say so early hor... U c already then say...</td>\n",
       "    </tr>\n",
       "    <tr>\n",
       "      <th>4</th>\n",
       "      <td>ham</td>\n",
       "      <td>Nah I don't think he goes to usf, he lives aro...</td>\n",
       "    </tr>\n",
       "    <tr>\n",
       "      <th>...</th>\n",
       "      <td>...</td>\n",
       "      <td>...</td>\n",
       "    </tr>\n",
       "    <tr>\n",
       "      <th>5567</th>\n",
       "      <td>spam</td>\n",
       "      <td>This is the 2nd time we have tried 2 contact u...</td>\n",
       "    </tr>\n",
       "    <tr>\n",
       "      <th>5568</th>\n",
       "      <td>ham</td>\n",
       "      <td>Will ü b going to esplanade fr home?</td>\n",
       "    </tr>\n",
       "    <tr>\n",
       "      <th>5569</th>\n",
       "      <td>ham</td>\n",
       "      <td>Pity, * was in mood for that. So...any other s...</td>\n",
       "    </tr>\n",
       "    <tr>\n",
       "      <th>5570</th>\n",
       "      <td>ham</td>\n",
       "      <td>The guy did some bitching but I acted like i'd...</td>\n",
       "    </tr>\n",
       "    <tr>\n",
       "      <th>5571</th>\n",
       "      <td>ham</td>\n",
       "      <td>Rofl. Its true to its name</td>\n",
       "    </tr>\n",
       "  </tbody>\n",
       "</table>\n",
       "<p>5572 rows × 2 columns</p>\n",
       "</div>"
      ],
      "text/plain": [
       "     Category                                            Message\n",
       "0         ham  Go until jurong point, crazy.. Available only ...\n",
       "1         ham                      Ok lar... Joking wif u oni...\n",
       "2        spam  Free entry in 2 a wkly comp to win FA Cup fina...\n",
       "3         ham  U dun say so early hor... U c already then say...\n",
       "4         ham  Nah I don't think he goes to usf, he lives aro...\n",
       "...       ...                                                ...\n",
       "5567     spam  This is the 2nd time we have tried 2 contact u...\n",
       "5568      ham               Will ü b going to esplanade fr home?\n",
       "5569      ham  Pity, * was in mood for that. So...any other s...\n",
       "5570      ham  The guy did some bitching but I acted like i'd...\n",
       "5571      ham                         Rofl. Its true to its name\n",
       "\n",
       "[5572 rows x 2 columns]"
      ]
     },
     "execution_count": 69,
     "metadata": {},
     "output_type": "execute_result"
    }
   ],
   "source": [
    "import pandas as pd\n",
    "import numpy as np\n",
    "df = pd.read_csv('spam.csv')\n",
    "df"
   ]
  },
  {
   "cell_type": "code",
   "execution_count": null,
   "id": "4b979fc8-7cfe-4370-ad01-94dfa8c01700",
   "metadata": {},
   "outputs": [],
   "source": [
    "# from sklearn.feature_extraction.text import CountVectorizer\n",
    "# from sklearn.preprocessing import LabelEncoder\n",
    "# encoder = LabelEncoder()\n",
    "# df[\"Category\"] = encoder.fit_transform(df[\"Category\"])\n",
    "# cv = CountVectorizer(decode_error=\"ignore\")\n",
    "# df[\"Message\"].fillna(\"\", inplace=True)\n",
    "# X = cv.fit_transform(df[\"Message\"])"
   ]
  },
  {
   "cell_type": "code",
   "execution_count": 61,
   "id": "95f477b1-beb7-49b5-940d-90a1f8c46295",
   "metadata": {},
   "outputs": [
    {
     "data": {
      "text/plain": [
       "Category\n",
       "ham     4825\n",
       "spam     747\n",
       "Name: count, dtype: int64"
      ]
     },
     "execution_count": 61,
     "metadata": {},
     "output_type": "execute_result"
    }
   ],
   "source": [
    "df.Category.value_counts()"
   ]
  },
  {
   "cell_type": "code",
   "execution_count": 70,
   "id": "0ff7b8cc-bfbc-4b31-87bc-32efc1f1e6b0",
   "metadata": {},
   "outputs": [],
   "source": [
    "from sklearn.preprocessing import LabelEncoder\n",
    "encoder = LabelEncoder()\n",
    "df[\"det_Category\"] = encoder.fit_transform(df[\"Category\"])"
   ]
  },
  {
   "cell_type": "code",
   "execution_count": 71,
   "id": "35fc9633-c699-4f36-8da0-a12d2383de9e",
   "metadata": {},
   "outputs": [
    {
     "data": {
      "text/plain": [
       "0       0\n",
       "1       0\n",
       "2       1\n",
       "3       0\n",
       "4       0\n",
       "       ..\n",
       "5567    1\n",
       "5568    0\n",
       "5569    0\n",
       "5570    0\n",
       "5571    0\n",
       "Name: det_Category, Length: 5572, dtype: int32"
      ]
     },
     "execution_count": 71,
     "metadata": {},
     "output_type": "execute_result"
    }
   ],
   "source": [
    "df[\"det_Category\"]"
   ]
  },
  {
   "cell_type": "code",
   "execution_count": 72,
   "id": "c6b5c945-f110-4e7a-b768-e6a91987d7e6",
   "metadata": {},
   "outputs": [
    {
     "data": {
      "text/plain": [
       "(5572, 3)"
      ]
     },
     "execution_count": 72,
     "metadata": {},
     "output_type": "execute_result"
    }
   ],
   "source": [
    "df.shape"
   ]
  },
  {
   "cell_type": "code",
   "execution_count": 73,
   "id": "3f9a487a-cca3-4703-aa41-2357bddb8189",
   "metadata": {},
   "outputs": [
    {
     "data": {
      "text/html": [
       "<div>\n",
       "<style scoped>\n",
       "    .dataframe tbody tr th:only-of-type {\n",
       "        vertical-align: middle;\n",
       "    }\n",
       "\n",
       "    .dataframe tbody tr th {\n",
       "        vertical-align: top;\n",
       "    }\n",
       "\n",
       "    .dataframe thead th {\n",
       "        text-align: right;\n",
       "    }\n",
       "</style>\n",
       "<table border=\"1\" class=\"dataframe\">\n",
       "  <thead>\n",
       "    <tr style=\"text-align: right;\">\n",
       "      <th></th>\n",
       "      <th>Category</th>\n",
       "      <th>Message</th>\n",
       "      <th>det_Category</th>\n",
       "    </tr>\n",
       "  </thead>\n",
       "  <tbody>\n",
       "    <tr>\n",
       "      <th>0</th>\n",
       "      <td>ham</td>\n",
       "      <td>Go until jurong point, crazy.. Available only ...</td>\n",
       "      <td>0</td>\n",
       "    </tr>\n",
       "    <tr>\n",
       "      <th>1</th>\n",
       "      <td>ham</td>\n",
       "      <td>Ok lar... Joking wif u oni...</td>\n",
       "      <td>0</td>\n",
       "    </tr>\n",
       "    <tr>\n",
       "      <th>2</th>\n",
       "      <td>spam</td>\n",
       "      <td>Free entry in 2 a wkly comp to win FA Cup fina...</td>\n",
       "      <td>1</td>\n",
       "    </tr>\n",
       "    <tr>\n",
       "      <th>3</th>\n",
       "      <td>ham</td>\n",
       "      <td>U dun say so early hor... U c already then say...</td>\n",
       "      <td>0</td>\n",
       "    </tr>\n",
       "    <tr>\n",
       "      <th>4</th>\n",
       "      <td>ham</td>\n",
       "      <td>Nah I don't think he goes to usf, he lives aro...</td>\n",
       "      <td>0</td>\n",
       "    </tr>\n",
       "  </tbody>\n",
       "</table>\n",
       "</div>"
      ],
      "text/plain": [
       "  Category                                            Message  det_Category\n",
       "0      ham  Go until jurong point, crazy.. Available only ...             0\n",
       "1      ham                      Ok lar... Joking wif u oni...             0\n",
       "2     spam  Free entry in 2 a wkly comp to win FA Cup fina...             1\n",
       "3      ham  U dun say so early hor... U c already then say...             0\n",
       "4      ham  Nah I don't think he goes to usf, he lives aro...             0"
      ]
     },
     "execution_count": 73,
     "metadata": {},
     "output_type": "execute_result"
    }
   ],
   "source": [
    "df.head()"
   ]
  },
  {
   "cell_type": "code",
   "execution_count": 75,
   "id": "6a9d12e6-1dc0-4c15-a6ad-4bd76797acbc",
   "metadata": {},
   "outputs": [],
   "source": [
    "x = df['Message']\n",
    "y = df['det_Category']"
   ]
  },
  {
   "cell_type": "code",
   "execution_count": 76,
   "id": "d0a59564-7675-48cb-b06c-63471e5bb538",
   "metadata": {},
   "outputs": [],
   "source": [
    "from sklearn.model_selection import train_test_split\n",
    "X_train, X_test, y_train, y_test = train_test_split(x,y, test_size=0.2)"
   ]
  },
  {
   "cell_type": "code",
   "execution_count": 77,
   "id": "cc6ebec4-d6a2-4ec2-8822-dc28ab5e747a",
   "metadata": {},
   "outputs": [
    {
     "data": {
      "text/plain": [
       "466     great princess! I love giving and receiving or...\n",
       "4096    I ain't answerin no phone at what is actually ...\n",
       "908     I.ll give her once i have it. Plus she said gr...\n",
       "5320                 But we havent got da topic yet rite?\n",
       "Name: Message, dtype: object"
      ]
     },
     "execution_count": 77,
     "metadata": {},
     "output_type": "execute_result"
    }
   ],
   "source": [
    "X_train[:4]"
   ]
  },
  {
   "cell_type": "code",
   "execution_count": 78,
   "id": "e3371dcf-f12e-42b4-a546-20fdc5abb242",
   "metadata": {},
   "outputs": [
    {
     "data": {
      "text/plain": [
       "466     0\n",
       "4096    0\n",
       "908     0\n",
       "5320    0\n",
       "Name: det_Category, dtype: int32"
      ]
     },
     "execution_count": 78,
     "metadata": {},
     "output_type": "execute_result"
    }
   ],
   "source": [
    "y_train[:4]"
   ]
  },
  {
   "cell_type": "code",
   "execution_count": 79,
   "id": "01da7bb7-3033-4c1f-b5b6-23e524be63d6",
   "metadata": {},
   "outputs": [
    {
     "data": {
      "text/plain": [
       "<Compressed Sparse Row sparse matrix of dtype 'int64'\n",
       "\twith 59581 stored elements and shape (4457, 7800)>"
      ]
     },
     "execution_count": 79,
     "metadata": {},
     "output_type": "execute_result"
    }
   ],
   "source": [
    "from sklearn.feature_extraction.text import CountVectorizer\n",
    "v = CountVectorizer()\n",
    "X_train_cv = v.fit_transform(X_train.values)\n",
    "X_train_cv"
   ]
  },
  {
   "cell_type": "code",
   "execution_count": 80,
   "id": "e2711b4e-6723-4acc-9e99-213c808115ac",
   "metadata": {},
   "outputs": [
    {
     "data": {
      "text/plain": [
       "array([0, 0, 0, ..., 0, 0, 0], dtype=int64)"
      ]
     },
     "execution_count": 80,
     "metadata": {},
     "output_type": "execute_result"
    }
   ],
   "source": [
    "X_train_cv.toarray()[:2][0]"
   ]
  },
  {
   "cell_type": "code",
   "execution_count": 81,
   "id": "3f2b340e-5eef-4927-8536-5774db88369d",
   "metadata": {},
   "outputs": [
    {
     "data": {
      "text/plain": [
       "(4457, 7800)"
      ]
     },
     "execution_count": 81,
     "metadata": {},
     "output_type": "execute_result"
    }
   ],
   "source": [
    "X_train_cv.shape"
   ]
  },
  {
   "cell_type": "code",
   "execution_count": 83,
   "id": "4e2ba8f4-828e-4779-b7be-f3eb28bb9f47",
   "metadata": {},
   "outputs": [
    {
     "data": {
      "text/plain": [
       "'deduct'"
      ]
     },
     "execution_count": 83,
     "metadata": {},
     "output_type": "execute_result"
    }
   ],
   "source": [
    "v.get_feature_names_out()[2222]"
   ]
  },
  {
   "cell_type": "code",
   "execution_count": 88,
   "id": "7fb1bdbd-311e-4eb6-879c-f18988f8945f",
   "metadata": {},
   "outputs": [
    {
     "data": {
      "text/plain": [
       "{'great': 3259,\n",
       " 'princess': 5433,\n",
       " 'love': 4248,\n",
       " 'giving': 3171,\n",
       " 'and': 964,\n",
       " 'receiving': 5653,\n",
       " 'oral': 4997,\n",
       " 'doggy': 2409,\n",
       " 'style': 6585,\n",
       " 'is': 3773,\n",
       " 'my': 4678,\n",
       " 'fave': 2808,\n",
       " 'position': 5341,\n",
       " 'how': 3545,\n",
       " 'about': 763,\n",
       " 'you': 7759,\n",
       " 'enjoy': 2618,\n",
       " 'making': 4348,\n",
       " 'lt': 4271,\n",
       " 'gt': 3283,\n",
       " 'times': 6948,\n",
       " 'per': 5163,\n",
       " 'night': 4793,\n",
       " 'ain': 884,\n",
       " 'answerin': 988,\n",
       " 'no': 4811,\n",
       " 'phone': 5203,\n",
       " 'at': 1117,\n",
       " 'what': 7527,\n",
       " 'actually': 813,\n",
       " 'pretty': 5421,\n",
       " 'reasonable': 5640,\n",
       " 'hour': 3537,\n",
       " 'but': 1588,\n",
       " 'sleepy': 6251,\n",
       " 'll': 4183,\n",
       " 'give': 3168,\n",
       " 'her': 3436,\n",
       " 'once': 4957,\n",
       " 'have': 3381,\n",
       " 'it': 3785,\n",
       " 'plus': 5278,\n",
       " 'she': 6098,\n",
       " 'said': 5910,\n",
       " 'grinule': 3270,\n",
       " 'greet': 3265,\n",
       " 'whenever': 7535,\n",
       " 'we': 7469,\n",
       " 'speak': 6387,\n",
       " 'havent': 3383,\n",
       " 'got': 3226,\n",
       " 'da': 2150,\n",
       " 'topic': 7031,\n",
       " 'yet': 7746,\n",
       " 'rite': 5826,\n",
       " 'welcome': 7505,\n",
       " 'to': 6980,\n",
       " 'uk': 7170,\n",
       " 'mobile': 4559,\n",
       " 'date': 2182,\n",
       " 'this': 6895,\n",
       " 'msg': 4630,\n",
       " 'free': 3006,\n",
       " 'calling': 1630,\n",
       " '08719839835': 153,\n",
       " 'future': 3076,\n",
       " 'mgs': 4481,\n",
       " 'billed': 1357,\n",
       " '150p': 309,\n",
       " 'daily': 2158,\n",
       " 'cancel': 1646,\n",
       " 'send': 6034,\n",
       " 'go': 3185,\n",
       " 'stop': 6527,\n",
       " '89123': 713,\n",
       " 'hey': 3446,\n",
       " 'darlin': 2174,\n",
       " 'can': 1642,\n",
       " 'pick': 5216,\n",
       " 'up': 7237,\n",
       " 'college': 1911,\n",
       " 'if': 3623,\n",
       " 'tell': 6797,\n",
       " 'me': 4423,\n",
       " 'wen': 7510,\n",
       " 'where': 7538,\n",
       " 'mt': 4637,\n",
       " 'pete': 5190,\n",
       " 'xx': 7706,\n",
       " 'am': 935,\n",
       " 'late': 4048,\n",
       " 'will': 7572,\n",
       " 'be': 1275,\n",
       " 'there': 6874,\n",
       " 'something': 6333,\n",
       " 'drink': 2470,\n",
       " 'takes': 6736,\n",
       " 'doesn': 2403,\n",
       " 'vomit': 7372,\n",
       " 'then': 6870,\n",
       " 'temp': 6805,\n",
       " 'might': 4487,\n",
       " 'drop': 2481,\n",
       " 'unmits': 7224,\n",
       " 'however': 3548,\n",
       " 'let': 4110,\n",
       " 'know': 3982,\n",
       " 'alright': 925,\n",
       " 're': 5618,\n",
       " 'all': 912,\n",
       " 'set': 6059,\n",
       " 'here': 3437,\n",
       " 'text': 6830,\n",
       " 'the': 6858,\n",
       " 'man': 4353,\n",
       " 'summers': 6637,\n",
       " 'finally': 2871,\n",
       " 'fancy': 2790,\n",
       " 'chat': 1755,\n",
       " 'or': 4994,\n",
       " 'flirt': 2919,\n",
       " 'with': 7603,\n",
       " 'sexy': 6071,\n",
       " 'singles': 6207,\n",
       " 'in': 3665,\n",
       " 'yr': 7772,\n",
       " 'area': 1052,\n",
       " 'get': 3141,\n",
       " 'matched': 4396,\n",
       " 'just': 3903,\n",
       " 'reply': 5744,\n",
       " 'summer': 6636,\n",
       " 'now': 4859,\n",
       " 'join': 3865,\n",
       " 'optout': 4993,\n",
       " 'txt': 7143,\n",
       " 'help08714742804': 3428,\n",
       " 'sorry': 6355,\n",
       " 'light': 4132,\n",
       " 'turned': 7130,\n",
       " 'green': 3264,\n",
       " 'meant': 4430,\n",
       " 'another': 983,\n",
       " 'friend': 3027,\n",
       " 'wanted': 7430,\n",
       " 'worth': 7660,\n",
       " 'he': 3390,\n",
       " 'may': 4415,\n",
       " 'not': 4846,\n",
       " 'around': 1070,\n",
       " 'for': 2963,\n",
       " 'ur': 7253,\n",
       " 'chance': 1733,\n",
       " 'win': 7575,\n",
       " '250': 371,\n",
       " 'wkly': 7612,\n",
       " 'shopping': 6134,\n",
       " 'spree': 6441,\n",
       " 'shop': 6132,\n",
       " '80878': 652,\n",
       " 'www': 7693,\n",
       " 'com': 1916,\n",
       " 'custcare': 2133,\n",
       " '08715705022': 124,\n",
       " '1x150p': 347,\n",
       " 'wk': 7608,\n",
       " 'says': 5957,\n",
       " 'year': 7733,\n",
       " 'old': 4946,\n",
       " 'money': 4585,\n",
       " 'down': 2446,\n",
       " 'last': 4045,\n",
       " 'still': 6516,\n",
       " 'waiting': 7406,\n",
       " 'that': 6854,\n",
       " 'check': 1765,\n",
       " 'cmon': 1882,\n",
       " 'babe': 1186,\n",
       " 'make': 4344,\n",
       " 'horny': 3522,\n",
       " 'turn': 7129,\n",
       " 'on': 4953,\n",
       " 'your': 7763,\n",
       " 'fantasy': 2793,\n",
       " 'im': 3640,\n",
       " 'hot': 3531,\n",
       " 'sticky': 6513,\n",
       " 'need': 4741,\n",
       " 'replies': 5743,\n",
       " 'cost': 2036,\n",
       " '50': 538,\n",
       " 'yes': 7743,\n",
       " 'fine': 2877,\n",
       " 'ask': 1094,\n",
       " 'wait': 7403,\n",
       " 'finish': 2879,\n",
       " 'lect': 4086,\n",
       " 'cos': 2034,\n",
       " 'finishes': 2882,\n",
       " 'an': 959,\n",
       " 'anyway': 1008,\n",
       " 'oz': 5066,\n",
       " 'guy': 3305,\n",
       " 'being': 1315,\n",
       " 'kinda': 3965,\n",
       " 'flaky': 2904,\n",
       " 'one': 4959,\n",
       " 'interested': 3732,\n",
       " 'picking': 5218,\n",
       " 'tonight': 7016,\n",
       " 'possible': 5348,\n",
       " 'came': 1637,\n",
       " 'look': 4219,\n",
       " 'flat': 2907,\n",
       " 'seems': 6016,\n",
       " 'ok': 4935,\n",
       " 'his': 3463,\n",
       " '50s': 552,\n",
       " 'away': 1168,\n",
       " 'alot': 923,\n",
       " 'wiv': 7606,\n",
       " 'work': 7645,\n",
       " 'woman': 7625,\n",
       " 'coming': 1928,\n",
       " '30': 430,\n",
       " 'too': 7021,\n",
       " 'hi': 3450,\n",
       " 'goes': 3193,\n",
       " 'day': 2190,\n",
       " 'fuck': 3051,\n",
       " 'morning': 4602,\n",
       " 'woke': 7623,\n",
       " 'dropped': 2482,\n",
       " 'cell': 1715,\n",
       " 'way': 7464,\n",
       " 'stairs': 6463,\n",
       " 'phews': 5199,\n",
       " 'miss': 4523,\n",
       " 'mine': 4503,\n",
       " 'like': 4135,\n",
       " 'fr': 2995,\n",
       " 'china': 1802,\n",
       " 'so': 6310,\n",
       " 'noisy': 4819,\n",
       " 'carlos': 1677,\n",
       " 'minute': 4514,\n",
       " 'buy': 1592,\n",
       " 'anything': 1005,\n",
       " 'lor': 4228,\n",
       " 'eat': 2537,\n",
       " 'jap': 3820,\n",
       " 'done': 2426,\n",
       " 'oso': 5018,\n",
       " 'aft': 854,\n",
       " 'wat': 7448,\n",
       " '12': 283,\n",
       " 'top': 7030,\n",
       " 'polyphonic': 5317,\n",
       " 'tones': 7010,\n",
       " 'call': 1618,\n",
       " '087018728737': 80,\n",
       " 'national': 4716,\n",
       " 'rate': 5601,\n",
       " 'toppoly': 7034,\n",
       " 'tune': 7126,\n",
       " 'sent': 6044,\n",
       " 'every': 2686,\n",
       " 'week': 7492,\n",
       " 'subpoly': 6594,\n",
       " '81618': 656,\n",
       " 'pole': 5310,\n",
       " 'unsub': 7232,\n",
       " '08718727870': 142,\n",
       " 'huh': 3568,\n",
       " 'fast': 2798,\n",
       " 'dat': 2180,\n",
       " 'means': 4429,\n",
       " 'finished': 2881,\n",
       " 'painting': 5079,\n",
       " 'its': 3791,\n",
       " 'hard': 3362,\n",
       " 'believe': 1316,\n",
       " 'things': 6886,\n",
       " 'say': 5954,\n",
       " 'lie': 4124,\n",
       " 'think': 6887,\n",
       " 'twice': 7137,\n",
       " 'before': 1303,\n",
       " 'saying': 5956,\n",
       " 'help': 3426,\n",
       " 'working': 7649,\n",
       " 'tmr': 6974,\n",
       " 'when': 7534,\n",
       " 'mentor': 4463,\n",
       " '100': 260,\n",
       " 'percent': 5164,\n",
       " 'sure': 6667,\n",
       " 'jamster': 3813,\n",
       " 'videosound': 7340,\n",
       " 'gold': 3200,\n",
       " 'club': 1872,\n",
       " 'credits': 2085,\n",
       " 'new': 4772,\n",
       " 'videosounds': 7341,\n",
       " 'logos': 4206,\n",
       " 'musicnews': 4671,\n",
       " 'more': 4598,\n",
       " 'fun': 3064,\n",
       " 'from': 3043,\n",
       " 'co': 1886,\n",
       " '16': 318,\n",
       " 'only': 4965,\n",
       " '09701213186': 256,\n",
       " 'menu': 4464,\n",
       " 'noon': 4830,\n",
       " 'emailed': 2589,\n",
       " 'yifeng': 7751,\n",
       " 'part': 5110,\n",
       " 'oredi': 5005,\n",
       " 'him': 3458,\n",
       " 'bold': 1428,\n",
       " 'yours': 7767,\n",
       " 'wow': 7670,\n",
       " 'never': 4769,\n",
       " 'realized': 5633,\n",
       " 'were': 7515,\n",
       " 'embarassed': 2590,\n",
       " 'by': 1602,\n",
       " 'accomodations': 787,\n",
       " 'thought': 6907,\n",
       " 'liked': 4136,\n",
       " 'since': 6200,\n",
       " 'was': 7442,\n",
       " 'doing': 2414,\n",
       " 'best': 1333,\n",
       " 'could': 2044,\n",
       " 'always': 933,\n",
       " 'seemed': 6015,\n",
       " 'happy': 3361,\n",
       " 'cave': 1702,\n",
       " 'didn': 2314,\n",
       " 'don': 2424,\n",
       " 'offered': 4920,\n",
       " 'room': 5848,\n",
       " 'embarassing': 2591,\n",
       " 'sat': 5939,\n",
       " 'right': 5812,\n",
       " 'okay': 4936,\n",
       " 'thanks': 6846,\n",
       " 'seeking': 6013,\n",
       " 'lady': 4016,\n",
       " 'street': 6548,\n",
       " 'freak': 3003,\n",
       " 'sheets': 6100,\n",
       " 'except': 2712,\n",
       " 'saturday': 5946,\n",
       " 'sunday': 6642,\n",
       " 'whats': 7529,\n",
       " 'todays': 6987,\n",
       " 'plan': 5248,\n",
       " 'good': 3210,\n",
       " 'afternoon': 857,\n",
       " 'starshine': 6478,\n",
       " 'boytoy': 1482,\n",
       " 'does': 2401,\n",
       " 'crave': 2075,\n",
       " 'ache': 795,\n",
       " 'sips': 6211,\n",
       " 'cappuccino': 1658,\n",
       " 'teasing': 6786,\n",
       " 'kiss': 3972,\n",
       " 'heard': 3402,\n",
       " 'job': 3859,\n",
       " 'going': 3198,\n",
       " 'wildlife': 7571,\n",
       " 'talk': 6741,\n",
       " 'again': 861,\n",
       " 'want2come': 7429,\n",
       " 'that2worzels': 6855,\n",
       " 'wizzle': 7607,\n",
       " 'whatever': 7528,\n",
       " 'flaked': 2903,\n",
       " 'shit': 6118,\n",
       " 'seriously': 6053,\n",
       " 'goin': 3196,\n",
       " 'roommate': 5850,\n",
       " 'yupz': 7783,\n",
       " 've': 7314,\n",
       " 'booked': 1436,\n",
       " 'slots': 6262,\n",
       " 'weekends': 7494,\n",
       " 'liao': 4117,\n",
       " 'yetty': 7747,\n",
       " 'number': 4875,\n",
       " 'pls': 5274,\n",
       " 'very': 7327,\n",
       " 'birthday': 1372,\n",
       " 'bus': 1581,\n",
       " 'leaves': 4084,\n",
       " 'rose': 5854,\n",
       " 'needs': 4746,\n",
       " 'water': 7454,\n",
       " 'season': 5994,\n",
       " 'change': 1735,\n",
       " 'poet': 5304,\n",
       " 'imagination': 3643,\n",
       " 'sms': 6290,\n",
       " 'lovely': 4251,\n",
       " 'frndship': 3036,\n",
       " 'forever': 2968,\n",
       " 'yup': 7782,\n",
       " 'went': 7513,\n",
       " 'attend': 1128,\n",
       " 'two': 7141,\n",
       " 'rounds': 5859,\n",
       " 'today': 6986,\n",
       " 'did': 2312,\n",
       " 'reach': 5619,\n",
       " 'home': 3495,\n",
       " 'creepy': 2086,\n",
       " 'won': 7628,\n",
       " 'forgot': 2975,\n",
       " 'telly': 6801,\n",
       " 'brdget': 1496,\n",
       " 'jones': 3876,\n",
       " 'nooooooo': 4831,\n",
       " 'gonna': 3208,\n",
       " 'bored': 1445,\n",
       " 'death': 2205,\n",
       " 'cable': 1608,\n",
       " 'internet': 3737,\n",
       " 'outage': 5030,\n",
       " 'few': 2836,\n",
       " 'people': 5161,\n",
       " 'hit': 3465,\n",
       " 'headin': 3393,\n",
       " 'towards': 7051,\n",
       " 'busetop': 1584,\n",
       " 'sister': 6215,\n",
       " 'placed': 5245,\n",
       " 'birla': 1368,\n",
       " 'soft': 6315,\n",
       " 'goodmorning': 3215,\n",
       " 'decimal': 2213,\n",
       " 'min': 4497,\n",
       " 'spoons': 6432,\n",
       " 'kallis': 3917,\n",
       " 'ready': 5626,\n",
       " 'bat': 1247,\n",
       " '2nd': 409,\n",
       " 'innings': 3709,\n",
       " 'oh': 4930,\n",
       " 'paid': 5076,\n",
       " 'most': 4607,\n",
       " 'outstanding': 5043,\n",
       " 'commercial': 1932,\n",
       " 'hasbro': 3372,\n",
       " 'august': 1139,\n",
       " 'they': 6882,\n",
       " 'made': 4323,\n",
       " 'us': 7267,\n",
       " 'jump': 3897,\n",
       " 'through': 6917,\n",
       " 'many': 4368,\n",
       " 'hoops': 3509,\n",
       " 'hoping': 3519,\n",
       " 'enjoyed': 2619,\n",
       " 'game': 3090,\n",
       " 'yesterday': 7745,\n",
       " 'been': 1298,\n",
       " 'touch': 7046,\n",
       " 'are': 1051,\n",
       " 'fondly': 2949,\n",
       " 'bein': 1314,\n",
       " 'thot': 6904,\n",
       " 'off': 4915,\n",
       " 'abiola': 759,\n",
       " 'chk': 1810,\n",
       " 'belovd': 1324,\n",
       " 'ms': 4629,\n",
       " 'dict': 2310,\n",
       " 'er': 2648,\n",
       " 'enjoyin': 2620,\n",
       " 'indians': 3690,\n",
       " 'mo': 4555,\n",
       " 'yep': 7741,\n",
       " 'sall': 5917,\n",
       " 'hehe': 3416,\n",
       " 'hows': 3549,\n",
       " 'bout': 1460,\n",
       " 'shexy': 6106,\n",
       " 'wylie': 7694,\n",
       " 'update': 7241,\n",
       " 'weed': 7491,\n",
       " 'dealer': 2199,\n",
       " 'freedom': 3008,\n",
       " 'had': 3317,\n",
       " 'class': 1844,\n",
       " 'lunsford': 4285,\n",
       " 'definitely': 2233,\n",
       " 'mu': 4645,\n",
       " 'excuses': 2717,\n",
       " 'long': 4215,\n",
       " 'has': 3371,\n",
       " 'screamed': 5983,\n",
       " 'squeeeeeze': 6450,\n",
       " 'christmas': 1824,\n",
       " 'hug': 3563,\n",
       " 'lik': 4134,\n",
       " 'frndshp': 3037,\n",
       " 'den': 2255,\n",
       " 'back': 1193,\n",
       " 'cute': 2140,\n",
       " 'luvd': 4289,\n",
       " 'lucky': 4278,\n",
       " 'none': 4827,\n",
       " 'hate': 3376,\n",
       " 'twenty': 7136,\n",
       " 'past': 5129,\n",
       " 'five': 2895,\n",
       " 'train': 7059,\n",
       " 'durham': 2510,\n",
       " 'already': 924,\n",
       " 'coz': 2061,\n",
       " 'reserved': 5762,\n",
       " 'seat': 5995,\n",
       " 'dear': 2201,\n",
       " 'dollars': 2420,\n",
       " 'aight': 883,\n",
       " 'of': 4913,\n",
       " 'roommates': 5851,\n",
       " 'really': 5634,\n",
       " 'broke': 1531,\n",
       " 'amount': 950,\n",
       " 'small': 6268,\n",
       " 'even': 2681,\n",
       " 'covers': 2060,\n",
       " 'face': 2759,\n",
       " 'kisses': 3973,\n",
       " 'office': 4923,\n",
       " 'freemsg': 3013,\n",
       " 'live': 4175,\n",
       " 'town': 7052,\n",
       " 'sex': 6068,\n",
       " 'games': 3091,\n",
       " 'netcollex': 4760,\n",
       " 'ltd': 4272,\n",
       " '08700621170150p': 73,\n",
       " 'end': 2604,\n",
       " 'beauty': 1283,\n",
       " 'life': 4126,\n",
       " 'next': 4781,\n",
       " 'second': 5997,\n",
       " 'which': 7543,\n",
       " 'hides': 3453,\n",
       " 'thousands': 6909,\n",
       " 'secrets': 6002,\n",
       " 'wish': 7595,\n",
       " 'wonderful': 7632,\n",
       " 'gud': 3288,\n",
       " 'n8': 4686,\n",
       " 'do': 2389,\n",
       " 'sort': 6356,\n",
       " 'code': 1895,\n",
       " 'acc': 776,\n",
       " 'bank': 1221,\n",
       " 'natwest': 4721,\n",
       " 'confirm': 1974,\n",
       " 'person': 5180,\n",
       " 'leaving': 4085,\n",
       " 'soon': 6347,\n",
       " 'little': 4174,\n",
       " 'after': 855,\n",
       " 'family': 2786,\n",
       " 'bring': 1520,\n",
       " 'happiness': 3360,\n",
       " 'stability': 6459,\n",
       " 'tranquility': 7063,\n",
       " 'vibrant': 7331,\n",
       " 'colourful': 1914,\n",
       " 'urgent': 7257,\n",
       " 'our': 5026,\n",
       " 'attempt': 1127,\n",
       " 'contact': 1994,\n",
       " '900': 724,\n",
       " 'prize': 5445,\n",
       " 'awaiting': 1164,\n",
       " 'collection': 1910,\n",
       " 'claim': 1835,\n",
       " '09061702893': 196,\n",
       " 'want': 7428,\n",
       " 'laid': 4019,\n",
       " 'real': 5627,\n",
       " 'dogging': 2408,\n",
       " 'locations': 4194,\n",
       " 'direct': 2346,\n",
       " 'mob': 4557,\n",
       " 'largest': 4043,\n",
       " 'network': 4765,\n",
       " 'bt': 1551,\n",
       " 'txting': 7148,\n",
       " 'gravel': 3254,\n",
       " '69888': 601,\n",
       " 'nt': 4866,\n",
       " 'ec2a': 2541,\n",
       " '31p': 442,\n",
       " 'slowly': 6266,\n",
       " 'god': 3191,\n",
       " 'amp': 951,\n",
       " 'clean': 1849,\n",
       " 'heart': 3405,\n",
       " 'blood': 1408,\n",
       " 'ten': 6807,\n",
       " 'special': 6389,\n",
       " 'miracle': 4517,\n",
       " 'tomorrow': 7007,\n",
       " 'later': 4051,\n",
       " 'forwarded': 2986,\n",
       " '21870000': 362,\n",
       " 'mailbox': 4338,\n",
       " 'messaging': 4474,\n",
       " 'alert': 902,\n",
       " '40': 477,\n",
       " 'matches': 4397,\n",
       " 'please': 5266,\n",
       " '09056242159': 171,\n",
       " 'retrieve': 5792,\n",
       " 'messages': 4473,\n",
       " 'cc100p': 1706,\n",
       " 'lot': 4235,\n",
       " 'because': 1286,\n",
       " 'world': 7652,\n",
       " 'calls': 1632,\n",
       " 'them': 6866,\n",
       " 'friends': 3028,\n",
       " 'ge': 3121,\n",
       " 'responding': 5774,\n",
       " 'diwali': 2381,\n",
       " 'called': 1624,\n",
       " 'why': 7557,\n",
       " 'makes': 4345,\n",
       " 'feel': 2820,\n",
       " 'died': 2318,\n",
       " 'idea': 3613,\n",
       " 'converted': 2009,\n",
       " 'also': 927,\n",
       " 'track': 7055,\n",
       " 'any': 997,\n",
       " 'lighters': 4133,\n",
       " 'find': 2874,\n",
       " 'aren': 1053,\n",
       " 'hours': 3539,\n",
       " 'imma': 3648,\n",
       " 'flip': 2917,\n",
       " 'nothing': 4850,\n",
       " 'id': 3611,\n",
       " 'proof': 5484,\n",
       " 'rs': 5867,\n",
       " 'wont': 7635,\n",
       " 'allow': 917,\n",
       " 'come': 1922,\n",
       " 'within': 7604,\n",
       " 'days': 2191,\n",
       " 'approve': 1036,\n",
       " 'panalam': 5084,\n",
       " 'should': 6145,\n",
       " 'posts': 5357,\n",
       " 'case': 1685,\n",
       " 'wake': 7407,\n",
       " 'wondering': 7633,\n",
       " 'take': 6734,\n",
       " 'care': 1667,\n",
       " 'grandma': 3247,\n",
       " 'parade': 5098,\n",
       " 'king': 3967,\n",
       " 'crying': 2103,\n",
       " 'baby': 1189,\n",
       " 'building': 1565,\n",
       " 'map': 4369,\n",
       " 'imprtant': 3664,\n",
       " 'wil': 7568,\n",
       " 'tomorw': 7008,\n",
       " 'ni8': 4783,\n",
       " 'aunty': 1144,\n",
       " 'airtel': 888,\n",
       " 'line': 4149,\n",
       " 'rest': 5778,\n",
       " 'tescos': 6823,\n",
       " 'quite': 5563,\n",
       " 'nice': 4785,\n",
       " 'gone': 3206,\n",
       " 'studying': 6576,\n",
       " 'surfing': 6670,\n",
       " 'lazy': 4067,\n",
       " 'mode': 4569,\n",
       " 'shall': 6085,\n",
       " 'thing': 6885,\n",
       " 'dont': 2428,\n",
       " 'mistake': 4534,\n",
       " 'ex': 2706,\n",
       " 'wife': 7565,\n",
       " 'able': 761,\n",
       " 'kids': 3957,\n",
       " 'someone': 6327,\n",
       " 'as': 1086,\n",
       " 'much': 4647,\n",
       " 'loved': 4249,\n",
       " 'anyone': 1000,\n",
       " 'nit': 4803,\n",
       " 'probably': 5451,\n",
       " 'couple': 2051,\n",
       " 'tops': 7035,\n",
       " 'pleased': 5267,\n",
       " 'inform': 3699,\n",
       " 'application': 1026,\n",
       " 'broadband': 1530,\n",
       " 'processed': 5461,\n",
       " 'successfully': 6609,\n",
       " 'installation': 3721,\n",
       " 'happen': 3352,\n",
       " 'rayman': 5609,\n",
       " 'golf': 3203,\n",
       " 'o2': 4894,\n",
       " 'arcade': 1048,\n",
       " '1st': 338,\n",
       " 'settings': 6061,\n",
       " 'post': 5350,\n",
       " 'save': 5949,\n",
       " 'activ8': 808,\n",
       " 'press': 5415,\n",
       " 'key': 3945,\n",
       " 'termsapply': 6816,\n",
       " 'congratulations': 1980,\n",
       " 'awarded': 1167,\n",
       " 'either': 2571,\n",
       " 'yrs': 7773,\n",
       " 'supply': 6659,\n",
       " 'cds': 1709,\n",
       " 'virgin': 7354,\n",
       " 'records': 5663,\n",
       " 'mystery': 4685,\n",
       " 'gift': 3155,\n",
       " 'guaranteed': 3286,\n",
       " '09061104283': 188,\n",
       " 'ts': 7110,\n",
       " 'cs': 2104,\n",
       " 'smsco': 6291,\n",
       " 'net': 4759,\n",
       " '50pm': 548,\n",
       " 'approx': 1037,\n",
       " '3mins': 467,\n",
       " 'alrite': 926,\n",
       " 'girl': 3162,\n",
       " 'gail': 3083,\n",
       " 'neva': 4768,\n",
       " 'wrong': 7681,\n",
       " 'sweet': 6696,\n",
       " 'worry': 7657,\n",
       " 'l8tr': 4006,\n",
       " 'hun': 3573,\n",
       " 'yaxxx': 7729,\n",
       " 'goodnight': 3216,\n",
       " 'sleep': 6246,\n",
       " 'well': 7507,\n",
       " 'pa': 5067,\n",
       " 'music': 4670,\n",
       " 'vouchers': 7377,\n",
       " 'starting': 6481,\n",
       " 'word': 7643,\n",
       " 'draw': 2461,\n",
       " '87066': 693,\n",
       " 'tscs': 7112,\n",
       " 'ldew': 4070,\n",
       " 'skillgame': 6233,\n",
       " '1winaweek': 345,\n",
       " 'age16': 864,\n",
       " '150ppermesssubscription': 312,\n",
       " 'current': 2128,\n",
       " 'food': 2954,\n",
       " 'alone': 921,\n",
       " 'bought': 1458,\n",
       " 'ringtone': 5821,\n",
       " 'getting': 3148,\n",
       " 'texts': 6839,\n",
       " 'costing': 2038,\n",
       " 'pound': 5361,\n",
       " 'offering': 4921,\n",
       " 'etc': 2670,\n",
       " 'sub': 6590,\n",
       " 'weekly': 7495,\n",
       " 'glad': 3172,\n",
       " 'talking': 6744,\n",
       " 'place': 5244,\n",
       " 'meet': 4439,\n",
       " 'exciting': 2714,\n",
       " 'adult': 835,\n",
       " '86688': 690,\n",
       " 'grand': 3245,\n",
       " 'prix': 5443,\n",
       " 'ow': 5056,\n",
       " 'dey': 2298,\n",
       " '60': 573,\n",
       " '400thousad': 479,\n",
       " 'told': 6997,\n",
       " 'would': 7666,\n",
       " 'contract': 2005,\n",
       " 'weeks': 7496,\n",
       " '1000': 261,\n",
       " 'cash': 1686,\n",
       " '200': 350,\n",
       " '09066361921': 226,\n",
       " 'reason': 5639,\n",
       " 'spoken': 6428,\n",
       " 'anyways': 1009,\n",
       " 'exam': 2709,\n",
       " 'wonders': 7634,\n",
       " '7th': 636,\n",
       " '6th': 613,\n",
       " '5th': 569,\n",
       " 'smile': 6278,\n",
       " '4th': 528,\n",
       " 'personality': 5183,\n",
       " '3rd': 471,\n",
       " 'nature': 4720,\n",
       " 'friendship': 3029,\n",
       " 'marvel': 4385,\n",
       " 'play': 5257,\n",
       " 'official': 4925,\n",
       " 'ultimate': 7173,\n",
       " 'spider': 6409,\n",
       " '83338': 668,\n",
       " '8ball': 719,\n",
       " 'wallpaper': 7419,\n",
       " 'thats': 6857,\n",
       " 'cool': 2019,\n",
       " 'gentleman': 3132,\n",
       " 'treat': 7079,\n",
       " 'dignity': 2332,\n",
       " 'respect': 5770,\n",
       " '11': 272,\n",
       " 'months': 4594,\n",
       " 'entitled': 2634,\n",
       " 'latest': 4052,\n",
       " 'colour': 1913,\n",
       " 'mobiles': 4560,\n",
       " 'camera': 1638,\n",
       " '08002986030': 56,\n",
       " 'wonder': 7631,\n",
       " 'battery': 1255,\n",
       " 'dead': 2197,\n",
       " 'alive': 911,\n",
       " 'better': 1337,\n",
       " 'correct': 2030,\n",
       " 'looking': 4222,\n",
       " 'figure': 2855,\n",
       " 'itself': 3792,\n",
       " 'ended': 2605,\n",
       " 'sunny': 6645,\n",
       " 'rays': 5610,\n",
       " 'worries': 7656,\n",
       " 'blue': 1415,\n",
       " 'bay': 1258,\n",
       " 'lara': 4040,\n",
       " 'loan': 4189,\n",
       " 'time': 6947,\n",
       " 'tried': 7087,\n",
       " 'adding': 821,\n",
       " 'zeros': 7789,\n",
       " 'savings': 5952,\n",
       " 'checking': 1768,\n",
       " 'b4u': 1180,\n",
       " 'voucher': 7376,\n",
       " '27': 377,\n",
       " '03': 14,\n",
       " 'marsms': 4383,\n",
       " 'log': 4200,\n",
       " 'onto': 4968,\n",
       " 'b4utele': 1181,\n",
       " 'discount': 2362,\n",
       " 'credit': 2083,\n",
       " 'opt': 4989,\n",
       " 'out': 5029,\n",
       " 'customer': 2135,\n",
       " '08717168528': 126,\n",
       " 'multiply': 4655,\n",
       " 'numbers': 4876,\n",
       " 'independently': 3686,\n",
       " 'count': 2047,\n",
       " 'points': 5306,\n",
       " 'division': 2379,\n",
       " 'push': 5532,\n",
       " 'places': 5247,\n",
       " 'showed': 6153,\n",
       " 'membership': 4454,\n",
       " '000': 1,\n",
       " 'jackpot': 3806,\n",
       " '81010': 653,\n",
       " 'dbuk': 2194,\n",
       " 'lccltd': 4068,\n",
       " 'pobox': 5285,\n",
       " '4403ldnw1a7rw18': 494,\n",
       " 'jus': 3902,\n",
       " 'blowing': 1412,\n",
       " 'hair': 3324,\n",
       " 'dinner': 2341,\n",
       " 'matter': 4407,\n",
       " 'mind': 4500,\n",
       " 'some': 6324,\n",
       " 'other': 5020,\n",
       " 'smth': 6295,\n",
       " 'card': 1663,\n",
       " 'present': 5410,\n",
       " 'lei': 4096,\n",
       " 'write': 7674,\n",
       " 'sign': 6183,\n",
       " 'mum': 4657,\n",
       " 'lookin': 4221,\n",
       " 'strong': 6561,\n",
       " 'search': 5992,\n",
       " 'try': 7107,\n",
       " 'arr': 1072,\n",
       " 'oscar': 5017,\n",
       " 'peoples': 5162,\n",
       " 'shy': 6172,\n",
       " 'though': 6906,\n",
       " 'understand': 7195,\n",
       " 'important': 3655,\n",
       " 'put': 5536,\n",
       " 'poorly': 5327,\n",
       " 'punishment': 5522,\n",
       " 'worst': 7659,\n",
       " 'ever': 2685,\n",
       " 'happened': 3354,\n",
       " 'brb': 1495,\n",
       " 'kill': 3959,\n",
       " 'myself': 4684,\n",
       " 'onum': 4969,\n",
       " 'ela': 2572,\n",
       " 'normal': 4838,\n",
       " 'than': 6842,\n",
       " 'till': 6945,\n",
       " 'aiyar': 891,\n",
       " 'poor': 5326,\n",
       " 'support': 6660,\n",
       " 'jia': 3853,\n",
       " 'sounds': 6366,\n",
       " 'fingers': 2878,\n",
       " 'difficult': 2326,\n",
       " 'type': 7156,\n",
       " 'ya': 7718,\n",
       " '4goten': 521,\n",
       " 'scammers': 5959,\n",
       " 'smart': 6270,\n",
       " 'regular': 5696,\n",
       " 'vodafone': 7366,\n",
       " 'respond': 5773,\n",
       " 'further': 3074,\n",
       " 'prem': 5398,\n",
       " 'subscription': 6602,\n",
       " 'nos': 4842,\n",
       " 'used': 7271,\n",
       " 'beware': 1342,\n",
       " 'pay': 5138,\n",
       " 'over': 5047,\n",
       " 'sunshine': 6649,\n",
       " 'hols': 3493,\n",
       " 'med': 4435,\n",
       " 'holiday': 3490,\n",
       " 'stamped': 6466,\n",
       " 'self': 6023,\n",
       " 'address': 822,\n",
       " 'envelope': 2641,\n",
       " 'drinks': 2473,\n",
       " 'po': 5283,\n",
       " 'box': 1463,\n",
       " '113': 274,\n",
       " 'bray': 1494,\n",
       " 'wicklow': 7561,\n",
       " 'eire': 2570,\n",
       " 'quiz': 5566,\n",
       " 'starts': 6482,\n",
       " 'yar': 7724,\n",
       " 'clever': 1856,\n",
       " 'guesses': 3294,\n",
       " 'thk': 6896,\n",
       " 'darren': 2177,\n",
       " 'willing': 7573,\n",
       " 'aiya': 889,\n",
       " 'leona': 4103,\n",
       " 'attach': 1125,\n",
       " 'unless': 7221,\n",
       " 'guys': 3306,\n",
       " 'sooner': 6348,\n",
       " 'tot': 7043,\n",
       " 'ba': 1182,\n",
       " 'gua': 3284,\n",
       " 'faber': 2758,\n",
       " 'yest': 7744,\n",
       " 'mah': 4332,\n",
       " 'haf': 3319,\n",
       " ...}"
      ]
     },
     "execution_count": 88,
     "metadata": {},
     "output_type": "execute_result"
    }
   ],
   "source": [
    "v.vocabulary_"
   ]
  },
  {
   "cell_type": "code",
   "execution_count": 89,
   "id": "1244c42f-0a73-421a-9ae0-31087f4d4796",
   "metadata": {},
   "outputs": [
    {
     "data": {
      "text/plain": [
       "array([0, 0, 0, ..., 0, 0, 0], dtype=int64)"
      ]
     },
     "execution_count": 89,
     "metadata": {},
     "output_type": "execute_result"
    }
   ],
   "source": [
    "X_train_np = X_train_cv.toarray()\n",
    "X_train_np[0]"
   ]
  },
  {
   "cell_type": "code",
   "execution_count": 90,
   "id": "e03cbffd-e5bb-4e79-8f3f-c078636a3a6f",
   "metadata": {},
   "outputs": [
    {
     "data": {
      "text/plain": [
       "(array([ 763,  964, 2409, 2618, 2808, 3171, 3259, 3283, 3545, 3773, 4248,\n",
       "        4271, 4348, 4678, 4793, 4997, 5163, 5341, 5433, 5653, 6585, 6948,\n",
       "        7759], dtype=int64),)"
      ]
     },
     "execution_count": 90,
     "metadata": {},
     "output_type": "execute_result"
    }
   ],
   "source": [
    "np.where(X_train_np[0]!=0)"
   ]
  },
  {
   "cell_type": "code",
   "execution_count": 95,
   "id": "e14061a0-aae1-4607-a109-7f12413547a2",
   "metadata": {},
   "outputs": [
    {
     "data": {
      "text/plain": [
       "0"
      ]
     },
     "execution_count": 95,
     "metadata": {},
     "output_type": "execute_result"
    }
   ],
   "source": [
    "X_train_np[0][2222]"
   ]
  },
  {
   "cell_type": "code",
   "execution_count": 96,
   "id": "d68d575d-8191-491a-b176-06832f86ca74",
   "metadata": {},
   "outputs": [
    {
     "data": {
      "text/html": [
       "<style>#sk-container-id-1 {\n",
       "  /* Definition of color scheme common for light and dark mode */\n",
       "  --sklearn-color-text: black;\n",
       "  --sklearn-color-line: gray;\n",
       "  /* Definition of color scheme for unfitted estimators */\n",
       "  --sklearn-color-unfitted-level-0: #fff5e6;\n",
       "  --sklearn-color-unfitted-level-1: #f6e4d2;\n",
       "  --sklearn-color-unfitted-level-2: #ffe0b3;\n",
       "  --sklearn-color-unfitted-level-3: chocolate;\n",
       "  /* Definition of color scheme for fitted estimators */\n",
       "  --sklearn-color-fitted-level-0: #f0f8ff;\n",
       "  --sklearn-color-fitted-level-1: #d4ebff;\n",
       "  --sklearn-color-fitted-level-2: #b3dbfd;\n",
       "  --sklearn-color-fitted-level-3: cornflowerblue;\n",
       "\n",
       "  /* Specific color for light theme */\n",
       "  --sklearn-color-text-on-default-background: var(--sg-text-color, var(--theme-code-foreground, var(--jp-content-font-color1, black)));\n",
       "  --sklearn-color-background: var(--sg-background-color, var(--theme-background, var(--jp-layout-color0, white)));\n",
       "  --sklearn-color-border-box: var(--sg-text-color, var(--theme-code-foreground, var(--jp-content-font-color1, black)));\n",
       "  --sklearn-color-icon: #696969;\n",
       "\n",
       "  @media (prefers-color-scheme: dark) {\n",
       "    /* Redefinition of color scheme for dark theme */\n",
       "    --sklearn-color-text-on-default-background: var(--sg-text-color, var(--theme-code-foreground, var(--jp-content-font-color1, white)));\n",
       "    --sklearn-color-background: var(--sg-background-color, var(--theme-background, var(--jp-layout-color0, #111)));\n",
       "    --sklearn-color-border-box: var(--sg-text-color, var(--theme-code-foreground, var(--jp-content-font-color1, white)));\n",
       "    --sklearn-color-icon: #878787;\n",
       "  }\n",
       "}\n",
       "\n",
       "#sk-container-id-1 {\n",
       "  color: var(--sklearn-color-text);\n",
       "}\n",
       "\n",
       "#sk-container-id-1 pre {\n",
       "  padding: 0;\n",
       "}\n",
       "\n",
       "#sk-container-id-1 input.sk-hidden--visually {\n",
       "  border: 0;\n",
       "  clip: rect(1px 1px 1px 1px);\n",
       "  clip: rect(1px, 1px, 1px, 1px);\n",
       "  height: 1px;\n",
       "  margin: -1px;\n",
       "  overflow: hidden;\n",
       "  padding: 0;\n",
       "  position: absolute;\n",
       "  width: 1px;\n",
       "}\n",
       "\n",
       "#sk-container-id-1 div.sk-dashed-wrapped {\n",
       "  border: 1px dashed var(--sklearn-color-line);\n",
       "  margin: 0 0.4em 0.5em 0.4em;\n",
       "  box-sizing: border-box;\n",
       "  padding-bottom: 0.4em;\n",
       "  background-color: var(--sklearn-color-background);\n",
       "}\n",
       "\n",
       "#sk-container-id-1 div.sk-container {\n",
       "  /* jupyter's `normalize.less` sets `[hidden] { display: none; }`\n",
       "     but bootstrap.min.css set `[hidden] { display: none !important; }`\n",
       "     so we also need the `!important` here to be able to override the\n",
       "     default hidden behavior on the sphinx rendered scikit-learn.org.\n",
       "     See: https://github.com/scikit-learn/scikit-learn/issues/21755 */\n",
       "  display: inline-block !important;\n",
       "  position: relative;\n",
       "}\n",
       "\n",
       "#sk-container-id-1 div.sk-text-repr-fallback {\n",
       "  display: none;\n",
       "}\n",
       "\n",
       "div.sk-parallel-item,\n",
       "div.sk-serial,\n",
       "div.sk-item {\n",
       "  /* draw centered vertical line to link estimators */\n",
       "  background-image: linear-gradient(var(--sklearn-color-text-on-default-background), var(--sklearn-color-text-on-default-background));\n",
       "  background-size: 2px 100%;\n",
       "  background-repeat: no-repeat;\n",
       "  background-position: center center;\n",
       "}\n",
       "\n",
       "/* Parallel-specific style estimator block */\n",
       "\n",
       "#sk-container-id-1 div.sk-parallel-item::after {\n",
       "  content: \"\";\n",
       "  width: 100%;\n",
       "  border-bottom: 2px solid var(--sklearn-color-text-on-default-background);\n",
       "  flex-grow: 1;\n",
       "}\n",
       "\n",
       "#sk-container-id-1 div.sk-parallel {\n",
       "  display: flex;\n",
       "  align-items: stretch;\n",
       "  justify-content: center;\n",
       "  background-color: var(--sklearn-color-background);\n",
       "  position: relative;\n",
       "}\n",
       "\n",
       "#sk-container-id-1 div.sk-parallel-item {\n",
       "  display: flex;\n",
       "  flex-direction: column;\n",
       "}\n",
       "\n",
       "#sk-container-id-1 div.sk-parallel-item:first-child::after {\n",
       "  align-self: flex-end;\n",
       "  width: 50%;\n",
       "}\n",
       "\n",
       "#sk-container-id-1 div.sk-parallel-item:last-child::after {\n",
       "  align-self: flex-start;\n",
       "  width: 50%;\n",
       "}\n",
       "\n",
       "#sk-container-id-1 div.sk-parallel-item:only-child::after {\n",
       "  width: 0;\n",
       "}\n",
       "\n",
       "/* Serial-specific style estimator block */\n",
       "\n",
       "#sk-container-id-1 div.sk-serial {\n",
       "  display: flex;\n",
       "  flex-direction: column;\n",
       "  align-items: center;\n",
       "  background-color: var(--sklearn-color-background);\n",
       "  padding-right: 1em;\n",
       "  padding-left: 1em;\n",
       "}\n",
       "\n",
       "\n",
       "/* Toggleable style: style used for estimator/Pipeline/ColumnTransformer box that is\n",
       "clickable and can be expanded/collapsed.\n",
       "- Pipeline and ColumnTransformer use this feature and define the default style\n",
       "- Estimators will overwrite some part of the style using the `sk-estimator` class\n",
       "*/\n",
       "\n",
       "/* Pipeline and ColumnTransformer style (default) */\n",
       "\n",
       "#sk-container-id-1 div.sk-toggleable {\n",
       "  /* Default theme specific background. It is overwritten whether we have a\n",
       "  specific estimator or a Pipeline/ColumnTransformer */\n",
       "  background-color: var(--sklearn-color-background);\n",
       "}\n",
       "\n",
       "/* Toggleable label */\n",
       "#sk-container-id-1 label.sk-toggleable__label {\n",
       "  cursor: pointer;\n",
       "  display: block;\n",
       "  width: 100%;\n",
       "  margin-bottom: 0;\n",
       "  padding: 0.5em;\n",
       "  box-sizing: border-box;\n",
       "  text-align: center;\n",
       "}\n",
       "\n",
       "#sk-container-id-1 label.sk-toggleable__label-arrow:before {\n",
       "  /* Arrow on the left of the label */\n",
       "  content: \"▸\";\n",
       "  float: left;\n",
       "  margin-right: 0.25em;\n",
       "  color: var(--sklearn-color-icon);\n",
       "}\n",
       "\n",
       "#sk-container-id-1 label.sk-toggleable__label-arrow:hover:before {\n",
       "  color: var(--sklearn-color-text);\n",
       "}\n",
       "\n",
       "/* Toggleable content - dropdown */\n",
       "\n",
       "#sk-container-id-1 div.sk-toggleable__content {\n",
       "  max-height: 0;\n",
       "  max-width: 0;\n",
       "  overflow: hidden;\n",
       "  text-align: left;\n",
       "  /* unfitted */\n",
       "  background-color: var(--sklearn-color-unfitted-level-0);\n",
       "}\n",
       "\n",
       "#sk-container-id-1 div.sk-toggleable__content.fitted {\n",
       "  /* fitted */\n",
       "  background-color: var(--sklearn-color-fitted-level-0);\n",
       "}\n",
       "\n",
       "#sk-container-id-1 div.sk-toggleable__content pre {\n",
       "  margin: 0.2em;\n",
       "  border-radius: 0.25em;\n",
       "  color: var(--sklearn-color-text);\n",
       "  /* unfitted */\n",
       "  background-color: var(--sklearn-color-unfitted-level-0);\n",
       "}\n",
       "\n",
       "#sk-container-id-1 div.sk-toggleable__content.fitted pre {\n",
       "  /* unfitted */\n",
       "  background-color: var(--sklearn-color-fitted-level-0);\n",
       "}\n",
       "\n",
       "#sk-container-id-1 input.sk-toggleable__control:checked~div.sk-toggleable__content {\n",
       "  /* Expand drop-down */\n",
       "  max-height: 200px;\n",
       "  max-width: 100%;\n",
       "  overflow: auto;\n",
       "}\n",
       "\n",
       "#sk-container-id-1 input.sk-toggleable__control:checked~label.sk-toggleable__label-arrow:before {\n",
       "  content: \"▾\";\n",
       "}\n",
       "\n",
       "/* Pipeline/ColumnTransformer-specific style */\n",
       "\n",
       "#sk-container-id-1 div.sk-label input.sk-toggleable__control:checked~label.sk-toggleable__label {\n",
       "  color: var(--sklearn-color-text);\n",
       "  background-color: var(--sklearn-color-unfitted-level-2);\n",
       "}\n",
       "\n",
       "#sk-container-id-1 div.sk-label.fitted input.sk-toggleable__control:checked~label.sk-toggleable__label {\n",
       "  background-color: var(--sklearn-color-fitted-level-2);\n",
       "}\n",
       "\n",
       "/* Estimator-specific style */\n",
       "\n",
       "/* Colorize estimator box */\n",
       "#sk-container-id-1 div.sk-estimator input.sk-toggleable__control:checked~label.sk-toggleable__label {\n",
       "  /* unfitted */\n",
       "  background-color: var(--sklearn-color-unfitted-level-2);\n",
       "}\n",
       "\n",
       "#sk-container-id-1 div.sk-estimator.fitted input.sk-toggleable__control:checked~label.sk-toggleable__label {\n",
       "  /* fitted */\n",
       "  background-color: var(--sklearn-color-fitted-level-2);\n",
       "}\n",
       "\n",
       "#sk-container-id-1 div.sk-label label.sk-toggleable__label,\n",
       "#sk-container-id-1 div.sk-label label {\n",
       "  /* The background is the default theme color */\n",
       "  color: var(--sklearn-color-text-on-default-background);\n",
       "}\n",
       "\n",
       "/* On hover, darken the color of the background */\n",
       "#sk-container-id-1 div.sk-label:hover label.sk-toggleable__label {\n",
       "  color: var(--sklearn-color-text);\n",
       "  background-color: var(--sklearn-color-unfitted-level-2);\n",
       "}\n",
       "\n",
       "/* Label box, darken color on hover, fitted */\n",
       "#sk-container-id-1 div.sk-label.fitted:hover label.sk-toggleable__label.fitted {\n",
       "  color: var(--sklearn-color-text);\n",
       "  background-color: var(--sklearn-color-fitted-level-2);\n",
       "}\n",
       "\n",
       "/* Estimator label */\n",
       "\n",
       "#sk-container-id-1 div.sk-label label {\n",
       "  font-family: monospace;\n",
       "  font-weight: bold;\n",
       "  display: inline-block;\n",
       "  line-height: 1.2em;\n",
       "}\n",
       "\n",
       "#sk-container-id-1 div.sk-label-container {\n",
       "  text-align: center;\n",
       "}\n",
       "\n",
       "/* Estimator-specific */\n",
       "#sk-container-id-1 div.sk-estimator {\n",
       "  font-family: monospace;\n",
       "  border: 1px dotted var(--sklearn-color-border-box);\n",
       "  border-radius: 0.25em;\n",
       "  box-sizing: border-box;\n",
       "  margin-bottom: 0.5em;\n",
       "  /* unfitted */\n",
       "  background-color: var(--sklearn-color-unfitted-level-0);\n",
       "}\n",
       "\n",
       "#sk-container-id-1 div.sk-estimator.fitted {\n",
       "  /* fitted */\n",
       "  background-color: var(--sklearn-color-fitted-level-0);\n",
       "}\n",
       "\n",
       "/* on hover */\n",
       "#sk-container-id-1 div.sk-estimator:hover {\n",
       "  /* unfitted */\n",
       "  background-color: var(--sklearn-color-unfitted-level-2);\n",
       "}\n",
       "\n",
       "#sk-container-id-1 div.sk-estimator.fitted:hover {\n",
       "  /* fitted */\n",
       "  background-color: var(--sklearn-color-fitted-level-2);\n",
       "}\n",
       "\n",
       "/* Specification for estimator info (e.g. \"i\" and \"?\") */\n",
       "\n",
       "/* Common style for \"i\" and \"?\" */\n",
       "\n",
       ".sk-estimator-doc-link,\n",
       "a:link.sk-estimator-doc-link,\n",
       "a:visited.sk-estimator-doc-link {\n",
       "  float: right;\n",
       "  font-size: smaller;\n",
       "  line-height: 1em;\n",
       "  font-family: monospace;\n",
       "  background-color: var(--sklearn-color-background);\n",
       "  border-radius: 1em;\n",
       "  height: 1em;\n",
       "  width: 1em;\n",
       "  text-decoration: none !important;\n",
       "  margin-left: 1ex;\n",
       "  /* unfitted */\n",
       "  border: var(--sklearn-color-unfitted-level-1) 1pt solid;\n",
       "  color: var(--sklearn-color-unfitted-level-1);\n",
       "}\n",
       "\n",
       ".sk-estimator-doc-link.fitted,\n",
       "a:link.sk-estimator-doc-link.fitted,\n",
       "a:visited.sk-estimator-doc-link.fitted {\n",
       "  /* fitted */\n",
       "  border: var(--sklearn-color-fitted-level-1) 1pt solid;\n",
       "  color: var(--sklearn-color-fitted-level-1);\n",
       "}\n",
       "\n",
       "/* On hover */\n",
       "div.sk-estimator:hover .sk-estimator-doc-link:hover,\n",
       ".sk-estimator-doc-link:hover,\n",
       "div.sk-label-container:hover .sk-estimator-doc-link:hover,\n",
       ".sk-estimator-doc-link:hover {\n",
       "  /* unfitted */\n",
       "  background-color: var(--sklearn-color-unfitted-level-3);\n",
       "  color: var(--sklearn-color-background);\n",
       "  text-decoration: none;\n",
       "}\n",
       "\n",
       "div.sk-estimator.fitted:hover .sk-estimator-doc-link.fitted:hover,\n",
       ".sk-estimator-doc-link.fitted:hover,\n",
       "div.sk-label-container:hover .sk-estimator-doc-link.fitted:hover,\n",
       ".sk-estimator-doc-link.fitted:hover {\n",
       "  /* fitted */\n",
       "  background-color: var(--sklearn-color-fitted-level-3);\n",
       "  color: var(--sklearn-color-background);\n",
       "  text-decoration: none;\n",
       "}\n",
       "\n",
       "/* Span, style for the box shown on hovering the info icon */\n",
       ".sk-estimator-doc-link span {\n",
       "  display: none;\n",
       "  z-index: 9999;\n",
       "  position: relative;\n",
       "  font-weight: normal;\n",
       "  right: .2ex;\n",
       "  padding: .5ex;\n",
       "  margin: .5ex;\n",
       "  width: min-content;\n",
       "  min-width: 20ex;\n",
       "  max-width: 50ex;\n",
       "  color: var(--sklearn-color-text);\n",
       "  box-shadow: 2pt 2pt 4pt #999;\n",
       "  /* unfitted */\n",
       "  background: var(--sklearn-color-unfitted-level-0);\n",
       "  border: .5pt solid var(--sklearn-color-unfitted-level-3);\n",
       "}\n",
       "\n",
       ".sk-estimator-doc-link.fitted span {\n",
       "  /* fitted */\n",
       "  background: var(--sklearn-color-fitted-level-0);\n",
       "  border: var(--sklearn-color-fitted-level-3);\n",
       "}\n",
       "\n",
       ".sk-estimator-doc-link:hover span {\n",
       "  display: block;\n",
       "}\n",
       "\n",
       "/* \"?\"-specific style due to the `<a>` HTML tag */\n",
       "\n",
       "#sk-container-id-1 a.estimator_doc_link {\n",
       "  float: right;\n",
       "  font-size: 1rem;\n",
       "  line-height: 1em;\n",
       "  font-family: monospace;\n",
       "  background-color: var(--sklearn-color-background);\n",
       "  border-radius: 1rem;\n",
       "  height: 1rem;\n",
       "  width: 1rem;\n",
       "  text-decoration: none;\n",
       "  /* unfitted */\n",
       "  color: var(--sklearn-color-unfitted-level-1);\n",
       "  border: var(--sklearn-color-unfitted-level-1) 1pt solid;\n",
       "}\n",
       "\n",
       "#sk-container-id-1 a.estimator_doc_link.fitted {\n",
       "  /* fitted */\n",
       "  border: var(--sklearn-color-fitted-level-1) 1pt solid;\n",
       "  color: var(--sklearn-color-fitted-level-1);\n",
       "}\n",
       "\n",
       "/* On hover */\n",
       "#sk-container-id-1 a.estimator_doc_link:hover {\n",
       "  /* unfitted */\n",
       "  background-color: var(--sklearn-color-unfitted-level-3);\n",
       "  color: var(--sklearn-color-background);\n",
       "  text-decoration: none;\n",
       "}\n",
       "\n",
       "#sk-container-id-1 a.estimator_doc_link.fitted:hover {\n",
       "  /* fitted */\n",
       "  background-color: var(--sklearn-color-fitted-level-3);\n",
       "}\n",
       "</style><div id=\"sk-container-id-1\" class=\"sk-top-container\"><div class=\"sk-text-repr-fallback\"><pre>MultinomialNB()</pre><b>In a Jupyter environment, please rerun this cell to show the HTML representation or trust the notebook. <br />On GitHub, the HTML representation is unable to render, please try loading this page with nbviewer.org.</b></div><div class=\"sk-container\" hidden><div class=\"sk-item\"><div class=\"sk-estimator fitted sk-toggleable\"><input class=\"sk-toggleable__control sk-hidden--visually\" id=\"sk-estimator-id-1\" type=\"checkbox\" checked><label for=\"sk-estimator-id-1\" class=\"sk-toggleable__label fitted sk-toggleable__label-arrow fitted\">&nbsp;&nbsp;MultinomialNB<a class=\"sk-estimator-doc-link fitted\" rel=\"noreferrer\" target=\"_blank\" href=\"https://scikit-learn.org/1.5/modules/generated/sklearn.naive_bayes.MultinomialNB.html\">?<span>Documentation for MultinomialNB</span></a><span class=\"sk-estimator-doc-link fitted\">i<span>Fitted</span></span></label><div class=\"sk-toggleable__content fitted\"><pre>MultinomialNB()</pre></div> </div></div></div></div>"
      ],
      "text/plain": [
       "MultinomialNB()"
      ]
     },
     "execution_count": 96,
     "metadata": {},
     "output_type": "execute_result"
    }
   ],
   "source": [
    "from sklearn.naive_bayes import MultinomialNB\n",
    "\n",
    "model = MultinomialNB()\n",
    "model.fit(X_train_cv, y_train)"
   ]
  },
  {
   "cell_type": "code",
   "execution_count": 97,
   "id": "791405a0-dba4-4302-ac5f-1a6ee5b8196a",
   "metadata": {},
   "outputs": [],
   "source": [
    "X_test_cv = v.transform(X_test)"
   ]
  },
  {
   "cell_type": "code",
   "execution_count": 98,
   "id": "04aa85cd-e81d-4423-89a8-b3c15b50875e",
   "metadata": {},
   "outputs": [
    {
     "name": "stdout",
     "output_type": "stream",
     "text": [
      "              precision    recall  f1-score   support\n",
      "\n",
      "           0       0.99      1.00      0.99       976\n",
      "           1       0.98      0.94      0.96       139\n",
      "\n",
      "    accuracy                           0.99      1115\n",
      "   macro avg       0.98      0.97      0.98      1115\n",
      "weighted avg       0.99      0.99      0.99      1115\n",
      "\n"
     ]
    }
   ],
   "source": [
    "from sklearn.metrics import classification_report\n",
    "\n",
    "y_pred = model.predict(X_test_cv)\n",
    "\n",
    "print(classification_report(y_test, y_pred))"
   ]
  },
  {
   "cell_type": "code",
   "execution_count": 99,
   "id": "af03c76f-a772-49db-9581-81336dabf4e4",
   "metadata": {},
   "outputs": [
    {
     "data": {
      "text/plain": [
       "array([0, 1])"
      ]
     },
     "execution_count": 99,
     "metadata": {},
     "output_type": "execute_result"
    }
   ],
   "source": [
    "emails = [\n",
    "    'Hey mohan, can we get together to watch footbal game tomorrow?',\n",
    "    'Upto 20% discount on parking, exclusive offer just for you. Dont miss this reward!'\n",
    "]\n",
    "\n",
    "emails_count = v.transform(emails)\n",
    "model.predict(emails_count)"
   ]
  }
 ],
 "metadata": {
  "kernelspec": {
   "display_name": "Python 3 (ipykernel)",
   "language": "python",
   "name": "python3"
  },
  "language_info": {
   "codemirror_mode": {
    "name": "ipython",
    "version": 3
   },
   "file_extension": ".py",
   "mimetype": "text/x-python",
   "name": "python",
   "nbconvert_exporter": "python",
   "pygments_lexer": "ipython3",
   "version": "3.12.4"
  }
 },
 "nbformat": 4,
 "nbformat_minor": 5
}
