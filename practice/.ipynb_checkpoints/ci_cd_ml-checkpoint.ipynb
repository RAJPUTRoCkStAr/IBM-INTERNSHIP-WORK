{
 "cells": [
  {
   "cell_type": "raw",
   "id": "cec4a2a2-66b1-4611-87ad-1d2d9a7e77b6",
   "metadata": {},
   "source": [
    "Continuous Integration (CI) and Continuous Deployment (CD) are practices commonly used in software development to automate the process of integrating code changes, testing them, and deploying the updated application quickly. "
   ]
  },
  {
   "cell_type": "code",
   "execution_count": null,
   "id": "239f1717-e214-4f48-9f95-7703bf6a13e2",
   "metadata": {},
   "outputs": [],
   "source": [
    "make a file name Makefile and than write the below code\n",
    "install:\n",
    "    pip install --upgrade pip &&\\\n",
    "        pip install -r requirements.txt\n",
    "\n",
    "format:\n",
    "    black *.py\n",
    "\n",
    "train:\n",
    "    python train.py\n",
    "\n",
    "eval:\n",
    "    echo \"## Model Metrics\" > report.md\n",
    "    cat ./Results/metrics.txt >> report.md\n",
    "   \n",
    "    echo '\\n## Confusion Matrix Plot' >> report.md\n",
    "    echo '![Confusion Matrix](./Results/model_results.png)' >> report.md\n",
    "   \n",
    "    cml comment create report.md"
   ]
  },
  {
   "cell_type": "code",
   "execution_count": null,
   "id": "5aa263e9-74ed-4308-8013-1471c148bf3d",
   "metadata": {},
   "outputs": [],
   "source": [
    "https://www.datacamp.com/tutorial/ci-cd-for-machine-learning"
   ]
  }
 ],
 "metadata": {
  "kernelspec": {
   "display_name": "",
   "name": ""
  },
  "language_info": {
   "name": ""
  }
 },
 "nbformat": 4,
 "nbformat_minor": 5
}
