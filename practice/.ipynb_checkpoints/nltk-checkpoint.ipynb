{
 "cells": [
  {
   "cell_type": "code",
   "execution_count": 1,
   "id": "b84958ba-f90e-4809-898c-6321e744f915",
   "metadata": {},
   "outputs": [],
   "source": [
    "import nltk"
   ]
  },
  {
   "cell_type": "code",
   "execution_count": 42,
   "id": "4247053a-7f49-40bd-8283-d9ec0ff67d90",
   "metadata": {},
   "outputs": [
    {
     "name": "stderr",
     "output_type": "stream",
     "text": [
      "[nltk_data] Downloading package wordnet to\n",
      "[nltk_data]     C:\\Users\\sumit\\AppData\\Roaming\\nltk_data...\n"
     ]
    },
    {
     "data": {
      "text/plain": [
       "True"
      ]
     },
     "execution_count": 42,
     "metadata": {},
     "output_type": "execute_result"
    }
   ],
   "source": [
    "# nltk.download('punkt_tab')\n",
    "# nltk.download('stopwords')\n",
    "nltk.download('wordnet')"
   ]
  },
  {
   "cell_type": "code",
   "execution_count": 18,
   "id": "17e949b9-91be-49cd-b804-3caa1b56271c",
   "metadata": {},
   "outputs": [],
   "source": [
    "text = \"Welcome you to programming knowledge. Lets start with our first tutorial on NlTk . We shall learn to basics of NLTk here\"\n",
    "demowords = [\"playing\",\"happiness\",\"going\",\"doing\",\"yes\",\"no\",\"I\",\"having\",\"had\",\"haved\"]"
   ]
  },
  {
   "cell_type": "code",
   "execution_count": 9,
   "id": "8df5f611-2d52-444d-89bf-3528ddc88b60",
   "metadata": {},
   "outputs": [
    {
     "name": "stdout",
     "output_type": "stream",
     "text": [
      "['Welcome', 'you', 'to', 'programming', 'knowledge', '.', 'Lets', 'start', 'with', 'our', 'first', 'tutorial', 'on', 'NlTk', '.', 'We', 'shall', 'learn', 'to', 'basics', 'of', 'NLTk', 'here']\n"
     ]
    }
   ],
   "source": [
    "from nltk.tokenize import word_tokenize\n",
    "print(word_tokenize(text))"
   ]
  },
  {
   "cell_type": "code",
   "execution_count": 11,
   "id": "a41268d5-265a-41ad-9e1e-e5106c8d030f",
   "metadata": {},
   "outputs": [
    {
     "name": "stdout",
     "output_type": "stream",
     "text": [
      "['Welcome you to programming knowledge.', 'Lets start with our first tutorial on NlTk .', 'We shall learn to basics of NLTk here']\n"
     ]
    }
   ],
   "source": [
    "from nltk.tokenize import sent_tokenize\n",
    "print(sent_tokenize(text))"
   ]
  },
  {
   "cell_type": "code",
   "execution_count": 15,
   "id": "19fdaab3-0bd0-4049-89e9-fafbd5326173",
   "metadata": {},
   "outputs": [
    {
     "name": "stdout",
     "output_type": "stream",
     "text": [
      "[(' ', 21), ('o', 10), ('e', 9)]\n"
     ]
    }
   ],
   "source": [
    "from nltk.probability import FreqDist\n",
    "fd = FreqDist(text)\n",
    "print(fd.most_common(3))"
   ]
  },
  {
   "cell_type": "code",
   "execution_count": 17,
   "id": "639b494b-a547-463b-b3b8-a6f3ba5adcfa",
   "metadata": {},
   "outputs": [
    {
     "data": {
      "text/plain": [
       "<function matplotlib.pyplot.show(close=None, block=None)>"
      ]
     },
     "execution_count": 17,
     "metadata": {},
     "output_type": "execute_result"
    },
    {
     "data": {
      "image/png": "[encoded data removed]",
      "text/plain": [
       "<Figure size 640x480 with 1 Axes>"
      ]
     },
     "metadata": {},
     "output_type": "display_data"
    }
   ],
   "source": [
    "import matplotlib.pyplot as plt\n",
    "fd.plot(30,cumulative=False)\n",
    "plt.show"
   ]
  },
  {
   "cell_type": "code",
   "execution_count": 27,
   "id": "ed9d964c-1c17-4073-b682-a7cc542a5fd8",
   "metadata": {},
   "outputs": [
    {
     "name": "stdout",
     "output_type": "stream",
     "text": [
      "total length of stop words :=> 179 \n",
      " words :=> ['i', 'me', 'my', 'myself', 'we', 'our', 'ours', 'ourselves', 'you', \"you're\", \"you've\", \"you'll\", \"you'd\", 'your', 'yours', 'yourself', 'yourselves', 'he', 'him', 'his', 'himself', 'she', \"she's\", 'her', 'hers', 'herself', 'it', \"it's\", 'its', 'itself', 'they', 'them', 'their', 'theirs', 'themselves', 'what', 'which', 'who', 'whom', 'this', 'that', \"that'll\", 'these', 'those', 'am', 'is', 'are', 'was', 'were', 'be', 'been', 'being', 'have', 'has', 'had', 'having', 'do', 'does', 'did', 'doing', 'a', 'an', 'the', 'and', 'but', 'if', 'or', 'because', 'as', 'until', 'while', 'of', 'at', 'by', 'for', 'with', 'about', 'against', 'between', 'into', 'through', 'during', 'before', 'after', 'above', 'below', 'to', 'from', 'up', 'down', 'in', 'out', 'on', 'off', 'over', 'under', 'again', 'further', 'then', 'once', 'here', 'there', 'when', 'where', 'why', 'how', 'all', 'any', 'both', 'each', 'few', 'more', 'most', 'other', 'some', 'such', 'no', 'nor', 'not', 'only', 'own', 'same', 'so', 'than', 'too', 'very', 's', 't', 'can', 'will', 'just', 'don', \"don't\", 'should', \"should've\", 'now', 'd', 'll', 'm', 'o', 're', 've', 'y', 'ain', 'aren', \"aren't\", 'couldn', \"couldn't\", 'didn', \"didn't\", 'doesn', \"doesn't\", 'hadn', \"hadn't\", 'hasn', \"hasn't\", 'haven', \"haven't\", 'isn', \"isn't\", 'ma', 'mightn', \"mightn't\", 'mustn', \"mustn't\", 'needn', \"needn't\", 'shan', \"shan't\", 'shouldn', \"shouldn't\", 'wasn', \"wasn't\", 'weren', \"weren't\", 'won', \"won't\", 'wouldn', \"wouldn't\"]\n"
     ]
    }
   ],
   "source": [
    "from nltk.corpus import stopwords\n",
    "stop_words = stopwords.words('english')\n",
    "print(f\"total length of stop words :=> {len(stop_words)} \\n words :=> {stop_words}\")"
   ]
  },
  {
   "cell_type": "code",
   "execution_count": 32,
   "id": "8fdfa1c9-5ea1-4571-ab6a-9e6f06276936",
   "metadata": {},
   "outputs": [
    {
     "name": "stdout",
     "output_type": "stream",
     "text": [
      "['Welcome', 'you', 'to', 'programming', 'knowledge', '.', 'Lets', 'start', 'with', 'our', 'first', 'tutorial', 'on', 'NlTk', '.', 'We', 'shall', 'learn', 'to', 'basics', 'of', 'NLTk', 'here']\n"
     ]
    }
   ],
   "source": [
    "from nltk.tokenize import sent_tokenize,word_tokenize\n",
    "tokenize_words = word_tokenize(text)\n",
    "print(words)"
   ]
  },
  {
   "cell_type": "code",
   "execution_count": 40,
   "id": "1b0b73fe-e4ca-4a28-ba56-0829f3cc4ff6",
   "metadata": {},
   "outputs": [
    {
     "name": "stdout",
     "output_type": "stream",
     "text": [
      "this is difference \n",
      " {'to', 'here', 'of', 'our', 'you', 'on', 'with'}\n",
      "after removing whatever is left \n",
      " {'tutorial', 'start', 'NlTk', 'knowledge', 'programming', 'first', 'We', '.', 'shall', 'Lets', 'learn', 'Welcome', 'basics', 'NLTk'}\n",
      "this words were removed \n",
      " {'of', 'you', 'with', 'We', 'our', 'to', 'NlTk', 'knowledge', 'shall', 'Lets', 'learn', 'basics', 'NLTk', 'Welcome', 'tutorial', 'start', 'programming', 'here', 'first', '.', 'on'}\n"
     ]
    }
   ],
   "source": [
    "without_stop_words = []\n",
    "for word in tokenize_words:\n",
    "    if word not in stop_words:\n",
    "        without_stop_words.append(word)\n",
    "print(\"this is difference \\n\",set(tokenize_words)-set(without_stop_words))#this is difference \n",
    "print(\"after removing whatever is left \\n\",set(without_stop_words)) #after removing whatever is left\n",
    "print(\"this words were removed \\n\",set(tokenize_words))#this words were removed "
   ]
  },
  {
   "cell_type": "code",
   "execution_count": 43,
   "id": "b7f3c0d4-a871-43e3-b9e5-2a5d2fd01449",
   "metadata": {},
   "outputs": [],
   "source": [
    "from nltk.stem import PorterStemmer,WordNetLemmatizer"
   ]
  },
  {
   "cell_type": "code",
   "execution_count": 45,
   "id": "6d7f766d-de04-42a6-aa04-ba8771f11780",
   "metadata": {},
   "outputs": [
    {
     "name": "stdout",
     "output_type": "stream",
     "text": [
      "play play\n",
      "happi happiness\n",
      "go go\n",
      "do do\n",
      "ye yes\n",
      "no no\n",
      "i I\n",
      "have have\n",
      "had have\n",
      "have have\n"
     ]
    }
   ],
   "source": [
    "lemm = WordNetLemmatizer()\n",
    "stem = PorterStemmer()\n",
    "for word in demowords:\n",
    "    print(stem.stem(word),lemm.lemmatize(word,\"v\"))"
   ]
  },
  {
   "cell_type": "code",
   "execution_count": 46,
   "id": "f8002e04-9e5f-42ec-a6a5-fe9558069d13",
   "metadata": {},
   "outputs": [
    {
     "data": {
      "text/plain": [
       "{'neg': 0.0, 'neu': 0.377, 'pos': 0.623, 'compound': 0.5106}"
      ]
     },
     "execution_count": 46,
     "metadata": {},
     "output_type": "execute_result"
    }
   ],
   "source": [
    "from nltk.sentiment import SentimentIntensityAnalyzer\n",
    "sia = SentimentIntensityAnalyzer()\n",
    "sia.polarity_scores(\"programming is fun\")"
   ]
  },
  {
   "cell_type": "code",
   "execution_count": 52,
   "id": "d9fe84a9-1bf0-470e-9915-861436b7e1f5",
   "metadata": {},
   "outputs": [
    {
     "name": "stdout",
     "output_type": "stream",
     "text": [
      "a machine for performing calculations automatically\n"
     ]
    }
   ],
   "source": [
    "from nltk.corpus import wordnet\n",
    "syn = wordnet.synsets('Computer')\n",
    "print(syn[0].definition())"
   ]
  },
  {
   "cell_type": "code",
   "execution_count": 54,
   "id": "10d77bfd-d2ba-45b1-b360-14e2b30c03e2",
   "metadata": {},
   "outputs": [
    {
     "name": "stdout",
     "output_type": "stream",
     "text": [
      "['computer', 'computing_machine', 'computing_device', 'data_processor', 'electronic_computer', 'information_processing_system', 'calculator', 'reckoner', 'figurer', 'estimator', 'computer']\n"
     ]
    }
   ],
   "source": [
    "from nltk.corpus import wordnet\n",
    "syno = []\n",
    "for syn in wordnet.synsets('Computer'):\n",
    "    for lem in syn.lemmas():\n",
    "        syno.append(lem.name())\n",
    "\n",
    "print(syno)"
   ]
  },
  {
   "cell_type": "code",
   "execution_count": 61,
   "id": "476cc029-6c60-4775-9a54-728e8080206c",
   "metadata": {},
   "outputs": [
    {
     "name": "stdout",
     "output_type": "stream",
     "text": [
      "['evil', 'evilness', 'bad', 'badness', 'bad', 'evil', 'ill']\n"
     ]
    }
   ],
   "source": [
    "ant = []\n",
    "for syn in wordnet.synsets('good'):\n",
    "    for lem in syn.lemmas():\n",
    "        if lem.antonyms():\n",
    "            ant.append(lem.antonyms()[0].name())\n",
    "\n",
    "print(ant)"
   ]
  },
  {
   "cell_type": "code",
   "execution_count": null,
   "id": "a91bb496-c126-4da5-b884-90c495c8aa54",
   "metadata": {},
   "outputs": [],
   "source": [
    "1. Corpus Access\n",
    "nltk.corpus.brown: Access the Brown Corpus.\n",
    "from nltk.corpus import brown\n",
    "nltk.corpus.reuters: Access the Reuters Corpus.\n",
    "from nltk.corpus import reuters\n",
    "nltk.corpus.gutenberg: Access the Gutenberg Corpus.\n",
    "from nltk.corpus import gutenberg\n",
    "nltk.corpus.wordnet: Interface to the WordNet lexical database.\n",
    "from nltk.corpus import wordnet\n",
    "2. Tokenization\n",
    "nltk.tokenize.sent_tokenize: Tokenize text into sentences.\n",
    "from nltk.tokenize import sent_tokenize\n",
    "nltk.tokenize.TweetTokenizer: Tokenizer for social media text.\n",
    "from nltk.tokenize import TweetTokenizer\n",
    "nltk.tokenize.RegexpTokenizer: Tokenizer using regular expressions.\n",
    "from nltk.tokenize import RegexpTokenizer\n",
    "3. Text Processing\n",
    "nltk.stem.PorterStemmer: Porter Stemming algorithm.\n",
    "from nltk.stem import PorterStemmer\n",
    "nltk.stem.LancasterStemmer: Lancaster Stemming algorithm.\n",
    "from nltk.stem import LancasterStemmer\n",
    "4. POS Tagging\n",
    "nltk.pos_tag: Part-of-speech tagging for words.\n",
    "from nltk import pos_tag\n",
    "nltk.tag.perceptron.PerceptronTagger: Fast, lightweight POS tagger.\n",
    "from nltk.tag.perceptron import PerceptronTagger\n",
    "5. Parsing and Grammars\n",
    "nltk.grammar.CFG: Create context-free grammar.\n",
    "from nltk import CFG\n",
    "nltk.parse.chart.ChartParser: Chart parser for parsing sentences with CFGs.\n",
    "from nltk.parse.chart import ChartParser\n",
    "6. Named Entity Recognition\n",
    "nltk.ne_chunk: Perform named entity recognition.\n",
    "from nltk import ne_chunk\n",
    "nltk.chunk.RegexpParser: Create chunk parsers with regular expressions.\n",
    "from nltk.chunk import RegexpParser\n",
    "7. Classification and Machine Learning\n",
    "nltk.classify.NaiveBayesClassifier: Naive Bayes classifier.\n",
    "from nltk.classify import NaiveBayesClassifier\n",
    "nltk.classify.DecisionTreeClassifier: Decision Tree classifier.\n",
    "from nltk.classify import DecisionTreeClassifier\n",
    "nltk.MaxentClassifier: Maximum Entropy (Logistic Regression) classifier.\n",
    "from nltk.classify import MaxentClassifier\n",
    "8. Frequency Distribution and Collocations\n",
    "nltk.FreqDist: Frequency distribution of tokens.\n",
    "from nltk import FreqDist\n",
    "nltk.collocations.BigramCollocationFinder: Finding bigram collocations.\n",
    "from nltk.collocations import BigramCollocationFinder\n",
    "nltk.collocations.TrigramCollocationFinder: Finding trigram collocations.\n",
    "from nltk.collocations import TrigramCollocationFinder\n",
    "9. Evaluation and Metrics\n",
    "nltk.metrics.accuracy: Calculate accuracy for classification models.\n",
    "from nltk.metrics import accuracy\n",
    "nltk.ConfusionMatrix: Create confusion matrix for classification.\n",
    "from nltk import ConfusionMatrix\n",
    "10. Utilities\n",
    "nltk.util.ngrams: Generate n-grams from tokens.\n",
    "from nltk.util import ngrams\n",
    "nltk.util.bigrams: Generate bigrams from tokens.\n",
    "from nltk.util import bigrams\n",
    "nltk.util.trigrams: Generate trigrams from tokens.\n",
    "from nltk.util import trigrams\n",
    "11. Text Generation\n",
    "nltk.Text: Tools for analyzing and generating text.\n",
    "from nltk import Text\n",
    "12. Sentiment Analysis\n",
    "nltk.sentiment.util.demo_vader_instance: Test VADER sentiment analyzer.\n",
    "from nltk.sentiment.util import demo_vader_instance\n",
    "13. Other Tools\n",
    "nltk.parse.generate: Generate sentences from a grammar.\n",
    "from nltk.parse.generate import generate\n",
    "nltk.data.find: Locate the location of data files.\n",
    "from nltk.data import find"
   ]
  }
 ],
 "metadata": {
  "kernelspec": {
   "display_name": "Python 3 (ipykernel)",
   "language": "python",
   "name": "python3"
  },
  "language_info": {
   "codemirror_mode": {
    "name": "ipython",
    "version": 3
   },
   "file_extension": ".py",
   "mimetype": "text/x-python",
   "name": "python",
   "nbconvert_exporter": "python",
   "pygments_lexer": "ipython3",
   "version": "3.12.4"
  }
 },
 "nbformat": 4,
 "nbformat_minor": 5
}
