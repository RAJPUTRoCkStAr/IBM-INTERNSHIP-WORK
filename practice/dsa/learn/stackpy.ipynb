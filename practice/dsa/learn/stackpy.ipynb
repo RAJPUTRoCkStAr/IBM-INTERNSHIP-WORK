{
 "cells": [
  {
   "cell_type": "markdown",
   "id": "6da3ae59-a4de-4315-9fc3-32a639b2b431",
   "metadata": {},
   "source": [
    "### to do this we have 3 ways one is simple way which is just below another one is below that where we need to import a collection thing"
   ]
  },
  {
   "cell_type": "code",
   "execution_count": 1,
   "id": "8f908649-913a-4dc5-b3b3-99bbca548b19",
   "metadata": {},
   "outputs": [
    {
     "name": "stdin",
     "output_type": "stream",
     "text": [
      "enter the limit : 2\n"
     ]
    },
    {
     "name": "stdout",
     "output_type": "stream",
     "text": [
      "choose your operation 1.push 2.pop 3.exit\n"
     ]
    },
    {
     "name": "stdin",
     "output_type": "stream",
     "text": [
      "enter your choice 1\n",
      "enter an element to push 10\n"
     ]
    },
    {
     "name": "stdout",
     "output_type": "stream",
     "text": [
      "[10]\n",
      "choose your operation 1.push 2.pop 3.exit\n"
     ]
    },
    {
     "name": "stdin",
     "output_type": "stream",
     "text": [
      "enter your choice 3\n"
     ]
    }
   ],
   "source": [
    "stacks = []\n",
    "def stacpu():\n",
    "    if len(stacks)==n:\n",
    "        print(\"you have reached the limit\")\n",
    "    else:\n",
    "        raw = int(input(\"enter an element to push\"))\n",
    "        stacks.append(raw)\n",
    "        print(stacks)\n",
    "def stacpop():\n",
    "    if not stacks:\n",
    "        print(\"its empty\")\n",
    "    else:\n",
    "        e=stacks.pop()\n",
    "        print(\"removed element\",e)\n",
    "        print(stacks)\n",
    "n = int(input(\"enter the limit :\"))\n",
    "while True:\n",
    "    print(\"choose your operation 1.push 2.pop 3.exit\")\n",
    "    choice = int(input(\"enter your choice\"))\n",
    "    if choice == 1:\n",
    "          stacpu()\n",
    "    elif choice == 2:\n",
    "         stacpop()\n",
    "    elif choice == 3:\n",
    "         break\n",
    "    else:\n",
    "        print(\"you have not selected anything yet\")\n",
    "          "
   ]
  },
  {
   "cell_type": "code",
   "execution_count": 2,
   "id": "cd0e13d1-e018-406d-bea8-cc6dc8eba1e2",
   "metadata": {},
   "outputs": [],
   "source": [
    "import collections"
   ]
  },
  {
   "cell_type": "code",
   "execution_count": 3,
   "id": "5251c48c-4eee-434a-b142-28384668efdb",
   "metadata": {},
   "outputs": [],
   "source": [
    "stack = collections.deque() #this way i can create a stacks"
   ]
  },
  {
   "cell_type": "code",
   "execution_count": 4,
   "id": "90ca27b7-1d8a-43f7-bdd4-49069b3a953f",
   "metadata": {},
   "outputs": [
    {
     "data": {
      "text/plain": [
       "deque([])"
      ]
     },
     "execution_count": 4,
     "metadata": {},
     "output_type": "execute_result"
    }
   ],
   "source": [
    "stack"
   ]
  },
  {
   "cell_type": "code",
   "execution_count": 5,
   "id": "413de33e-a331-44ae-9096-70915368478b",
   "metadata": {},
   "outputs": [
    {
     "data": {
      "text/plain": [
       "deque([])"
      ]
     },
     "execution_count": 5,
     "metadata": {},
     "output_type": "execute_result"
    }
   ],
   "source": [
    "stack"
   ]
  },
  {
   "cell_type": "code",
   "execution_count": 6,
   "id": "0063e8d8-6532-404b-9e31-d2c3272e71d2",
   "metadata": {},
   "outputs": [],
   "source": [
    "stack.append(30) #this way you can add single element"
   ]
  },
  {
   "cell_type": "code",
   "execution_count": 7,
   "id": "272ab980-9e3f-4a9c-b7e4-0d1d18e66825",
   "metadata": {},
   "outputs": [
    {
     "data": {
      "text/plain": [
       "deque([30])"
      ]
     },
     "execution_count": 7,
     "metadata": {},
     "output_type": "execute_result"
    }
   ],
   "source": [
    "stack"
   ]
  },
  {
   "cell_type": "code",
   "execution_count": 8,
   "id": "9f2d37f5-e407-4830-a603-09734872a324",
   "metadata": {},
   "outputs": [
    {
     "data": {
      "text/plain": [
       "deque([])"
      ]
     },
     "execution_count": 8,
     "metadata": {},
     "output_type": "execute_result"
    }
   ],
   "source": [
    "stack.pop() #to remove an last element \n",
    "stack"
   ]
  },
  {
   "cell_type": "code",
   "execution_count": 9,
   "id": "a85f18ae-5e74-4168-bdf6-86c012a9c35b",
   "metadata": {},
   "outputs": [
    {
     "data": {
      "text/plain": [
       "True"
      ]
     },
     "execution_count": 9,
     "metadata": {},
     "output_type": "execute_result"
    }
   ],
   "source": [
    "not stack"
   ]
  },
  {
   "cell_type": "code",
   "execution_count": 10,
   "id": "5bf192ab-21ff-431c-af85-9b75a1ee6b63",
   "metadata": {},
   "outputs": [],
   "source": [
    "stack.append(22)"
   ]
  },
  {
   "cell_type": "code",
   "execution_count": 13,
   "id": "520479dd-2576-4ac4-ad3b-e2a3c6540f63",
   "metadata": {},
   "outputs": [],
   "source": [
    "stack.append(23)"
   ]
  },
  {
   "cell_type": "code",
   "execution_count": 14,
   "id": "17920de5-c979-4b65-b457-02a839a48d5d",
   "metadata": {},
   "outputs": [],
   "source": [
    "stack.append(24)"
   ]
  },
  {
   "cell_type": "code",
   "execution_count": 11,
   "id": "bcecbb87-0c76-4709-bf70-f5880dbd8b87",
   "metadata": {},
   "outputs": [
    {
     "data": {
      "text/plain": [
       "False"
      ]
     },
     "execution_count": 11,
     "metadata": {},
     "output_type": "execute_result"
    }
   ],
   "source": [
    "not stack"
   ]
  },
  {
   "cell_type": "code",
   "execution_count": 15,
   "id": "618b8b30-c428-47db-ba92-e102e639f9c1",
   "metadata": {},
   "outputs": [
    {
     "data": {
      "text/plain": [
       "24"
      ]
     },
     "execution_count": 15,
     "metadata": {},
     "output_type": "execute_result"
    }
   ],
   "source": [
    "stack[-1] #this is used to check the last element"
   ]
  },
  {
   "cell_type": "code",
   "execution_count": 16,
   "id": "721a7a43-a57f-46c5-b02a-0ab4d2cb9fdd",
   "metadata": {},
   "outputs": [],
   "source": [
    "# this is the third way \n",
    "import queue"
   ]
  },
  {
   "cell_type": "code",
   "execution_count": 20,
   "id": "c57070e4-801b-4cf0-93ed-41761bbc86cd",
   "metadata": {},
   "outputs": [
    {
     "data": {
      "text/plain": [
       "<queue.LifoQueue at 0x142fb37bf50>"
      ]
     },
     "execution_count": 20,
     "metadata": {},
     "output_type": "execute_result"
    }
   ],
   "source": [
    "stacks = queue.LifoQueue()\n",
    "stacks"
   ]
  },
  {
   "cell_type": "code",
   "execution_count": 21,
   "id": "2dc3d8e3-1651-49ee-86f2-b38db938649d",
   "metadata": {},
   "outputs": [],
   "source": [
    "stacks.put(10)"
   ]
  },
  {
   "cell_type": "code",
   "execution_count": 22,
   "id": "133c0038-2e69-48d6-9e51-85069ea7092b",
   "metadata": {},
   "outputs": [],
   "source": [
    "stacks.put(20)"
   ]
  },
  {
   "cell_type": "code",
   "execution_count": 23,
   "id": "9c2dcff3-edf8-45dc-bcd1-c79e5f2f031d",
   "metadata": {},
   "outputs": [],
   "source": [
    "stacks.put(30)"
   ]
  },
  {
   "cell_type": "code",
   "execution_count": 24,
   "id": "bef8ff62-c3e8-402e-af10-90efcf4f89e0",
   "metadata": {},
   "outputs": [
    {
     "data": {
      "text/plain": [
       "<queue.LifoQueue at 0x142fb37bf50>"
      ]
     },
     "execution_count": 24,
     "metadata": {},
     "output_type": "execute_result"
    }
   ],
   "source": [
    "stacks"
   ]
  },
  {
   "cell_type": "code",
   "execution_count": 26,
   "id": "d90195f3-5d7b-4edd-a44b-48ee4cd63f0c",
   "metadata": {},
   "outputs": [
    {
     "data": {
      "text/plain": [
       "30"
      ]
     },
     "execution_count": 26,
     "metadata": {},
     "output_type": "execute_result"
    }
   ],
   "source": [
    "stacks.get()"
   ]
  },
  {
   "cell_type": "code",
   "execution_count": 27,
   "id": "65369936-607a-42c3-813e-a9a50d19b3ce",
   "metadata": {},
   "outputs": [
    {
     "data": {
      "text/plain": [
       "<queue.LifoQueue at 0x142fb88d190>"
      ]
     },
     "execution_count": 27,
     "metadata": {},
     "output_type": "execute_result"
    }
   ],
   "source": [
    "# to put kimit of the stacks use \n",
    "stacks = queue.LifoQueue(3) # we gave it limit of 3\n",
    "stacks"
   ]
  }
 ],
 "metadata": {
  "kernelspec": {
   "display_name": "Python 3 (ipykernel)",
   "language": "python",
   "name": "python3"
  },
  "language_info": {
   "codemirror_mode": {
    "name": "ipython",
    "version": 3
   },
   "file_extension": ".py",
   "mimetype": "text/x-python",
   "name": "python",
   "nbconvert_exporter": "python",
   "pygments_lexer": "ipython3",
   "version": "3.11.1"
  }
 },
 "nbformat": 4,
 "nbformat_minor": 5
}
