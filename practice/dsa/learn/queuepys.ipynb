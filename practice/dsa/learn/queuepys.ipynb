{
 "cells": [
  {
   "cell_type": "raw",
   "id": "a77c2db5-6c7e-4ca2-885f-f40bbf811fad",
   "metadata": {},
   "source": [
    "there are various thing for it like \n",
    "enqueue => adding element to queue => append method \n",
    "dequeue => removing element to queue => pop method\n",
    "isFull\n",
    "isEmpty"
   ]
  },
  {
   "cell_type": "code",
   "execution_count": 1,
   "id": "88bc2793-3fbc-427e-94a4-884b568248ed",
   "metadata": {},
   "outputs": [],
   "source": [
    "queue = []"
   ]
  },
  {
   "cell_type": "code",
   "execution_count": 2,
   "id": "fa73d8d4-b997-47fd-b82e-778da67b59cb",
   "metadata": {},
   "outputs": [],
   "source": [
    "queue.append(10)"
   ]
  },
  {
   "cell_type": "code",
   "execution_count": 3,
   "id": "8ff8ff32-d72c-4ab6-b9c5-ec1c1ebdefbd",
   "metadata": {},
   "outputs": [],
   "source": [
    "queue.append(20)"
   ]
  },
  {
   "cell_type": "code",
   "execution_count": 4,
   "id": "d5a7c51b-a5fc-4cbc-8b25-b6d13e08b780",
   "metadata": {},
   "outputs": [],
   "source": [
    "queue.append(30)"
   ]
  },
  {
   "cell_type": "code",
   "execution_count": 5,
   "id": "d2d91da5-853a-437b-b8c8-ca3be2537731",
   "metadata": {},
   "outputs": [],
   "source": [
    "queue.append(40)"
   ]
  },
  {
   "cell_type": "code",
   "execution_count": 6,
   "id": "28ec0cf1-02cf-4ef3-93bd-78305f8d8fff",
   "metadata": {},
   "outputs": [],
   "source": [
    "queue.append(50)"
   ]
  },
  {
   "cell_type": "code",
   "execution_count": 7,
   "id": "00daa642-c5d8-42c4-be6b-4c6258539ed1",
   "metadata": {},
   "outputs": [
    {
     "data": {
      "text/plain": [
       "30"
      ]
     },
     "execution_count": 7,
     "metadata": {},
     "output_type": "execute_result"
    }
   ],
   "source": [
    "queue.pop(2) #if you give it will remove it but index but in case if you dont give that it will "
   ]
  },
  {
   "cell_type": "raw",
   "id": "e48f8b6f-e54c-4b2b-a506-d9dfb7c0df80",
   "metadata": {},
   "source": [
    "*** one thing to remeberis that if there is no element it will give us error message"
   ]
  },
  {
   "cell_type": "code",
   "execution_count": 8,
   "id": "8c140b67-eccb-442a-adc7-165bb4e972fc",
   "metadata": {},
   "outputs": [
    {
     "data": {
      "text/plain": [
       "[10, 20, 40, 50]"
      ]
     },
     "execution_count": 8,
     "metadata": {},
     "output_type": "execute_result"
    }
   ],
   "source": [
    "queue"
   ]
  },
  {
   "cell_type": "markdown",
   "id": "aca8f3b5-5ed0-457f-8cb5-c1b72616a5e5",
   "metadata": {},
   "source": [
    "there is one more method by which we can add or remove a queue "
   ]
  },
  {
   "cell_type": "code",
   "execution_count": 9,
   "id": "8f08f342-4725-435a-b8c0-68b6554c32ba",
   "metadata": {},
   "outputs": [],
   "source": [
    "q = []"
   ]
  },
  {
   "cell_type": "code",
   "execution_count": 10,
   "id": "a6a6c5dc-e960-4b28-b11d-535c2bf378c4",
   "metadata": {},
   "outputs": [],
   "source": [
    "q.insert(0,10) #this is one of the way if you want to add"
   ]
  },
  {
   "cell_type": "code",
   "execution_count": 11,
   "id": "fad77bbc-74aa-4542-afb4-0a66ea306dde",
   "metadata": {},
   "outputs": [],
   "source": [
    "q.insert(0,20) "
   ]
  },
  {
   "cell_type": "code",
   "execution_count": 12,
   "id": "2be9dc55-7788-467c-9ff9-75f3bdacc681",
   "metadata": {},
   "outputs": [],
   "source": [
    "q.insert(0,40) "
   ]
  },
  {
   "cell_type": "code",
   "execution_count": 13,
   "id": "2861351a-ace3-46c8-8db4-97577e5e4d26",
   "metadata": {},
   "outputs": [],
   "source": [
    "q.insert(0,50) "
   ]
  },
  {
   "cell_type": "code",
   "execution_count": 14,
   "id": "6f3fa8be-dbe4-45f8-9fde-d9a3e6e3d108",
   "metadata": {},
   "outputs": [],
   "source": [
    "q.insert(3,30)  #we can give index value where we want to add index"
   ]
  },
  {
   "cell_type": "code",
   "execution_count": 15,
   "id": "a4a623ef-0487-4fc4-9e35-afa71321ffa9",
   "metadata": {},
   "outputs": [
    {
     "data": {
      "text/plain": [
       "[50, 40, 20, 30, 10]"
      ]
     },
     "execution_count": 15,
     "metadata": {},
     "output_type": "execute_result"
    }
   ],
   "source": [
    "q"
   ]
  },
  {
   "cell_type": "code",
   "execution_count": 16,
   "id": "8de160d8-55b2-4177-a6c6-140aa027ada5",
   "metadata": {},
   "outputs": [
    {
     "data": {
      "text/plain": [
       "50"
      ]
     },
     "execution_count": 16,
     "metadata": {},
     "output_type": "execute_result"
    }
   ],
   "source": [
    "q.pop(0)"
   ]
  },
  {
   "cell_type": "code",
   "execution_count": 17,
   "id": "f276e57f-0811-40d4-a4e3-74cbed05a064",
   "metadata": {},
   "outputs": [
    {
     "data": {
      "text/plain": [
       "[40, 20, 30, 10]"
      ]
     },
     "execution_count": 17,
     "metadata": {},
     "output_type": "execute_result"
    }
   ],
   "source": [
    "q"
   ]
  },
  {
   "cell_type": "code",
   "execution_count": 18,
   "id": "a97f22a1-fa28-4da1-a69e-6a4494336702",
   "metadata": {},
   "outputs": [
    {
     "data": {
      "text/plain": [
       "10"
      ]
     },
     "execution_count": 18,
     "metadata": {},
     "output_type": "execute_result"
    }
   ],
   "source": [
    "q.pop() # if you dont give the index value it will remove first elememnt add because its follows the fifo rule by default"
   ]
  },
  {
   "cell_type": "raw",
   "id": "0dd55f71-730c-4d90-887f-cace4576ce32",
   "metadata": {},
   "source": [
    "you can use not to check if its empty"
   ]
  },
  {
   "cell_type": "code",
   "execution_count": 19,
   "id": "e54f4c7c-349b-44c7-a5fb-db6198f8858c",
   "metadata": {},
   "outputs": [
    {
     "data": {
      "text/plain": [
       "False"
      ]
     },
     "execution_count": 19,
     "metadata": {},
     "output_type": "execute_result"
    }
   ],
   "source": [
    "not q #its says false here because its not empty"
   ]
  },
  {
   "cell_type": "raw",
   "id": "0dc3e224-4ba2-4b2e-950a-97b428c4d8fb",
   "metadata": {},
   "source": [
    "to check the first and last element we can use below code"
   ]
  },
  {
   "cell_type": "code",
   "execution_count": 20,
   "id": "e52759d9-d2f9-4dea-b6a3-ec2760462889",
   "metadata": {},
   "outputs": [
    {
     "data": {
      "text/plain": [
       "30"
      ]
     },
     "execution_count": 20,
     "metadata": {},
     "output_type": "execute_result"
    }
   ],
   "source": [
    "q[-1] #this is to check first element you added"
   ]
  },
  {
   "cell_type": "code",
   "execution_count": 21,
   "id": "15993525-12a0-4651-9cb4-1bba0645873c",
   "metadata": {},
   "outputs": [
    {
     "data": {
      "text/plain": [
       "40"
      ]
     },
     "execution_count": 21,
     "metadata": {},
     "output_type": "execute_result"
    }
   ],
   "source": [
    "q[0] #this is to check the last element you added"
   ]
  },
  {
   "cell_type": "code",
   "execution_count": 22,
   "id": "2b8733fc-7f87-44f3-8549-3de0eded4312",
   "metadata": {},
   "outputs": [
    {
     "data": {
      "text/plain": [
       "[40, 20, 30]"
      ]
     },
     "execution_count": 22,
     "metadata": {},
     "output_type": "execute_result"
    }
   ],
   "source": [
    "q"
   ]
  },
  {
   "cell_type": "code",
   "execution_count": 23,
   "id": "e6b16d74-7129-4e58-8494-59e6b106dbb0",
   "metadata": {},
   "outputs": [],
   "source": [
    "#lets write down the code to ask user what he want to do actually and how its going to work"
   ]
  },
  {
   "cell_type": "code",
   "execution_count": null,
   "id": "23ccb37c-46d6-49bd-86df-a1e015d2ae4c",
   "metadata": {},
   "outputs": [
    {
     "name": "stdin",
     "output_type": "stream",
     "text": [
      "Enter a limit for your queue:  5\n"
     ]
    },
    {
     "name": "stdout",
     "output_type": "stream",
     "text": [
      "Choose from the operation:\n",
      "1. Add Queue\n",
      "2. Remove Queue\n",
      "3. Show Queue\n",
      "4. Exit\n",
      "5. Enter Queue using Index\n",
      "6. Remove Queue using Index\n"
     ]
    }
   ],
   "source": [
    "q = []\n",
    "limit = int(input('Enter a limit for your queue: '))\n",
    "\n",
    "def addque():\n",
    "    if len(q) == limit:\n",
    "        print('You have already reached the limit.')\n",
    "    else:\n",
    "        num = int(input('Enter a number to append: '))\n",
    "        q.append(num)\n",
    "        print(q)\n",
    "\n",
    "def enqindex():\n",
    "    print(\"So you want to add element by choosing index of it.\")\n",
    "    nu = int(input(\"Enter index value: \"))\n",
    "    num = int(input(\"Enter the number to insert: \"))\n",
    "    q.insert(nu, num)\n",
    "    print(\"Element inserted at index\", nu)\n",
    "    print(q)\n",
    "\n",
    "def reqindex():\n",
    "    print(\"So you want to remove element by choosing index of it.\")\n",
    "    renu = int(input(\"Enter index value: \"))\n",
    "    if 0 <= renu < len(q):\n",
    "        removed_item = q.pop(renu)\n",
    "        print(\"Element\", removed_item, \"removed from index\", renu)\n",
    "    else:\n",
    "        print(\"Invalid index.\")\n",
    "    print(q)\n",
    "\n",
    "def remque():\n",
    "    if not q:\n",
    "        print(\"It's already empty.\")\n",
    "    else:\n",
    "        r = q.pop(0)\n",
    "        print(\"You removed\", r)\n",
    "\n",
    "def showque():\n",
    "    print(\"The queue elements available are:\", q)\n",
    "\n",
    "while True:\n",
    "    print(\"Choose from the operation:\")\n",
    "    print(\"1. Add Queue\")\n",
    "    print(\"2. Remove Queue\")\n",
    "    print(\"3. Show Queue\")\n",
    "    print(\"4. Exit\")\n",
    "    print(\"5. Enter Queue using Index\")\n",
    "    print(\"6. Remove Queue using Index\")\n",
    "    \n",
    "    choice = int(input(\"Enter the option number: \"))\n",
    "    \n",
    "    if choice == 1:\n",
    "        addque()\n",
    "    elif choice == 2:\n",
    "        remque()\n",
    "    elif choice == 3:\n",
    "        showque()\n",
    "    elif choice == 4:\n",
    "        break\n",
    "    elif choice == 5:\n",
    "        enqindex()\n",
    "    elif choice == 6:\n",
    "        reqindex()\n",
    "    else:\n",
    "        print(\"Invalid choice.\")\n"
   ]
  },
  {
   "cell_type": "code",
   "execution_count": 25,
   "id": "7612d404-cff6-4286-bc89-29decc412d29",
   "metadata": {},
   "outputs": [],
   "source": [
    "#lets do using class "
   ]
  },
  {
   "cell_type": "code",
   "execution_count": 26,
   "id": "3347c79d-9e66-4a04-9f79-745b7c35f291",
   "metadata": {},
   "outputs": [],
   "source": [
    "import collections as cl"
   ]
  },
  {
   "cell_type": "code",
   "execution_count": 27,
   "id": "e9ba814f-c130-4c9b-9c15-5dd875e302e5",
   "metadata": {},
   "outputs": [
    {
     "data": {
      "text/plain": [
       "deque([])"
      ]
     },
     "execution_count": 27,
     "metadata": {},
     "output_type": "execute_result"
    }
   ],
   "source": [
    "q = cl.deque()\n",
    "q"
   ]
  },
  {
   "cell_type": "code",
   "execution_count": 28,
   "id": "36938b70-5b1c-4b5e-a1d2-596ab78d5f86",
   "metadata": {},
   "outputs": [],
   "source": [
    "q.appendleft(10) #so basically what it will do is it will add from left side"
   ]
  },
  {
   "cell_type": "code",
   "execution_count": 29,
   "id": "d99a0290-f2a0-4871-b656-83a5b68e0e93",
   "metadata": {},
   "outputs": [],
   "source": [
    "q.appendleft(20) "
   ]
  },
  {
   "cell_type": "code",
   "execution_count": 30,
   "id": "78ca1af0-1353-471a-a4ce-6d74f782338d",
   "metadata": {},
   "outputs": [],
   "source": [
    "q.appendleft(30)"
   ]
  },
  {
   "cell_type": "code",
   "execution_count": 31,
   "id": "2ba8a1f4-e0da-45cf-aba6-2f2f6703ff8f",
   "metadata": {},
   "outputs": [
    {
     "data": {
      "text/plain": [
       "deque([30, 20, 10])"
      ]
     },
     "execution_count": 31,
     "metadata": {},
     "output_type": "execute_result"
    }
   ],
   "source": [
    "q"
   ]
  },
  {
   "cell_type": "code",
   "execution_count": 32,
   "id": "316aafd3-0707-414d-8c9f-0e6470c730fd",
   "metadata": {},
   "outputs": [
    {
     "data": {
      "text/plain": [
       "10"
      ]
     },
     "execution_count": 32,
     "metadata": {},
     "output_type": "execute_result"
    }
   ],
   "source": [
    "q.pop() #it follows fifo so first in is first out"
   ]
  },
  {
   "cell_type": "code",
   "execution_count": 33,
   "id": "7ac9f7c3-120f-415b-83e3-fddaca1e859f",
   "metadata": {},
   "outputs": [],
   "source": [
    "q.append(10)"
   ]
  },
  {
   "cell_type": "code",
   "execution_count": 34,
   "id": "8ba8bbe7-3cd6-4048-811f-a019c7ee8f73",
   "metadata": {},
   "outputs": [
    {
     "data": {
      "text/plain": [
       "deque([30, 20, 10])"
      ]
     },
     "execution_count": 34,
     "metadata": {},
     "output_type": "execute_result"
    }
   ],
   "source": [
    "q"
   ]
  },
  {
   "cell_type": "code",
   "execution_count": 35,
   "id": "62da9860-64cc-4247-b8ad-4e7a0a689ed0",
   "metadata": {},
   "outputs": [],
   "source": [
    "q.append(40) # what append will do it will add from left side"
   ]
  },
  {
   "cell_type": "code",
   "execution_count": 36,
   "id": "46ff9f78-7e6c-4c1a-a88c-f36c52256d40",
   "metadata": {},
   "outputs": [
    {
     "data": {
      "text/plain": [
       "deque([30, 20, 10, 40])"
      ]
     },
     "execution_count": 36,
     "metadata": {},
     "output_type": "execute_result"
    }
   ],
   "source": [
    "q"
   ]
  },
  {
   "cell_type": "code",
   "execution_count": 37,
   "id": "f2905f20-0ed8-4da0-a3c9-f37643e2fdb2",
   "metadata": {},
   "outputs": [
    {
     "data": {
      "text/plain": [
       "30"
      ]
     },
     "execution_count": 37,
     "metadata": {},
     "output_type": "execute_result"
    }
   ],
   "source": [
    "q.popleft() #so it will obey queue laws and will remove from left side using this"
   ]
  },
  {
   "cell_type": "code",
   "execution_count": 38,
   "id": "1ee60e10-f753-41bf-b92e-2552c2b458d1",
   "metadata": {},
   "outputs": [
    {
     "data": {
      "text/plain": [
       "deque([20, 10, 40])"
      ]
     },
     "execution_count": 38,
     "metadata": {},
     "output_type": "execute_result"
    }
   ],
   "source": [
    "q"
   ]
  },
  {
   "cell_type": "code",
   "execution_count": 39,
   "id": "2c4c3ba2-b602-4447-a686-3747c13ce382",
   "metadata": {},
   "outputs": [
    {
     "data": {
      "text/plain": [
       "20"
      ]
     },
     "execution_count": 39,
     "metadata": {},
     "output_type": "execute_result"
    }
   ],
   "source": [
    "q.popleft()"
   ]
  },
  {
   "cell_type": "code",
   "execution_count": 40,
   "id": "0a7198d3-eefe-4a34-b79c-4245c49ca32d",
   "metadata": {},
   "outputs": [
    {
     "data": {
      "text/plain": [
       "10"
      ]
     },
     "execution_count": 40,
     "metadata": {},
     "output_type": "execute_result"
    }
   ],
   "source": [
    "q.popleft()"
   ]
  },
  {
   "cell_type": "code",
   "execution_count": 41,
   "id": "8952d90b-65a8-4e3b-b113-863c6d09e1ca",
   "metadata": {},
   "outputs": [
    {
     "data": {
      "text/plain": [
       "False"
      ]
     },
     "execution_count": 41,
     "metadata": {},
     "output_type": "execute_result"
    }
   ],
   "source": [
    "not q"
   ]
  },
  {
   "cell_type": "code",
   "execution_count": 42,
   "id": "6358f5e3-633e-4f4a-b13d-2386e5455668",
   "metadata": {},
   "outputs": [
    {
     "data": {
      "text/plain": [
       "deque([40, 10, 20, 30])"
      ]
     },
     "execution_count": 42,
     "metadata": {},
     "output_type": "execute_result"
    }
   ],
   "source": [
    "q.append(10)\n",
    "q.append(20)\n",
    "q.append(30)\n",
    "q"
   ]
  },
  {
   "cell_type": "code",
   "execution_count": 43,
   "id": "14e98734-57b9-4218-94eb-71d5ba99a5de",
   "metadata": {},
   "outputs": [
    {
     "data": {
      "text/plain": [
       "40"
      ]
     },
     "execution_count": 43,
     "metadata": {},
     "output_type": "execute_result"
    }
   ],
   "source": [
    "q[0]"
   ]
  },
  {
   "cell_type": "code",
   "execution_count": 44,
   "id": "75d9e1d3-ba05-497f-ba03-f36ed6910fdc",
   "metadata": {},
   "outputs": [
    {
     "data": {
      "text/plain": [
       "30"
      ]
     },
     "execution_count": 44,
     "metadata": {},
     "output_type": "execute_result"
    }
   ],
   "source": [
    "q[-1]"
   ]
  },
  {
   "cell_type": "code",
   "execution_count": 45,
   "id": "6e23f81d-b875-4f2d-807b-7b558c538248",
   "metadata": {},
   "outputs": [
    {
     "data": {
      "text/plain": [
       "4"
      ]
     },
     "execution_count": 45,
     "metadata": {},
     "output_type": "execute_result"
    }
   ],
   "source": [
    "len(q)"
   ]
  },
  {
   "cell_type": "code",
   "execution_count": 46,
   "id": "d192ce84-bdce-43b6-87bd-16c0c1f0e6e1",
   "metadata": {},
   "outputs": [
    {
     "name": "stdout",
     "output_type": "stream",
     "text": [
      "['__class__', '__class_getitem__', '__delattr__', '__dict__', '__dir__', '__doc__', '__eq__', '__format__', '__ge__', '__getattribute__', '__getstate__', '__gt__', '__hash__', '__init__', '__init_subclass__', '__le__', '__lt__', '__module__', '__ne__', '__new__', '__reduce__', '__reduce_ex__', '__repr__', '__setattr__', '__sizeof__', '__str__', '__subclasshook__', '__weakref__', '_get', '_init', '_put', '_qsize', 'empty', 'full', 'get', 'get_nowait', 'join', 'put', 'put_nowait', 'qsize', 'task_done']\n"
     ]
    }
   ],
   "source": [
    "import queue\n",
    "print(dir(queue.Queue))"
   ]
  },
  {
   "cell_type": "code",
   "execution_count": 47,
   "id": "e4591e26-2ada-4c3b-b195-1b4bc8e186e7",
   "metadata": {},
   "outputs": [
    {
     "name": "stdout",
     "output_type": "stream",
     "text": [
      "['__class__', '__class_getitem__', '__delattr__', '__dict__', '__dir__', '__doc__', '__eq__', '__format__', '__ge__', '__getattribute__', '__getstate__', '__gt__', '__hash__', '__init__', '__init_subclass__', '__le__', '__lt__', '__module__', '__ne__', '__new__', '__reduce__', '__reduce_ex__', '__repr__', '__setattr__', '__sizeof__', '__str__', '__subclasshook__', '__weakref__', '_get', '_init', '_put', '_qsize', 'empty', 'full', 'get', 'get_nowait', 'join', 'put', 'put_nowait', 'qsize', 'task_done']\n"
     ]
    }
   ],
   "source": [
    "import queue\n",
    "print(dir(queue.LifoQueue))"
   ]
  },
  {
   "cell_type": "code",
   "execution_count": 48,
   "id": "f16a5c96-f2f9-4a42-a29a-ef059310fd6d",
   "metadata": {},
   "outputs": [
    {
     "name": "stdout",
     "output_type": "stream",
     "text": [
      "['__class__', '__class_getitem__', '__delattr__', '__dict__', '__dir__', '__doc__', '__eq__', '__format__', '__ge__', '__getattribute__', '__getstate__', '__gt__', '__hash__', '__init__', '__init_subclass__', '__le__', '__lt__', '__module__', '__ne__', '__new__', '__reduce__', '__reduce_ex__', '__repr__', '__setattr__', '__sizeof__', '__str__', '__subclasshook__', '__weakref__', '_get', '_init', '_put', '_qsize', 'empty', 'full', 'get', 'get_nowait', 'join', 'put', 'put_nowait', 'qsize', 'task_done']\n"
     ]
    }
   ],
   "source": [
    "import queue\n",
    "print(dir(queue.PriorityQueue))"
   ]
  },
  {
   "cell_type": "code",
   "execution_count": 49,
   "id": "c6ecf668-6622-4dd6-aeb0-a06e8bea551d",
   "metadata": {},
   "outputs": [],
   "source": [
    "# so by going through folder one thing to notice is that all type of queue is almost like same only there are no difference in them"
   ]
  },
  {
   "cell_type": "raw",
   "id": "84cdd34b-aacb-4c41-8c9d-60b374324c3f",
   "metadata": {},
   "source": [
    "empty(): Returns True if the queue is empty, False otherwise.\n",
    "full(): Returns True if the queue is full, False otherwise.\n",
    "get(): Removes and returns an item from the queue.\n",
    "get_nowait(): Similar to get(), but raises queue.Empty if the queue is empty.\n",
    "join(): Blocks until all items in the queue have been gotten and processed.\n",
    "put(item): Puts an item into the queue.\n",
    "put_nowait(item): Similar to put(), but raises queue.Full if the queue is full.\n",
    "qsize(): Returns the current size of the queue.\n",
    "task_done(): Signals that a formerly enqueued task is complete."
   ]
  },
  {
   "cell_type": "code",
   "execution_count": 50,
   "id": "ddc3aafe-6d6e-443a-9e41-77ba15a0323a",
   "metadata": {},
   "outputs": [
    {
     "data": {
      "text/plain": [
       "<queue.Queue at 0x24117bb4bd0>"
      ]
     },
     "execution_count": 50,
     "metadata": {},
     "output_type": "execute_result"
    }
   ],
   "source": [
    "q = queue.Queue()\n",
    "q.put(10)\n",
    "q.put(20)\n",
    "q.put(30)\n",
    "q"
   ]
  },
  {
   "cell_type": "code",
   "execution_count": 51,
   "id": "3b42a676-8a8a-4a0f-9780-6ad6530eadf1",
   "metadata": {},
   "outputs": [],
   "source": [
    "q.put(60)\n",
    "\n",
    "q.put(100)\n",
    "\n",
    "q.put(90)\n",
    "\n",
    "q.put(70)\n",
    "\n",
    "q.put(80)"
   ]
  },
  {
   "cell_type": "code",
   "execution_count": 52,
   "id": "7356f870-5e86-44d6-8b0f-ed18cc0c9bc7",
   "metadata": {},
   "outputs": [
    {
     "name": "stdout",
     "output_type": "stream",
     "text": [
      "None\n",
      "None\n",
      "None\n",
      "None\n",
      "None\n",
      "None\n",
      "None\n",
      "None\n"
     ]
    }
   ],
   "source": [
    "elements=[]\n",
    "while not q.empty():\n",
    "    item = elements.append(q.get())\n",
    "    print(item)"
   ]
  },
  {
   "cell_type": "code",
   "execution_count": 53,
   "id": "b36c84e1-2a98-4a3d-b5f9-92cd2bb117ed",
   "metadata": {},
   "outputs": [
    {
     "data": {
      "text/plain": [
       "[10, 20, 30, 60, 70, 80, 90, 100]"
      ]
     },
     "execution_count": 53,
     "metadata": {},
     "output_type": "execute_result"
    }
   ],
   "source": [
    "# we can also sort them using sort()\n",
    "elements.sort()\n",
    "elements"
   ]
  },
  {
   "cell_type": "code",
   "execution_count": 54,
   "id": "ef0fce1d-435f-4bdb-be35-990a748822cf",
   "metadata": {},
   "outputs": [],
   "source": [
    "#we can directly sort it now because its doesnot have that now"
   ]
  },
  {
   "cell_type": "code",
   "execution_count": 55,
   "id": "18618cdb-de29-441a-abd1-27d8a450ff50",
   "metadata": {},
   "outputs": [],
   "source": [
    "# PriorityQueue"
   ]
  },
  {
   "cell_type": "code",
   "execution_count": 56,
   "id": "9d4482ec-4817-47b0-a5f7-f26afa7fcf36",
   "metadata": {},
   "outputs": [
    {
     "data": {
      "text/plain": [
       "10"
      ]
     },
     "execution_count": 56,
     "metadata": {},
     "output_type": "execute_result"
    }
   ],
   "source": [
    "import queue\n",
    "s = queue.PriorityQueue()\n",
    "s.put(10)\n",
    "s.put(60)\n",
    "s.put(20)\n",
    "s.put(40)\n",
    "s.put(40)\n",
    "s.get()"
   ]
  },
  {
   "cell_type": "code",
   "execution_count": 57,
   "id": "db21f9d2-ee49-42b5-a6ec-e1606f866192",
   "metadata": {},
   "outputs": [
    {
     "data": {
      "text/plain": [
       "20"
      ]
     },
     "execution_count": 57,
     "metadata": {},
     "output_type": "execute_result"
    }
   ],
   "source": [
    "s.get()"
   ]
  },
  {
   "cell_type": "code",
   "execution_count": 58,
   "id": "eb1feb83-3f24-473c-b572-adfbaff69feb",
   "metadata": {},
   "outputs": [
    {
     "data": {
      "text/plain": [
       "40"
      ]
     },
     "execution_count": 58,
     "metadata": {},
     "output_type": "execute_result"
    }
   ],
   "source": [
    "s.get()"
   ]
  },
  {
   "cell_type": "code",
   "execution_count": 59,
   "id": "71db8199-364f-492a-9fd5-9874fed70abb",
   "metadata": {},
   "outputs": [
    {
     "data": {
      "text/plain": [
       "40"
      ]
     },
     "execution_count": 59,
     "metadata": {},
     "output_type": "execute_result"
    }
   ],
   "source": [
    "s.get()"
   ]
  },
  {
   "cell_type": "code",
   "execution_count": 60,
   "id": "b223e6b0-2694-4aec-ae09-573b08366ce4",
   "metadata": {},
   "outputs": [
    {
     "data": {
      "text/plain": [
       "60"
      ]
     },
     "execution_count": 60,
     "metadata": {},
     "output_type": "execute_result"
    }
   ],
   "source": [
    "s.get()"
   ]
  },
  {
   "cell_type": "code",
   "execution_count": 61,
   "id": "06e6ce4b-ddbb-40af-98b5-3c13aed13bce",
   "metadata": {},
   "outputs": [
    {
     "data": {
      "text/plain": [
       "[(4, 'sumt'), (2, 'sit'), (1, 'sumit')]"
      ]
     },
     "execution_count": 61,
     "metadata": {},
     "output_type": "execute_result"
    }
   ],
   "source": [
    "r =[]\n",
    "r.append((1,\"sumit\"))\n",
    "r.append((4,\"sumt\"))\n",
    "r.append((2,\"sit\"))\n",
    "r.sort(reverse=True)\n",
    "r"
   ]
  },
  {
   "cell_type": "code",
   "execution_count": 62,
   "id": "0efcf207-7db7-41a0-a70b-249f66d4393d",
   "metadata": {},
   "outputs": [
    {
     "data": {
      "text/plain": [
       "(4, 'sumt')"
      ]
     },
     "execution_count": 62,
     "metadata": {},
     "output_type": "execute_result"
    }
   ],
   "source": [
    "r.pop(0)"
   ]
  },
  {
   "cell_type": "code",
   "execution_count": 63,
   "id": "77815f58-8aba-49d2-8a47-c90e0cfd2ce3",
   "metadata": {},
   "outputs": [
    {
     "data": {
      "text/plain": [
       "(2, 'sit')"
      ]
     },
     "execution_count": 63,
     "metadata": {},
     "output_type": "execute_result"
    }
   ],
   "source": [
    "r.pop(0)"
   ]
  },
  {
   "cell_type": "code",
   "execution_count": 64,
   "id": "c43e5c80-6362-445c-99fb-b794b8a7e0bc",
   "metadata": {},
   "outputs": [
    {
     "data": {
      "text/plain": [
       "(1, 'sumit')"
      ]
     },
     "execution_count": 64,
     "metadata": {},
     "output_type": "execute_result"
    }
   ],
   "source": [
    "r.pop(0)"
   ]
  }
 ],
 "metadata": {
  "kernelspec": {
   "display_name": "Python 3 (ipykernel)",
   "language": "python",
   "name": "python3"
  },
  "language_info": {
   "codemirror_mode": {
    "name": "ipython",
    "version": 3
   },
   "file_extension": ".py",
   "mimetype": "text/x-python",
   "name": "python",
   "nbconvert_exporter": "python",
   "pygments_lexer": "ipython3",
   "version": "3.11.1"
  }
 },
 "nbformat": 4,
 "nbformat_minor": 5
}
