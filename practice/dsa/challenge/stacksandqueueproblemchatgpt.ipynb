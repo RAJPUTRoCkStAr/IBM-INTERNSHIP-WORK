{
 "cells": [
  {
   "cell_type": "raw",
   "id": "dfc07981-2122-425f-9f3e-349a21d5bdfc",
   "metadata": {},
   "source": [
    "Queue Problems:\n",
    "Breadth-First Search (BFS): Implement BFS traversal of a graph or a tree using a queue.\n",
    "Level Order Traversal: Given a binary tree, print its nodes level by level, from left to right.\n",
    "Bounded Buffer Problem: Simulate a bounded buffer using a queue. Implement operations like enqueue, dequeue, and handle overflow and underflow conditions.\n",
    "Rotting Oranges: Given a grid representing oranges, simulate the process of rotting where rotten oranges can rot adjacent fresh oranges in unit time.\n",
    "Moving Average from Data Stream: Given a stream of integers and a window size, calculate the moving average of all integers in the sliding window.\n",
    "Stack Problems:\n",
    "Balanced Parentheses: Check if a given string of parentheses is balanced. For example, \"{[()]}\" is balanced, but \"{[(])}\" is not.\n",
    "Infix to Postfix Conversion: Convert an infix expression to postfix notation using a stack.\n",
    "Evaluate Postfix Expression: Given a postfix expression, evaluate it using a stack.\n",
    "Valid Parentheses: Given a string containing just the characters '(', ')', '{', '}', '[' and ']', determine if the input string is valid.\n",
    "Next Greater Element: Given an array, for each element, find the nearest element on the right which is greater than the current element."
   ]
  }
 ],
 "metadata": {
  "kernelspec": {
   "display_name": "Python 3 (ipykernel)",
   "language": "python",
   "name": "python3"
  },
  "language_info": {
   "codemirror_mode": {
    "name": "ipython",
    "version": 3
   },
   "file_extension": ".py",
   "mimetype": "text/x-python",
   "name": "python",
   "nbconvert_exporter": "python",
   "pygments_lexer": "ipython3",
   "version": "3.11.1"
  }
 },
 "nbformat": 4,
 "nbformat_minor": 5
}
