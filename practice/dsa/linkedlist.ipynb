{
 "cells": [
  {
   "cell_type": "code",
   "execution_count": null,
   "id": "b4723c93-d86e-45fd-92af-332f47f869ed",
   "metadata": {},
   "outputs": [],
   "source": [
    "# there are 3 types linkedlist\n",
    "# singly => if each node contents store only next location its singly linked list\n",
    "# last element will have null and first will have head we cant go to previous we can only\n",
    "# go to forward\n",
    "# doubly =>\n",
    "# circular =>"
   ]
  },
  {
   "cell_type": "code",
   "execution_count": null,
   "id": "9235e2ca-5a57-41f6-b2e0-1febe5b4ca63",
   "metadata": {},
   "outputs": [],
   "source": [
    "# singly linked list\n",
    "# operations => add,delete,traversal\n",
    "# we can insert it anywhere in start end or in between\n",
    "# we need to create a class to make node and making of linkedlist"
   ]
  },
  {
   "cell_type": "code",
   "execution_count": 17,
   "id": "80543660-dc14-4454-8ccd-8665cd9dfc50",
   "metadata": {},
   "outputs": [
    {
     "name": "stdout",
     "output_type": "stream",
     "text": [
      "node is not present\n",
      "20\n"
     ]
    }
   ],
   "source": [
    "class node:\n",
    "    def __init__(self,data):\n",
    "        self.data = data\n",
    "        self.ref = None\n",
    "class linkedlist:\n",
    "    def __init__(self):\n",
    "        self.head = None\n",
    "    def printll(self):\n",
    "        if self.head is None:\n",
    "           print(\"linked list is empty\")\n",
    "        else:\n",
    "            n = self.head\n",
    "            while n is not None:\n",
    "                print(n.data)\n",
    "                n = n.ref\n",
    "    def addll(self,data):\n",
    "        new_node = node(data)\n",
    "        new_node.ref = self.head\n",
    "        self.head = new_node\n",
    "    def addend(self,data):\n",
    "        new_node = node(data)\n",
    "        if self.head is None:\n",
    "            self.head = new_node\n",
    "        else:\n",
    "            n = self.head\n",
    "            while n.ref is not None:\n",
    "                n = n.ref\n",
    "            n.ref = new_node\n",
    "    def afteradd(self,data,x):\n",
    "        n = self.head\n",
    "        while n is not None:\n",
    "            if x== n.data:\n",
    "                break\n",
    "            n = n.ref\n",
    "        if n is None:\n",
    "            print(\"node is not present\")\n",
    "        else:\n",
    "            new_node = node(data)\n",
    "            new_node.ref = n.ref\n",
    "            n.ref = new_node\n",
    "ll1 = linkedlist()\n",
    "ll1.printll()"
   ]
  }
 ],
 "metadata": {
  "kernelspec": {
   "display_name": "Python 3 (ipykernel)",
   "language": "python",
   "name": "python3"
  },
  "language_info": {
   "codemirror_mode": {
    "name": "ipython",
    "version": 3
   },
   "file_extension": ".py",
   "mimetype": "text/x-python",
   "name": "python",
   "nbconvert_exporter": "python",
   "pygments_lexer": "ipython3",
   "version": "3.11.1"
  }
 },
 "nbformat": 4,
 "nbformat_minor": 5
}
