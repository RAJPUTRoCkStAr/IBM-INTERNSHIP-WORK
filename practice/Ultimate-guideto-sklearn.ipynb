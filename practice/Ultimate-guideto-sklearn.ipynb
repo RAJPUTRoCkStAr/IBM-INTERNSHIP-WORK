{
 "cells": [
  {
   "cell_type": "code",
   "execution_count": 1,
   "id": "0933bf98-2658-47de-8d41-4d2ae44ddb5c",
   "metadata": {},
   "outputs": [
    {
     "data": {
      "text/html": [
       "<div>\n",
       "<style scoped>\n",
       "    .dataframe tbody tr th:only-of-type {\n",
       "        vertical-align: middle;\n",
       "    }\n",
       "\n",
       "    .dataframe tbody tr th {\n",
       "        vertical-align: top;\n",
       "    }\n",
       "\n",
       "    .dataframe thead th {\n",
       "        text-align: right;\n",
       "    }\n",
       "</style>\n",
       "<table border=\"1\" class=\"dataframe\">\n",
       "  <thead>\n",
       "    <tr style=\"text-align: right;\">\n",
       "      <th></th>\n",
       "      <th>Pregnancies</th>\n",
       "      <th>Glucose</th>\n",
       "      <th>BloodPressure</th>\n",
       "      <th>SkinThickness</th>\n",
       "      <th>Insulin</th>\n",
       "      <th>BMI</th>\n",
       "      <th>DiabetesPedigreeFunction</th>\n",
       "      <th>Age</th>\n",
       "      <th>Outcome</th>\n",
       "    </tr>\n",
       "  </thead>\n",
       "  <tbody>\n",
       "    <tr>\n",
       "      <th>0</th>\n",
       "      <td>6</td>\n",
       "      <td>148</td>\n",
       "      <td>72</td>\n",
       "      <td>35</td>\n",
       "      <td>0</td>\n",
       "      <td>33.6</td>\n",
       "      <td>0.627</td>\n",
       "      <td>50</td>\n",
       "      <td>1</td>\n",
       "    </tr>\n",
       "    <tr>\n",
       "      <th>1</th>\n",
       "      <td>1</td>\n",
       "      <td>85</td>\n",
       "      <td>66</td>\n",
       "      <td>29</td>\n",
       "      <td>0</td>\n",
       "      <td>26.6</td>\n",
       "      <td>0.351</td>\n",
       "      <td>31</td>\n",
       "      <td>0</td>\n",
       "    </tr>\n",
       "    <tr>\n",
       "      <th>2</th>\n",
       "      <td>8</td>\n",
       "      <td>183</td>\n",
       "      <td>64</td>\n",
       "      <td>0</td>\n",
       "      <td>0</td>\n",
       "      <td>23.3</td>\n",
       "      <td>0.672</td>\n",
       "      <td>32</td>\n",
       "      <td>1</td>\n",
       "    </tr>\n",
       "    <tr>\n",
       "      <th>3</th>\n",
       "      <td>1</td>\n",
       "      <td>89</td>\n",
       "      <td>66</td>\n",
       "      <td>23</td>\n",
       "      <td>94</td>\n",
       "      <td>28.1</td>\n",
       "      <td>0.167</td>\n",
       "      <td>21</td>\n",
       "      <td>0</td>\n",
       "    </tr>\n",
       "    <tr>\n",
       "      <th>4</th>\n",
       "      <td>0</td>\n",
       "      <td>137</td>\n",
       "      <td>40</td>\n",
       "      <td>35</td>\n",
       "      <td>168</td>\n",
       "      <td>43.1</td>\n",
       "      <td>2.288</td>\n",
       "      <td>33</td>\n",
       "      <td>1</td>\n",
       "    </tr>\n",
       "  </tbody>\n",
       "</table>\n",
       "</div>"
      ],
      "text/plain": [
       "   Pregnancies  Glucose  BloodPressure  SkinThickness  Insulin   BMI  \\\n",
       "0            6      148             72             35        0  33.6   \n",
       "1            1       85             66             29        0  26.6   \n",
       "2            8      183             64              0        0  23.3   \n",
       "3            1       89             66             23       94  28.1   \n",
       "4            0      137             40             35      168  43.1   \n",
       "\n",
       "   DiabetesPedigreeFunction  Age  Outcome  \n",
       "0                     0.627   50        1  \n",
       "1                     0.351   31        0  \n",
       "2                     0.672   32        1  \n",
       "3                     0.167   21        0  \n",
       "4                     2.288   33        1  "
      ]
     },
     "execution_count": 1,
     "metadata": {},
     "output_type": "execute_result"
    }
   ],
   "source": [
    "import pandas as pd\n",
    "import math\n",
    "df = pd.read_csv('db.csv')\n",
    "df.head()"
   ]
  },
  {
   "cell_type": "code",
   "execution_count": 2,
   "id": "c2f3d248-157d-468e-9b3b-366edddaf0ca",
   "metadata": {},
   "outputs": [],
   "source": [
    "x = df[['Pregnancies','Glucose','BloodPressure','SkinThickness','Age']]\n",
    "y =df['Outcome']"
   ]
  },
  {
   "cell_type": "code",
   "execution_count": 3,
   "id": "f92f18ce-5328-4c58-b79b-efa6ec31573b",
   "metadata": {},
   "outputs": [],
   "source": [
    "from sklearn.model_selection import train_test_split\n",
    "x_train,x_test,y_train,y_test= train_test_split(x,y)"
   ]
  },
  {
   "cell_type": "code",
   "execution_count": 4,
   "id": "ac206740-dca0-4ced-ab50-7b7fdbd75172",
   "metadata": {},
   "outputs": [
    {
     "data": {
      "text/plain": [
       "(576, 5)"
      ]
     },
     "execution_count": 4,
     "metadata": {},
     "output_type": "execute_result"
    }
   ],
   "source": [
    "x_train.shape"
   ]
  },
  {
   "cell_type": "code",
   "execution_count": 5,
   "id": "fc6057c4-a776-486f-b05d-f929b4262932",
   "metadata": {},
   "outputs": [
    {
     "data": {
      "text/plain": [
       "(192, 5)"
      ]
     },
     "execution_count": 5,
     "metadata": {},
     "output_type": "execute_result"
    }
   ],
   "source": [
    "x_test.shape"
   ]
  },
  {
   "cell_type": "code",
   "execution_count": 6,
   "id": "9b49f537-af4a-47f9-bb65-65ab3f3e3656",
   "metadata": {},
   "outputs": [
    {
     "data": {
      "text/plain": [
       "(576,)"
      ]
     },
     "execution_count": 6,
     "metadata": {},
     "output_type": "execute_result"
    }
   ],
   "source": [
    "y_train.shape"
   ]
  },
  {
   "cell_type": "code",
   "execution_count": 7,
   "id": "e32e20a8-3a2b-4ad8-b4a9-193c66d1cc34",
   "metadata": {},
   "outputs": [
    {
     "data": {
      "text/plain": [
       "(192,)"
      ]
     },
     "execution_count": 7,
     "metadata": {},
     "output_type": "execute_result"
    }
   ],
   "source": [
    "y_test.shape"
   ]
  },
  {
   "cell_type": "code",
   "execution_count": 8,
   "id": "d0543a8e-aa7e-495b-8eba-e0f3d9572e52",
   "metadata": {},
   "outputs": [
    {
     "name": "stdout",
     "output_type": "stream",
     "text": [
      "from sklearn.linear_model._bayes import ARDRegression\n",
      "from sklearn.ensemble._weight_boosting import AdaBoostRegressor\n",
      "from sklearn.ensemble._bagging import BaggingRegressor\n",
      "from sklearn.linear_model._bayes import BayesianRidge\n",
      "from sklearn.cross_decomposition._pls import CCA\n",
      "from sklearn.tree._classes import DecisionTreeRegressor\n",
      "from sklearn.dummy import DummyRegressor\n",
      "from sklearn.linear_model._coordinate_descent import ElasticNet\n",
      "from sklearn.linear_model._coordinate_descent import ElasticNetCV\n",
      "from sklearn.tree._classes import ExtraTreeRegressor\n",
      "from sklearn.ensemble._forest import ExtraTreesRegressor\n",
      "from sklearn.linear_model._glm.glm import GammaRegressor\n",
      "from sklearn.gaussian_process._gpr import GaussianProcessRegressor\n",
      "from sklearn.ensemble._gb import GradientBoostingRegressor\n",
      "from sklearn.ensemble._hist_gradient_boosting.gradient_boosting import HistGradientBoostingRegressor\n",
      "from sklearn.linear_model._huber import HuberRegressor\n",
      "from sklearn.isotonic import IsotonicRegression\n",
      "from sklearn.neighbors._regression import KNeighborsRegressor\n",
      "from sklearn.kernel_ridge import KernelRidge\n",
      "from sklearn.linear_model._least_angle import Lars\n",
      "from sklearn.linear_model._least_angle import LarsCV\n",
      "from sklearn.linear_model._coordinate_descent import Lasso\n",
      "from sklearn.linear_model._coordinate_descent import LassoCV\n",
      "from sklearn.linear_model._least_angle import LassoLars\n",
      "from sklearn.linear_model._least_angle import LassoLarsCV\n",
      "from sklearn.linear_model._least_angle import LassoLarsIC\n",
      "from sklearn.linear_model._base import LinearRegression\n",
      "from sklearn.svm._classes import LinearSVR\n",
      "from sklearn.neural_network._multilayer_perceptron import MLPRegressor\n",
      "from sklearn.multioutput import MultiOutputRegressor\n",
      "from sklearn.linear_model._coordinate_descent import MultiTaskElasticNet\n",
      "from sklearn.linear_model._coordinate_descent import MultiTaskElasticNetCV\n",
      "from sklearn.linear_model._coordinate_descent import MultiTaskLasso\n",
      "from sklearn.linear_model._coordinate_descent import MultiTaskLassoCV\n",
      "from sklearn.svm._classes import NuSVR\n",
      "from sklearn.linear_model._omp import OrthogonalMatchingPursuit\n",
      "from sklearn.linear_model._omp import OrthogonalMatchingPursuitCV\n",
      "from sklearn.cross_decomposition._pls import PLSCanonical\n",
      "from sklearn.cross_decomposition._pls import PLSRegression\n",
      "from sklearn.linear_model._passive_aggressive import PassiveAggressiveRegressor\n",
      "from sklearn.linear_model._glm.glm import PoissonRegressor\n",
      "from sklearn.linear_model._quantile import QuantileRegressor\n",
      "from sklearn.linear_model._ransac import RANSACRegressor\n",
      "from sklearn.neighbors._regression import RadiusNeighborsRegressor\n",
      "from sklearn.ensemble._forest import RandomForestRegressor\n",
      "from sklearn.multioutput import RegressorChain\n",
      "from sklearn.linear_model._ridge import Ridge\n",
      "from sklearn.linear_model._ridge import RidgeCV\n",
      "from sklearn.linear_model._stochastic_gradient import SGDRegressor\n",
      "from sklearn.svm._classes import SVR\n",
      "from sklearn.ensemble._stacking import StackingRegressor\n",
      "from sklearn.linear_model._theil_sen import TheilSenRegressor\n",
      "from sklearn.compose._target import TransformedTargetRegressor\n",
      "from sklearn.linear_model._glm.glm import TweedieRegressor\n",
      "from sklearn.ensemble._voting import VotingRegressor\n"
     ]
    }
   ],
   "source": [
    "from sklearn.utils import all_estimators\n",
    "from sklearn.metrics import mean_squared_error\n",
    "estimators = all_estimators(type_filter='regressor')\n",
    "regression_estimators = []\n",
    "for name, class_ in estimators:\n",
    "    module_name = str(class_).split(\"'\")[1].split(\".\")[1:][:-1]\n",
    "    module_name = '.'.join(module_name)\n",
    "    class_name = class_.__name__\n",
    "    # print(f'from sklearn.{module_name} import {class_name}')\n",
    "    models = (f'from sklearn.{module_name} import {class_name}')\n",
    "    print(models)"
   ]
  },
  {
   "cell_type": "code",
   "execution_count": 19,
   "id": "126790b6-9a1d-447b-8992-35542b35437f",
   "metadata": {},
   "outputs": [
    {
     "name": "stdout",
     "output_type": "stream",
     "text": [
      "Training ARDRegression\n",
      "ARDRegression Mean Squared Error: 0\n",
      "Training AdaBoostRegressor\n",
      "AdaBoostRegressor Mean Squared Error: 1023671\n",
      "Training BaggingRegressor\n",
      "BaggingRegressor Mean Squared Error: 1199677\n",
      "Training BayesianRidge\n",
      "BayesianRidge Mean Squared Error: 0\n",
      "Training CCA\n",
      "CCA failed: `n_components` upper bound is 1. Got 2 instead. Reduce `n_components`.\n",
      "Training DecisionTreeRegressor\n",
      "DecisionTreeRegressor Mean Squared Error: 3701065\n",
      "Training DummyRegressor\n",
      "DummyRegressor Mean Squared Error: 3184942\n",
      "Training ElasticNet\n",
      "ElasticNet Mean Squared Error: 297610\n",
      "Training ElasticNetCV\n",
      "ElasticNetCV Mean Squared Error: 22966\n",
      "Training ExtraTreeRegressor\n",
      "ExtraTreeRegressor Mean Squared Error: 4291727\n",
      "Training ExtraTreesRegressor\n",
      "ExtraTreesRegressor Mean Squared Error: 946284\n",
      "Training GammaRegressor\n",
      "GammaRegressor failed: Some value(s) of y are out of the valid range of the loss 'HalfGammaLoss'.\n",
      "Training GaussianProcessRegressor\n",
      "GaussianProcessRegressor Mean Squared Error: 2679529\n",
      "Training GradientBoostingRegressor\n",
      "GradientBoostingRegressor Mean Squared Error: 1060907\n",
      "Training HistGradientBoostingRegressor\n",
      "HistGradientBoostingRegressor Mean Squared Error: 740871\n",
      "Training HuberRegressor\n",
      "HuberRegressor Mean Squared Error: 0\n",
      "Training IsotonicRegression\n",
      "IsotonicRegression failed: Isotonic regression input X should be a 1d array or 2d array with 1 feature\n",
      "Training KNeighborsRegressor\n",
      "KNeighborsRegressor Mean Squared Error: 1138729\n",
      "Training KernelRidge\n",
      "KernelRidge Mean Squared Error: 410\n",
      "Training Lars\n",
      "Lars Mean Squared Error: 0\n",
      "Training LarsCV\n",
      "LarsCV Mean Squared Error: 0\n",
      "Training Lasso\n",
      "Lasso Mean Squared Error: 669\n",
      "Training LassoCV\n",
      "LassoCV Mean Squared Error: 8\n",
      "Training LassoLars\n",
      "LassoLars Mean Squared Error: 668\n",
      "Training LassoLarsCV\n",
      "LassoLarsCV Mean Squared Error: 0\n",
      "Training LassoLarsIC\n",
      "LassoLarsIC Mean Squared Error: 0\n",
      "Training LinearRegression\n",
      "LinearRegression Mean Squared Error: 0\n",
      "Training LinearSVR\n",
      "LinearSVR Mean Squared Error: 1269006\n",
      "Training MLPRegressor\n",
      "MLPRegressor Mean Squared Error: 2740035\n",
      "MultiOutputRegressor failed: MultiOutputRegressor.__init__() missing 1 required positional argument: 'estimator'\n",
      "Training MultiTaskElasticNet\n",
      "MultiTaskElasticNet failed: For mono-task outputs, use ElasticNet\n",
      "Training MultiTaskElasticNetCV\n",
      "MultiTaskElasticNetCV failed: For mono-task outputs, use ElasticNetCVCV\n",
      "Training MultiTaskLasso\n",
      "MultiTaskLasso failed: For mono-task outputs, use ElasticNet\n",
      "Training MultiTaskLassoCV\n",
      "MultiTaskLassoCV failed: For mono-task outputs, use LassoCVCV\n",
      "Training NuSVR\n",
      "NuSVR Mean Squared Error: 3128713\n",
      "Training OrthogonalMatchingPursuit\n",
      "OrthogonalMatchingPursuit Mean Squared Error: 2465776\n",
      "Training OrthogonalMatchingPursuitCV\n"
     ]
    },
    {
     "name": "stderr",
     "output_type": "stream",
     "text": [
      "C:\\Users\\Sumit\\Desktop\\New folder\\IBM-INTERNSHIP-WORK\\practice\\cors\\Lib\\site-packages\\sklearn\\svm\\_classes.py:31: FutureWarning: The default value of `dual` will change from `True` to `'auto'` in 1.5. Set the value of `dual` explicitly to suppress the warning.\n",
      "  warnings.warn(\n",
      "C:\\Users\\Sumit\\Desktop\\New folder\\IBM-INTERNSHIP-WORK\\practice\\cors\\Lib\\site-packages\\sklearn\\neural_network\\_multilayer_perceptron.py:691: ConvergenceWarning: Stochastic Optimizer: Maximum iterations (200) reached and the optimization hasn't converged yet.\n",
      "  warnings.warn(\n",
      "C:\\Users\\Sumit\\Desktop\\New folder\\IBM-INTERNSHIP-WORK\\practice\\cors\\Lib\\site-packages\\sklearn\\neighbors\\_regression.py:505: UserWarning: One or more samples have no neighbors within specified radius; predicting NaN.\n",
      "  warnings.warn(empty_warning_msg)\n"
     ]
    },
    {
     "name": "stdout",
     "output_type": "stream",
     "text": [
      "OrthogonalMatchingPursuitCV Mean Squared Error: 409266\n",
      "Training PLSCanonical\n",
      "PLSCanonical failed: `n_components` upper bound is 1. Got 2 instead. Reduce `n_components`.\n",
      "Training PLSRegression\n",
      "PLSRegression Mean Squared Error: 10271\n",
      "Training PassiveAggressiveRegressor\n",
      "PassiveAggressiveRegressor Mean Squared Error: 1\n",
      "Training PoissonRegressor\n",
      "PoissonRegressor failed: Some value(s) of y are out of the valid range of the loss 'HalfPoissonLoss'.\n",
      "Training QuantileRegressor\n",
      "QuantileRegressor Mean Squared Error: 3187860\n",
      "Training RANSACRegressor\n",
      "RANSACRegressor Mean Squared Error: 0\n",
      "Training RadiusNeighborsRegressor\n",
      "RadiusNeighborsRegressor failed: Input contains NaN.\n",
      "Training RandomForestRegressor\n",
      "RandomForestRegressor Mean Squared Error: 1157877\n",
      "RegressorChain failed: _BaseChain.__init__() missing 1 required positional argument: 'base_estimator'\n",
      "Training Ridge\n",
      "Ridge Mean Squared Error: 392\n",
      "Training RidgeCV\n",
      "RidgeCV Mean Squared Error: 4\n",
      "Training SGDRegressor\n",
      "SGDRegressor Mean Squared Error: 1\n",
      "Training SVR\n",
      "SVR Mean Squared Error: 3108594\n",
      "StackingRegressor failed: StackingRegressor.__init__() missing 1 required positional argument: 'estimators'\n",
      "Training TheilSenRegressor\n",
      "TheilSenRegressor Mean Squared Error: 0\n",
      "Training TransformedTargetRegressor\n",
      "TransformedTargetRegressor Mean Squared Error: 0\n",
      "Training TweedieRegressor\n",
      "TweedieRegressor Mean Squared Error: 669882\n",
      "VotingRegressor failed: VotingRegressor.__init__() missing 1 required positional argument: 'estimators'\n"
     ]
    }
   ],
   "source": [
    "estimators = all_estimators(type_filter='regressor')\n",
    "regression_estimators = []\n",
    "for name, class_ in estimators:\n",
    "    try:\n",
    "        model = class_()\n",
    "        if hasattr(model, 'n_estimators'):\n",
    "            model.n_estimators = 100\n",
    "        elif hasattr(model, 'base_estimator'):\n",
    "            model.base_estimator = 100\n",
    "        elif hasattr(model, 'base_estimator'):\n",
    "            model.estimators=base_estimators\n",
    "            continue\n",
    "        print(f'Training {name}')\n",
    "        model.fit(x_train, y_train)\n",
    "        y_pred = model.predict(x_test)\n",
    "        mse = mean_squared_error(y_test, y_pred) * 100\n",
    "        print(f'{name} Mean Squared Error: {math.floor(mse)}')\n",
    "    except Exception as e:\n",
    "        print(f'{name} failed: {e}')\n",
    "    "
   ]
  },
  {
   "cell_type": "code",
   "execution_count": null,
   "id": "5f9f5723-f2ff-48aa-9da1-49389c4190de",
   "metadata": {},
   "outputs": [],
   "source": [
    "class ultimatemodel:\n",
    "    def __init__(self,type_filter):\n",
    "        self.type_filter = type_filter"
   ]
  }
 ],
 "metadata": {
  "kernelspec": {
   "display_name": "Python 3 (ipykernel)",
   "language": "python",
   "name": "python3"
  },
  "language_info": {
   "codemirror_mode": {
    "name": "ipython",
    "version": 3
   },
   "file_extension": ".py",
   "mimetype": "text/x-python",
   "name": "python",
   "nbconvert_exporter": "python",
   "pygments_lexer": "ipython3",
   "version": "3.12.3"
  }
 },
 "nbformat": 4,
 "nbformat_minor": 5
}
