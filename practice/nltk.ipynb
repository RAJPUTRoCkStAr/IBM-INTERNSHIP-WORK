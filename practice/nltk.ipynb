{
 "cells": [
  {
   "cell_type": "code",
   "execution_count": 1,
   "id": "b84958ba-f90e-4809-898c-6321e744f915",
   "metadata": {},
   "outputs": [],
   "source": [
    "import nltk"
   ]
  },
  {
   "cell_type": "code",
   "execution_count": 2,
   "id": "4247053a-7f49-40bd-8283-d9ec0ff67d90",
   "metadata": {},
   "outputs": [
    {
     "name": "stderr",
     "output_type": "stream",
     "text": [
      "[nltk_data] Downloading package maxent_ne_chunker_tab to\n",
      "[nltk_data]     C:\\Users\\sumit\\AppData\\Roaming\\nltk_data...\n",
      "[nltk_data]   Package maxent_ne_chunker_tab is already up-to-date!\n"
     ]
    },
    {
     "data": {
      "text/plain": [
       "True"
      ]
     },
     "execution_count": 2,
     "metadata": {},
     "output_type": "execute_result"
    }
   ],
   "source": [
    "# nltk.download('punkt_tab')\n",
    "# nltk.download('stopwords')\n",
    "nltk.download('maxent_ne_chunker_tab')"
   ]
  },
  {
   "cell_type": "code",
   "execution_count": 3,
   "id": "17e949b9-91be-49cd-b804-3caa1b56271c",
   "metadata": {},
   "outputs": [],
   "source": [
    "text = \"Welcome you to programming knowledge. Lets start with our first tutorial on NlTk . We shall learn to basics of NLTk here\"\n",
    "demowords = [\"playing\",\"happiness\",\"going\",\"doing\",\"yes\",\"no\",\"I\",\"having\",\"had\",\"haved\"]"
   ]
  },
  {
   "cell_type": "code",
   "execution_count": 4,
   "id": "8df5f611-2d52-444d-89bf-3528ddc88b60",
   "metadata": {},
   "outputs": [
    {
     "name": "stdout",
     "output_type": "stream",
     "text": [
      "['Welcome', 'you', 'to', 'programming', 'knowledge', '.', 'Lets', 'start', 'with', 'our', 'first', 'tutorial', 'on', 'NlTk', '.', 'We', 'shall', 'learn', 'to', 'basics', 'of', 'NLTk', 'here']\n"
     ]
    }
   ],
   "source": [
    "from nltk.tokenize import word_tokenize\n",
    "print(word_tokenize(text))"
   ]
  },
  {
   "cell_type": "code",
   "execution_count": 5,
   "id": "a41268d5-265a-41ad-9e1e-e5106c8d030f",
   "metadata": {},
   "outputs": [
    {
     "name": "stdout",
     "output_type": "stream",
     "text": [
      "['Welcome you to programming knowledge.', 'Lets start with our first tutorial on NlTk .', 'We shall learn to basics of NLTk here']\n"
     ]
    }
   ],
   "source": [
    "from nltk.tokenize import sent_tokenize\n",
    "print(sent_tokenize(text))"
   ]
  },
  {
   "cell_type": "code",
   "execution_count": 6,
   "id": "19fdaab3-0bd0-4049-89e9-fafbd5326173",
   "metadata": {},
   "outputs": [
    {
     "name": "stdout",
     "output_type": "stream",
     "text": [
      "[(' ', 21), ('o', 10), ('e', 9)]\n"
     ]
    }
   ],
   "source": [
    "from nltk.probability import FreqDist\n",
    "fd = FreqDist(text)\n",
    "print(fd.most_common(3))"
   ]
  },
  {
   "cell_type": "code",
   "execution_count": 7,
   "id": "639b494b-a547-463b-b3b8-a6f3ba5adcfa",
   "metadata": {},
   "outputs": [
    {
     "data": {
      "text/plain": [
       "<function matplotlib.pyplot.show(close=None, block=None)>"
      ]
     },
     "execution_count": 7,
     "metadata": {},
     "output_type": "execute_result"
    },
    {
     "data": {
      "image/png": "[encoded data removed]",
      "text/plain": [
       "<Figure size 640x480 with 1 Axes>"
      ]
     },
     "metadata": {},
     "output_type": "display_data"
    }
   ],
   "source": [
    "import matplotlib.pyplot as plt\n",
    "fd.plot(30,cumulative=False)\n",
    "plt.show"
   ]
  },
  {
   "cell_type": "code",
   "execution_count": 8,
   "id": "ed9d964c-1c17-4073-b682-a7cc542a5fd8",
   "metadata": {},
   "outputs": [
    {
     "name": "stdout",
     "output_type": "stream",
     "text": [
      "total length of stop words :=> 179 \n",
      " words :=> ['i', 'me', 'my', 'myself', 'we', 'our', 'ours', 'ourselves', 'you', \"you're\", \"you've\", \"you'll\", \"you'd\", 'your', 'yours', 'yourself', 'yourselves', 'he', 'him', 'his', 'himself', 'she', \"she's\", 'her', 'hers', 'herself', 'it', \"it's\", 'its', 'itself', 'they', 'them', 'their', 'theirs', 'themselves', 'what', 'which', 'who', 'whom', 'this', 'that', \"that'll\", 'these', 'those', 'am', 'is', 'are', 'was', 'were', 'be', 'been', 'being', 'have', 'has', 'had', 'having', 'do', 'does', 'did', 'doing', 'a', 'an', 'the', 'and', 'but', 'if', 'or', 'because', 'as', 'until', 'while', 'of', 'at', 'by', 'for', 'with', 'about', 'against', 'between', 'into', 'through', 'during', 'before', 'after', 'above', 'below', 'to', 'from', 'up', 'down', 'in', 'out', 'on', 'off', 'over', 'under', 'again', 'further', 'then', 'once', 'here', 'there', 'when', 'where', 'why', 'how', 'all', 'any', 'both', 'each', 'few', 'more', 'most', 'other', 'some', 'such', 'no', 'nor', 'not', 'only', 'own', 'same', 'so', 'than', 'too', 'very', 's', 't', 'can', 'will', 'just', 'don', \"don't\", 'should', \"should've\", 'now', 'd', 'll', 'm', 'o', 're', 've', 'y', 'ain', 'aren', \"aren't\", 'couldn', \"couldn't\", 'didn', \"didn't\", 'doesn', \"doesn't\", 'hadn', \"hadn't\", 'hasn', \"hasn't\", 'haven', \"haven't\", 'isn', \"isn't\", 'ma', 'mightn', \"mightn't\", 'mustn', \"mustn't\", 'needn', \"needn't\", 'shan', \"shan't\", 'shouldn', \"shouldn't\", 'wasn', \"wasn't\", 'weren', \"weren't\", 'won', \"won't\", 'wouldn', \"wouldn't\"]\n"
     ]
    }
   ],
   "source": [
    "from nltk.corpus import stopwords\n",
    "stop_words = stopwords.words('english')\n",
    "print(f\"total length of stop words :=> {len(stop_words)} \\n words :=> {stop_words}\")"
   ]
  },
  {
   "cell_type": "code",
   "execution_count": 9,
   "id": "8fdfa1c9-5ea1-4571-ab6a-9e6f06276936",
   "metadata": {},
   "outputs": [
    {
     "name": "stdout",
     "output_type": "stream",
     "text": [
      "['Welcome', 'you', 'to', 'programming', 'knowledge', '.', 'Lets', 'start', 'with', 'our', 'first', 'tutorial', 'on', 'NlTk', '.', 'We', 'shall', 'learn', 'to', 'basics', 'of', 'NLTk', 'here']\n"
     ]
    }
   ],
   "source": [
    "from nltk.tokenize import sent_tokenize,word_tokenize\n",
    "tokenize_words = word_tokenize(text)\n",
    "print(tokenize_words)"
   ]
  },
  {
   "cell_type": "code",
   "execution_count": 10,
   "id": "1b0b73fe-e4ca-4a28-ba56-0829f3cc4ff6",
   "metadata": {},
   "outputs": [
    {
     "name": "stdout",
     "output_type": "stream",
     "text": [
      "this is difference \n",
      " {'with', 'to', 'our', 'of', 'here', 'you', 'on'}\n",
      "after removing whatever is left \n",
      " {'first', 'learn', 'knowledge', 'Welcome', 'basics', 'start', 'shall', 'NlTk', '.', 'tutorial', 'NLTk', 'We', 'programming', 'Lets'}\n",
      "this words were removed \n",
      " {'basics', 'We', 'programming', 'NLTk', 'on', 'start', 'Lets', 'with', 'knowledge', 'shall', 'NlTk', '.', 'of', 'Welcome', 'to', 'here', 'learn', 'our', 'tutorial', 'first', 'you'}\n"
     ]
    }
   ],
   "source": [
    "without_stop_words = []\n",
    "for word in tokenize_words:\n",
    "    if word not in stop_words:\n",
    "        without_stop_words.append(word)\n",
    "print(\"this is difference \\n\",set(tokenize_words)-set(without_stop_words))#this is difference \n",
    "print(\"after removing whatever is left \\n\",set(without_stop_words)) #after removing whatever is left\n",
    "print(\"this words were removed \\n\",set(tokenize_words))#this words were removed "
   ]
  },
  {
   "cell_type": "code",
   "execution_count": 11,
   "id": "b7f3c0d4-a871-43e3-b9e5-2a5d2fd01449",
   "metadata": {},
   "outputs": [],
   "source": [
    "from nltk.stem import PorterStemmer,WordNetLemmatizer"
   ]
  },
  {
   "cell_type": "code",
   "execution_count": 12,
   "id": "6d7f766d-de04-42a6-aa04-ba8771f11780",
   "metadata": {},
   "outputs": [
    {
     "name": "stdout",
     "output_type": "stream",
     "text": [
      "play play\n",
      "happi happiness\n",
      "go go\n",
      "do do\n",
      "ye yes\n",
      "no no\n",
      "i I\n",
      "have have\n",
      "had have\n",
      "have have\n"
     ]
    }
   ],
   "source": [
    "lemm = WordNetLemmatizer()\n",
    "stem = PorterStemmer()\n",
    "for word in demowords:\n",
    "    print(stem.stem(word),lemm.lemmatize(word,\"v\"))"
   ]
  },
  {
   "cell_type": "code",
   "execution_count": 13,
   "id": "f8002e04-9e5f-42ec-a6a5-fe9558069d13",
   "metadata": {},
   "outputs": [
    {
     "data": {
      "text/plain": [
       "{'neg': 0.0, 'neu': 0.377, 'pos': 0.623, 'compound': 0.5106}"
      ]
     },
     "execution_count": 13,
     "metadata": {},
     "output_type": "execute_result"
    }
   ],
   "source": [
    "from nltk.sentiment import SentimentIntensityAnalyzer\n",
    "sia = SentimentIntensityAnalyzer()\n",
    "sia.polarity_scores(\"programming is fun\")"
   ]
  },
  {
   "cell_type": "code",
   "execution_count": 14,
   "id": "d9fe84a9-1bf0-470e-9915-861436b7e1f5",
   "metadata": {},
   "outputs": [
    {
     "name": "stdout",
     "output_type": "stream",
     "text": [
      "a machine for performing calculations automatically\n"
     ]
    }
   ],
   "source": [
    "from nltk.corpus import wordnet\n",
    "syn = wordnet.synsets('Computer')\n",
    "print(syn[0].definition())"
   ]
  },
  {
   "cell_type": "code",
   "execution_count": 15,
   "id": "10d77bfd-d2ba-45b1-b360-14e2b30c03e2",
   "metadata": {},
   "outputs": [
    {
     "name": "stdout",
     "output_type": "stream",
     "text": [
      "['computer', 'computing_machine', 'computing_device', 'data_processor', 'electronic_computer', 'information_processing_system', 'calculator', 'reckoner', 'figurer', 'estimator', 'computer']\n"
     ]
    }
   ],
   "source": [
    "from nltk.corpus import wordnet\n",
    "syno = []\n",
    "for syn in wordnet.synsets('Computer'):\n",
    "    for lem in syn.lemmas():\n",
    "        syno.append(lem.name())\n",
    "\n",
    "print(syno)"
   ]
  },
  {
   "cell_type": "code",
   "execution_count": 16,
   "id": "476cc029-6c60-4775-9a54-728e8080206c",
   "metadata": {},
   "outputs": [
    {
     "name": "stdout",
     "output_type": "stream",
     "text": [
      "['evil', 'evilness', 'bad', 'badness', 'bad', 'evil', 'ill']\n"
     ]
    }
   ],
   "source": [
    "ant = []\n",
    "for syn in wordnet.synsets('good'):\n",
    "    for lem in syn.lemmas():\n",
    "        if lem.antonyms():\n",
    "            ant.append(lem.antonyms()[0].name())\n",
    "\n",
    "print(ant)"
   ]
  },
  {
   "cell_type": "raw",
   "id": "da3149ad-5627-410c-bff8-702299644689",
   "metadata": {},
   "source": [
    "1. Corpus Access\n",
    "nltk.corpus.brown: Access the Brown Corpus.\n",
    "from nltk.corpus import brown\n",
    "nltk.corpus.reuters: Access the Reuters Corpus.\n",
    "from nltk.corpus import reuters\n",
    "nltk.corpus.gutenberg: Access the Gutenberg Corpus.\n",
    "from nltk.corpus import gutenberg\n",
    "nltk.corpus.wordnet: Interface to the WordNet lexical database.\n",
    "from nltk.corpus import wordnet\n",
    "2. Tokenization\n",
    "nltk.tokenize.sent_tokenize: Tokenize text into sentences.\n",
    "from nltk.tokenize import sent_tokenize\n",
    "nltk.tokenize.TweetTokenizer: Tokenizer for social media text.\n",
    "from nltk.tokenize import TweetTokenizer\n",
    "nltk.tokenize.RegexpTokenizer: Tokenizer using regular expressions.\n",
    "from nltk.tokenize import RegexpTokenizer\n",
    "3. Text Processing\n",
    "nltk.stem.PorterStemmer: Porter Stemming algorithm.\n",
    "from nltk.stem import PorterStemmer\n",
    "nltk.stem.LancasterStemmer: Lancaster Stemming algorithm.\n",
    "from nltk.stem import LancasterStemmer\n",
    "4. POS Tagging\n",
    "nltk.pos_tag: Part-of-speech tagging for words.\n",
    "from nltk import pos_tag\n",
    "nltk.tag.perceptron.PerceptronTagger: Fast, lightweight POS tagger.\n",
    "from nltk.tag.perceptron import PerceptronTagger\n",
    "5. Parsing and Grammars\n",
    "nltk.grammar.CFG: Create context-free grammar.\n",
    "from nltk import CFG\n",
    "nltk.parse.chart.ChartParser: Chart parser for parsing sentences with CFGs.\n",
    "from nltk.parse.chart import ChartParser\n",
    "6. Named Entity Recognition\n",
    "nltk.ne_chunk: Perform named entity recognition.\n",
    "from nltk import ne_chunk\n",
    "nltk.chunk.RegexpParser: Create chunk parsers with regular expressions.\n",
    "from nltk.chunk import RegexpParser\n",
    "7. Classification and Machine Learning\n",
    "nltk.classify.NaiveBayesClassifier: Naive Bayes classifier.\n",
    "from nltk.classify import NaiveBayesClassifier\n",
    "nltk.classify.DecisionTreeClassifier: Decision Tree classifier.\n",
    "from nltk.classify import DecisionTreeClassifier\n",
    "nltk.MaxentClassifier: Maximum Entropy (Logistic Regression) classifier.\n",
    "from nltk.classify import MaxentClassifier\n",
    "8. Frequency Distribution and Collocations\n",
    "nltk.FreqDist: Frequency distribution of tokens.\n",
    "from nltk import FreqDist\n",
    "nltk.collocations.BigramCollocationFinder: Finding bigram collocations.\n",
    "from nltk.collocations import BigramCollocationFinder\n",
    "nltk.collocations.TrigramCollocationFinder: Finding trigram collocations.\n",
    "from nltk.collocations import TrigramCollocationFinder\n",
    "9. Evaluation and Metrics\n",
    "nltk.metrics.accuracy: Calculate accuracy for classification models.\n",
    "from nltk.metrics import accuracy\n",
    "nltk.ConfusionMatrix: Create confusion matrix for classification.\n",
    "from nltk import ConfusionMatrix\n",
    "10. Utilities\n",
    "nltk.util.ngrams: Generate n-grams from tokens.\n",
    "from nltk.util import ngrams\n",
    "nltk.util.bigrams: Generate bigrams from tokens.\n",
    "from nltk.util import bigrams\n",
    "nltk.util.trigrams: Generate trigrams from tokens.\n",
    "from nltk.util import trigrams\n",
    "11. Text Generation\n",
    "nltk.Text: Tools for analyzing and generating text.\n",
    "from nltk import Text\n",
    "12. Sentiment Analysis\n",
    "nltk.sentiment.util.demo_vader_instance: Test VADER sentiment analyzer.\n",
    "from nltk.sentiment.util import demo_vader_instance\n",
    "13. Other Tools\n",
    "nltk.parse.generate: Generate sentences from a grammar.\n",
    "from nltk.parse.generate import generate\n",
    "nltk.data.find: Locate the location of data files.\n",
    "from nltk.data import find"
   ]
  },
  {
   "cell_type": "code",
   "execution_count": 17,
   "id": "9c005b7d-d90b-473e-b4f8-298d61fadf4e",
   "metadata": {},
   "outputs": [
    {
     "name": "stdout",
     "output_type": "stream",
     "text": [
      "['austen-emma.txt', 'austen-persuasion.txt', 'austen-sense.txt', 'bible-kjv.txt', 'blake-poems.txt', 'bryant-stories.txt', 'burgess-busterbrown.txt', 'carroll-alice.txt', 'chesterton-ball.txt', 'chesterton-brown.txt', 'chesterton-thursday.txt', 'edgeworth-parents.txt', 'melville-moby_dick.txt', 'milton-paradise.txt', 'shakespeare-caesar.txt', 'shakespeare-hamlet.txt', 'shakespeare-macbeth.txt', 'whitman-leaves.txt']\n"
     ]
    }
   ],
   "source": [
    "from nltk.corpus import gutenberg, brown\n",
    "print(gutenberg.fileids()) #it has all txt whatever present in fileids"
   ]
  },
  {
   "cell_type": "code",
   "execution_count": 18,
   "id": "c2808569-37dc-44f3-bd5e-16794a307c5e",
   "metadata": {},
   "outputs": [
    {
     "name": "stdout",
     "output_type": "stream",
     "text": [
      "austen-emma.txt:\n",
      "  Characters: 887071\n",
      "  Words: 192427\n",
      "  Sentences: 7752\n",
      "  Average Sentence Length: 24.82\n",
      "austen-persuasion.txt:\n",
      "  Characters: 466292\n",
      "  Words: 98171\n",
      "  Sentences: 3747\n",
      "  Average Sentence Length: 26.20\n",
      "austen-sense.txt:\n",
      "  Characters: 673022\n",
      "  Words: 141576\n",
      "  Sentences: 4999\n",
      "  Average Sentence Length: 28.32\n",
      "bible-kjv.txt:\n",
      "  Characters: 4332554\n",
      "  Words: 1010654\n",
      "  Sentences: 30103\n",
      "  Average Sentence Length: 33.57\n",
      "blake-poems.txt:\n",
      "  Characters: 38153\n",
      "  Words: 8354\n",
      "  Sentences: 438\n",
      "  Average Sentence Length: 19.07\n",
      "bryant-stories.txt:\n",
      "  Characters: 249439\n",
      "  Words: 55563\n",
      "  Sentences: 2863\n",
      "  Average Sentence Length: 19.41\n",
      "burgess-busterbrown.txt:\n",
      "  Characters: 84663\n",
      "  Words: 18963\n",
      "  Sentences: 1054\n",
      "  Average Sentence Length: 17.99\n",
      "carroll-alice.txt:\n",
      "  Characters: 144395\n",
      "  Words: 34110\n",
      "  Sentences: 1703\n",
      "  Average Sentence Length: 20.03\n",
      "chesterton-ball.txt:\n",
      "  Characters: 457450\n",
      "  Words: 96996\n",
      "  Sentences: 4779\n",
      "  Average Sentence Length: 20.30\n",
      "chesterton-brown.txt:\n",
      "  Characters: 406629\n",
      "  Words: 86063\n",
      "  Sentences: 3806\n",
      "  Average Sentence Length: 22.61\n",
      "chesterton-thursday.txt:\n",
      "  Characters: 320525\n",
      "  Words: 69213\n",
      "  Sentences: 3742\n",
      "  Average Sentence Length: 18.50\n",
      "edgeworth-parents.txt:\n",
      "  Characters: 935158\n",
      "  Words: 210663\n",
      "  Sentences: 10230\n",
      "  Average Sentence Length: 20.59\n",
      "melville-moby_dick.txt:\n",
      "  Characters: 1242990\n",
      "  Words: 260819\n",
      "  Sentences: 10059\n",
      "  Average Sentence Length: 25.93\n",
      "milton-paradise.txt:\n",
      "  Characters: 468220\n",
      "  Words: 96825\n",
      "  Sentences: 1851\n",
      "  Average Sentence Length: 52.31\n",
      "shakespeare-caesar.txt:\n",
      "  Characters: 112310\n",
      "  Words: 25833\n",
      "  Sentences: 2163\n",
      "  Average Sentence Length: 11.94\n",
      "shakespeare-hamlet.txt:\n",
      "  Characters: 162881\n",
      "  Words: 37360\n",
      "  Sentences: 3106\n",
      "  Average Sentence Length: 12.03\n",
      "shakespeare-macbeth.txt:\n",
      "  Characters: 100351\n",
      "  Words: 23140\n",
      "  Sentences: 1907\n",
      "  Average Sentence Length: 12.13\n",
      "whitman-leaves.txt:\n",
      "  Characters: 711215\n",
      "  Words: 154883\n",
      "  Sentences: 4250\n",
      "  Average Sentence Length: 36.44\n"
     ]
    }
   ],
   "source": [
    "for fileid in gutenberg.fileids():\n",
    "    num_chars = len(gutenberg.raw(fileid))  # Character count\n",
    "    num_words = len(gutenberg.words(fileid))  # Word count\n",
    "    num_sents = len(gutenberg.sents(fileid))  # Sentence count\n",
    "    num_vocab = len(set(w.lower() for w in gutenberg.words(fileid)))  # Vocabulary size\n",
    "    \n",
    "    print(f\"{fileid}:\")\n",
    "    print(f\"  Characters: {num_chars}\")\n",
    "    print(f\"  Words: {num_words}\")\n",
    "    print(f\"  Sentences: {num_sents}\")\n",
    "    print(f\"  Average Sentence Length: {num_words/num_sents:.2f}\")\n"
   ]
  },
  {
   "cell_type": "code",
   "execution_count": 19,
   "id": "3589dc63-d4fd-45e7-b7ae-9db4efbc3faa",
   "metadata": {
    "editable": true,
    "slideshow": {
     "slide_type": ""
    },
    "tags": []
   },
   "outputs": [
    {
     "name": "stdout",
     "output_type": "stream",
     "text": [
      "['As', 'a', 'result', ',', 'although', 'we', 'still', 'make', 'use', 'of', 'this', 'distinction', ',', 'there', 'is', 'much', 'confusion', 'as', 'to', 'the']\n"
     ]
    }
   ],
   "source": [
    "print(brown.words(categories='religion')[:20])"
   ]
  },
  {
   "cell_type": "code",
   "execution_count": 20,
   "id": "e0e31a55-2dc5-445a-b86a-fe1a61817aad",
   "metadata": {},
   "outputs": [
    {
     "name": "stdout",
     "output_type": "stream",
     "text": [
      "Sentences: ['Natural Language Toolkit, or NLTK, is very powerful.', 'It provides lots of tools for NLP.']\n",
      "Words: ['Natural', 'Language', 'Toolkit', ',', 'or', 'NLTK', ',', 'is', 'very', 'powerful', '.', 'It', 'provides', 'lots', 'of', 'tools', 'for', 'NLP', '.']\n"
     ]
    }
   ],
   "source": [
    "from nltk.tokenize import sent_tokenize, word_tokenize\n",
    "\n",
    "text = \"Natural Language Toolkit, or NLTK, is very powerful. It provides lots of tools for NLP.\"\n",
    "\n",
    "# Sentence tokenization\n",
    "sentences = sent_tokenize(text)\n",
    "print(\"Sentences:\", sentences)\n",
    "\n",
    "# Word tokenization\n",
    "words = word_tokenize(text)\n",
    "print(\"Words:\", words)\n"
   ]
  },
  {
   "cell_type": "code",
   "execution_count": 21,
   "id": "88d44447-ce54-4e13-bad9-61b860fa0658",
   "metadata": {},
   "outputs": [
    {
     "name": "stdout",
     "output_type": "stream",
     "text": [
      "Filtered Words: ['sample', 'sentence', ',', 'showing', 'stop', 'words', 'filtration', '.']\n"
     ]
    }
   ],
   "source": [
    "from nltk.corpus import stopwords\n",
    "from nltk.tokenize import word_tokenize\n",
    "text = \"This is a sample sentence, showing off the stop words filtration.\"\n",
    "words = word_tokenize(text)\n",
    "stop_words = set(stopwords.words('english'))\n",
    "filtered_words = [word for word in words if word.lower() not in stop_words]\n",
    "print(\"Filtered Words:\", filtered_words)"
   ]
  },
  {
   "cell_type": "code",
   "execution_count": 22,
   "id": "c662edd9-4e42-4853-ace6-386dac516e8a",
   "metadata": {},
   "outputs": [
    {
     "name": "stdout",
     "output_type": "stream",
     "text": [
      "Porter Stemmer: ['run', 'run', 'ran', 'easili', 'fairli']\n",
      "Lancaster Stemmer: ['run', 'run', 'ran', 'easy', 'fair']\n"
     ]
    }
   ],
   "source": [
    "from nltk.stem import PorterStemmer, LancasterStemmer\n",
    "\n",
    "ps = PorterStemmer()\n",
    "ls = LancasterStemmer()\n",
    "\n",
    "# Sample words\n",
    "words = [\"running\", \"runs\", \"ran\", \"easily\", \"fairly\"]\n",
    "\n",
    "# Porter Stemming\n",
    "porter_stemmed = [ps.stem(word) for word in words]\n",
    "print(\"Porter Stemmer:\", porter_stemmed)\n",
    "\n",
    "# Lancaster Stemming\n",
    "lancaster_stemmed = [ls.stem(word) for word in words]\n",
    "print(\"Lancaster Stemmer:\", lancaster_stemmed)\n"
   ]
  },
  {
   "cell_type": "code",
   "execution_count": 23,
   "id": "9dc1cf10-c0e9-4731-922c-9ffaaaa15a3f",
   "metadata": {},
   "outputs": [
    {
     "name": "stdout",
     "output_type": "stream",
     "text": [
      "Lemmatized Words: ['running', 'runs', 'ran', 'well', 'fairly', 'improving', 'feet', 'ate', 'well']\n"
     ]
    }
   ],
   "source": [
    "from nltk.stem import WordNetLemmatizer\n",
    "\n",
    "lemmatizer = WordNetLemmatizer()\n",
    "\n",
    "# Sample words\n",
    "words = [\"running\", \"runs\", \"ran\", \"better\", \"fairly\",\"improving\",\"feet\",\"ate\",\"well\"]\n",
    "\n",
    "# Lemmatize words\n",
    "\"\"\"pos='v': Specifies the word is a verb (e.g., \"running\" becomes \"run\").\n",
    "pos='n': Specifies the word is a noun (e.g., \"feet\" becomes \"foot\").\n",
    "pos='a' or pos='adj': Specifies the word is an adjective (e.g., \"better\" becomes \"good\").\n",
    "pos='r': Specifies the word is an adverb.\"\"\"\n",
    "lemmatized_words = [lemmatizer.lemmatize(word, pos='r') for word in words]  # Verb lemmatization\n",
    "print(\"Lemmatized Words:\", lemmatized_words)\n"
   ]
  },
  {
   "cell_type": "code",
   "execution_count": 24,
   "id": "52266829-288e-4785-9c8d-7baa7a11ffbd",
   "metadata": {},
   "outputs": [
    {
     "name": "stdout",
     "output_type": "stream",
     "text": [
      "POS Tags: [('NLTK', 'NNP'), ('is', 'VBZ'), ('a', 'DT'), ('great', 'JJ'), ('toolkit', 'NN'), ('for', 'IN'), ('natural', 'JJ'), ('language', 'NN'), ('processing', 'NN'), ('.', '.')]\n"
     ]
    }
   ],
   "source": [
    "from nltk import pos_tag\n",
    "from nltk.tokenize import word_tokenize\n",
    "\n",
    "text = \"NLTK is a great toolkit for natural language processing.\"\n",
    "\n",
    "# Tokenize text\n",
    "words = word_tokenize(text)\n",
    "\n",
    "# POS Tagging\n",
    "pos_tags = pos_tag(words,)\n",
    "print(\"POS Tags:\", pos_tags)\n"
   ]
  },
  {
   "cell_type": "code",
   "execution_count": 25,
   "id": "6094f72b-7146-4d75-a7c0-e94a1436ff3f",
   "metadata": {},
   "outputs": [
    {
     "name": "stdout",
     "output_type": "stream",
     "text": [
      "(S\n",
      "  (PERSON Barack/NNP)\n",
      "  (PERSON Obama/NNP)\n",
      "  was/VBD\n",
      "  born/VBN\n",
      "  in/IN\n",
      "  (GPE Hawaii/NNP)\n",
      "  ./.\n",
      "  He/PRP\n",
      "  was/VBD\n",
      "  the/DT\n",
      "  president/NN\n",
      "  of/IN\n",
      "  the/DT\n",
      "  (GPE United/NNP States/NNPS)\n",
      "  ./.)\n"
     ]
    }
   ],
   "source": [
    "from nltk import ne_chunk, pos_tag, word_tokenize\n",
    "\n",
    "text = \"Barack Obama was born in Hawaii. He was the president of the United States.\"\n",
    "\n",
    "# Tokenize and POS tag\n",
    "words = word_tokenize(text)\n",
    "pos_tags = pos_tag(words)\n",
    "\n",
    "# Named Entity Recognition\n",
    "named_entities = ne_chunk(pos_tags)\n",
    "print(named_entities)\n"
   ]
  },
  {
   "cell_type": "code",
   "execution_count": 26,
   "id": "2c7109d5-b47f-44e8-b3bd-128ff8ac5622",
   "metadata": {},
   "outputs": [
    {
     "name": "stdout",
     "output_type": "stream",
     "text": [
      "<FreqDist with 13 samples and 15 outcomes>\n",
      "[('NLTK', 2), ('.', 2), ('is', 1), ('a', 1), ('powerful', 1)]\n"
     ]
    }
   ],
   "source": [
    "from nltk.probability import FreqDist\n",
    "from nltk.tokenize import word_tokenize\n",
    "\n",
    "text = \"NLTK is a powerful tool for text processing. NLTK provides many useful modules.\"\n",
    "\n",
    "# Tokenize the text\n",
    "words = word_tokenize(text)\n",
    "\n",
    "# Create frequency distribution\n",
    "freq_dist = FreqDist(words)\n",
    "\n",
    "# Print frequency of each word\n",
    "print(freq_dist)\n",
    "\n",
    "# Most common words\n",
    "print(freq_dist.most_common(5))\n"
   ]
  },
  {
   "cell_type": "code",
   "execution_count": 27,
   "id": "00101937-6295-4da4-840e-ebb87dd3351c",
   "metadata": {},
   "outputs": [
    {
     "name": "stdout",
     "output_type": "stream",
     "text": [
      "<FreqDist with 2 samples and 2 outcomes>\n",
      "<FreqDist with 1 samples and 2 outcomes>\n"
     ]
    }
   ],
   "source": [
    "from nltk.probability import ConditionalFreqDist\n",
    "pairs = [('news', 'dog'), ('news', 'cat'), ('sports', 'dog'), ('sports', 'dog')]\n",
    "cfdist = ConditionalFreqDist(pairs)\n",
    "print(cfdist['news'])  # Output: FreqDist({'dog': 1, 'cat': 1})\n",
    "print(cfdist['sports'])  # Output: FreqDist({'dog': 2})\n"
   ]
  },
  {
   "cell_type": "code",
   "execution_count": 28,
   "id": "35223826-61ce-4965-b0f7-ed082e7edd25",
   "metadata": {},
   "outputs": [
    {
     "name": "stdout",
     "output_type": "stream",
     "text": [
      "0.5\n"
     ]
    }
   ],
   "source": [
    "from nltk.probability import FreqDist, MLEProbDist\n",
    "fdist = FreqDist(['cat', 'dog', 'dog', 'mouse'])\n",
    "mle = MLEProbDist(fdist)\n",
    "print(mle.prob('dog'))  # Output: 0.5 (because 'dog' appears 2 out of 4 times)"
   ]
  },
  {
   "cell_type": "code",
   "execution_count": 29,
   "id": "d45af76d-1427-42ea-b241-6476710be11b",
   "metadata": {},
   "outputs": [
    {
     "name": "stdout",
     "output_type": "stream",
     "text": [
      "Bigrams: [('NLTK', 'is'), ('is', 'a'), ('a', 'powerful'), ('powerful', 'toolkit'), ('toolkit', 'for'), ('for', 'working'), ('working', 'with'), ('with', 'text'), ('text', '.')]\n",
      "Trigrams: [('NLTK', 'is', 'a'), ('is', 'a', 'powerful'), ('a', 'powerful', 'toolkit'), ('powerful', 'toolkit', 'for'), ('toolkit', 'for', 'working'), ('for', 'working', 'with'), ('working', 'with', 'text'), ('with', 'text', '.')]\n"
     ]
    }
   ],
   "source": [
    "from nltk.util import ngrams\n",
    "from nltk.tokenize import word_tokenize\n",
    "\n",
    "text = \"NLTK is a powerful toolkit for working with text.\"\n",
    "\n",
    "# Tokenize text\n",
    "words = word_tokenize(text)\n",
    "\n",
    "# Generate bigrams\n",
    "bigrams = list(ngrams(words, 2))\n",
    "print(\"Bigrams:\", bigrams)\n",
    "\n",
    "# Generate trigrams\n",
    "trigrams = list(ngrams(words, 3))\n",
    "print(\"Trigrams:\", trigrams)\n"
   ]
  },
  {
   "cell_type": "code",
   "execution_count": 30,
   "id": "b9c4545e-6c4b-4b2f-818e-ba28e4b00d23",
   "metadata": {},
   "outputs": [
    {
     "name": "stdout",
     "output_type": "stream",
     "text": [
      "Bigram Collocations: [('NLTK', 'is'), ('a', 'very'), ('done', 'my'), ('for', 'natural'), ('is', 'a')]\n"
     ]
    }
   ],
   "source": [
    "from nltk.collocations import BigramCollocationFinder\n",
    "from nltk.metrics import BigramAssocMeasures\n",
    "from nltk.tokenize import word_tokenize\n",
    "\n",
    "text = \"NLTK is a very useful toolkit for natural language processing.NLTK provides many tools.Well done my boy\"\n",
    "\n",
    "# Tokenize text\n",
    "words = word_tokenize(text)\n",
    "\n",
    "# Find bigram collocations\n",
    "finder = BigramCollocationFinder.from_words(words)\n",
    "bigrams = finder.nbest(BigramAssocMeasures.likelihood_ratio, 5)\n",
    "print(\"Bigram Collocations:\", bigrams)\n"
   ]
  },
  {
   "cell_type": "code",
   "execution_count": 31,
   "id": "72cf2974-39eb-4e64-90f7-5013c1dc9fb1",
   "metadata": {},
   "outputs": [
    {
     "name": "stderr",
     "output_type": "stream",
     "text": [
      "[nltk_data] Downloading package movie_reviews to\n",
      "[nltk_data]     C:\\Users\\sumit\\AppData\\Roaming\\nltk_data...\n",
      "[nltk_data]   Package movie_reviews is already up-to-date!\n"
     ]
    },
    {
     "data": {
      "text/plain": [
       "True"
      ]
     },
     "execution_count": 31,
     "metadata": {},
     "output_type": "execute_result"
    }
   ],
   "source": [
    "nltk.download('movie_reviews')"
   ]
  },
  {
   "cell_type": "code",
   "execution_count": 32,
   "id": "101280c1-a7fa-40a8-9243-3f12d8eb67bb",
   "metadata": {},
   "outputs": [
    {
     "name": "stdout",
     "output_type": "stream",
     "text": [
      "Accuracy: 0.735\n",
      "Most Informative Features\n",
      "             outstanding = True              pos : neg    =     13.9 : 1.0\n",
      "               insulting = True              neg : pos    =     13.7 : 1.0\n",
      "              vulnerable = True              pos : neg    =     13.0 : 1.0\n",
      "               ludicrous = True              neg : pos    =     12.6 : 1.0\n",
      "             uninvolving = True              neg : pos    =     12.3 : 1.0\n"
     ]
    }
   ],
   "source": [
    "from nltk.classify import NaiveBayesClassifier\n",
    "from nltk.corpus import movie_reviews\n",
    "\n",
    "# Prepare data for classification (features are word presence, labels are positive/negative)\n",
    "def extract_features(words):\n",
    "    return {word: True for word in words}\n",
    "\n",
    "# Load movie reviews\n",
    "positive_reviews = [(extract_features(movie_reviews.words(fileid)), 'pos') for fileid in movie_reviews.fileids('pos')]\n",
    "negative_reviews = [(extract_features(movie_reviews.words(fileid)), 'neg') for fileid in movie_reviews.fileids('neg')]\n",
    "\n",
    "# Split data into training and testing sets\n",
    "train_data = positive_reviews[:800] + negative_reviews[:800]\n",
    "test_data = positive_reviews[800:] + negative_reviews[800:]\n",
    "\n",
    "# Train Naive Bayes Classifier\n",
    "classifier = NaiveBayesClassifier.train(train_data)\n",
    "\n",
    "# Test accuracy\n",
    "accuracy = nltk.classify.accuracy(classifier, test_data)\n",
    "print(\"Accuracy:\", accuracy)\n",
    "\n",
    "# Show most informative features\n",
    "classifier.show_most_informative_features(5)\n"
   ]
  },
  {
   "cell_type": "code",
   "execution_count": 33,
   "id": "49dc169b-d88e-415a-bbe5-72a6de896606",
   "metadata": {},
   "outputs": [
    {
     "name": "stdout",
     "output_type": "stream",
     "text": [
      "Sentence: I love NLTK, it's amazing!\n",
      "Sentiment Scores: {'neg': 0.0, 'neu': 0.194, 'pos': 0.806, 'compound': 0.8516}\n",
      "\n",
      "Sentence: This product is terrible. I hate it.\n",
      "Sentiment Scores: {'neg': 0.63, 'neu': 0.37, 'pos': 0.0, 'compound': -0.7783}\n",
      "\n",
      "Sentence: The movie was okay, not too bad.\n",
      "Sentiment Scores: {'neg': 0.0, 'neu': 0.513, 'pos': 0.487, 'compound': 0.5789}\n",
      "\n"
     ]
    }
   ],
   "source": [
    "from nltk.sentiment.vader import SentimentIntensityAnalyzer\n",
    "\n",
    "# Initialize VADER Sentiment Analyzer\n",
    "sid = SentimentIntensityAnalyzer()\n",
    "\n",
    "# Sample sentences\n",
    "sentences = [\n",
    "    \"I love NLTK, it's amazing!\",\n",
    "    \"This product is terrible. I hate it.\",\n",
    "    \"The movie was okay, not too bad.\"\n",
    "]\n",
    "\n",
    "# Analyze sentiment\n",
    "for sentence in sentences:\n",
    "    scores = sid.polarity_scores(sentence)\n",
    "    print(f\"Sentence: {sentence}\\nSentiment Scores: {scores}\\n\")\n"
   ]
  },
  {
   "cell_type": "code",
   "execution_count": 34,
   "id": "101384fc-0d8e-4bc5-835e-7f36a5faec31",
   "metadata": {},
   "outputs": [
    {
     "name": "stdout",
     "output_type": "stream",
     "text": [
      "[('the', 6386), (',', 5188), ('.', 4030), ('of', 2861), ('and', 2186), ('to', 2144), ('a', 2130), ('in', 2020), ('for', 969), ('that', 829)]\n"
     ]
    }
   ],
   "source": [
    "from nltk import ConditionalFreqDist\n",
    "from nltk.corpus import brown\n",
    "\n",
    "# Conditional Frequency Distribution of words based on categories in the Brown Corpus\n",
    "cfd = ConditionalFreqDist(\n",
    "    (category, word.lower())\n",
    "    for category in brown.categories()\n",
    "    for word in brown.words(categories=category)\n",
    ")\n",
    "\n",
    "# Display frequency of 'news' words in different categories\n",
    "print(cfd['news'].most_common(10))\n"
   ]
  },
  {
   "cell_type": "code",
   "execution_count": 35,
   "id": "b00462f7-c9f6-4900-be4f-613d2c2e8af8",
   "metadata": {},
   "outputs": [
    {
     "name": "stdout",
     "output_type": "stream",
     "text": [
      "    | n p |\n",
      "    | e o |\n",
      "    | g s |\n",
      "----+-----+\n",
      "neg |<2>2 |\n",
      "pos | 2<2>|\n",
      "----+-----+\n",
      "(row = reference; col = test)\n",
      "\n"
     ]
    }
   ],
   "source": [
    "from nltk import ConfusionMatrix\n",
    "\n",
    "# Define reference and test labels (ground truth vs predicted)\n",
    "reference = ['pos', 'pos', 'neg', 'neg', 'pos', 'neg', 'pos', 'neg']\n",
    "test =      ['pos', 'neg', 'neg', 'pos', 'pos', 'neg', 'neg', 'pos']\n",
    "\n",
    "# Generate confusion matrix\n",
    "cm = ConfusionMatrix(reference, test)\n",
    "print(cm)\n"
   ]
  },
  {
   "cell_type": "code",
   "execution_count": 36,
   "id": "3dac61c7-5a0d-413f-a38d-c60d3e2129a6",
   "metadata": {},
   "outputs": [
    {
     "name": "stdout",
     "output_type": "stream",
     "text": [
      "[Synset('plan.n.01'), Synset('program.n.02'), Synset('broadcast.n.02'), Synset('platform.n.02'), Synset('program.n.05'), Synset('course_of_study.n.01'), Synset('program.n.07'), Synset('program.n.08'), Synset('program.v.01'), Synset('program.v.02')]\n"
     ]
    }
   ],
   "source": [
    "from nltk.corpus import wordnet\n",
    "synsets = wordnet.synsets('program')\n",
    "print(synsets)"
   ]
  },
  {
   "cell_type": "code",
   "execution_count": 37,
   "id": "d84568be-326c-4f01-a06f-d1a76f73bacd",
   "metadata": {},
   "outputs": [
    {
     "name": "stdout",
     "output_type": "stream",
     "text": [
      "[('NLTK', 'NNP'), ('is', 'VBZ'), ('a', 'DT'), ('very', 'RB'), ('useful', 'JJ'), ('toolkit', 'NN'), ('for', 'IN'), ('natural', 'JJ'), ('language', 'NN'), ('processing.NLTK', 'NN'), ('provides', 'VBZ'), ('many', 'JJ'), ('tools.Well', 'RB'), ('done', 'VBN'), ('my', 'PRP$'), ('boy', 'NN')]\n"
     ]
    }
   ],
   "source": [
    "from nltk import pos_tag\n",
    "tagged_words = pos_tag(words)\n",
    "print(tagged_words)"
   ]
  },
  {
   "cell_type": "code",
   "execution_count": 38,
   "id": "e1ec89a5-ef4c-4043-b2a4-66b0f2e343a9",
   "metadata": {},
   "outputs": [
    {
     "name": "stdout",
     "output_type": "stream",
     "text": [
      "(S\n",
      "  (ORGANIZATION NLTK/NNP)\n",
      "  is/VBZ\n",
      "  a/DT\n",
      "  very/RB\n",
      "  useful/JJ\n",
      "  toolkit/NN\n",
      "  for/IN\n",
      "  natural/JJ\n",
      "  language/NN\n",
      "  processing.NLTK/NN\n",
      "  provides/VBZ\n",
      "  many/JJ\n",
      "  tools.Well/RB\n",
      "  done/VBN\n",
      "  my/PRP$\n",
      "  boy/NN)\n"
     ]
    }
   ],
   "source": [
    "from nltk import ne_chunk\n",
    "named_entities = ne_chunk(tagged_words)\n",
    "print(named_entities)"
   ]
  },
  {
   "cell_type": "code",
   "execution_count": 39,
   "id": "ff0a43a9-b4a9-4b2d-9e44-acd8e2098d30",
   "metadata": {},
   "outputs": [],
   "source": [
    "from nltk.classify import NaiveBayesClassifier\n",
    "from nltk.classify.util import accuracy\n",
    "\n",
    "# Training set format: [({'feature': value}, 'label')]\n",
    "train_set = [({'feature': 'good'}, 'positive'), ({'feature': 'bad'}, 'negative')]\n",
    "\n",
    "# Train classifier\n",
    "classifier = NaiveBayesClassifier.train(train_set)\n",
    "\n",
    "# Check accuracy\n",
    "accuracy_score = accuracy(classifier, train_set)\n"
   ]
  },
  {
   "cell_type": "code",
   "execution_count": 40,
   "id": "8dfd1f9d-6b6e-456e-bce8-d8565d8e3e8e",
   "metadata": {},
   "outputs": [
    {
     "name": "stdout",
     "output_type": "stream",
     "text": [
      "hello this is a sample text with punctuation\n"
     ]
    }
   ],
   "source": [
    "import string\n",
    "text = \"Hello! This is a sample text with punctuation.\"\n",
    "normalized_text = ''.join([char for char in text if char not in string.punctuation])\n",
    "normalized_text = normalized_text.lower()  # Convert to lowercase\n",
    "print(normalized_text)\n"
   ]
  },
  {
   "cell_type": "code",
   "execution_count": 41,
   "id": "eb634d21-c28d-44b1-9b18-6e56e35aa0a9",
   "metadata": {},
   "outputs": [
    {
     "name": "stdout",
     "output_type": "stream",
     "text": [
      "['Mr.', 'Smith went to New York.', 'He stayed there.']\n"
     ]
    }
   ],
   "source": [
    "from nltk.tokenize import PunktSentenceTokenizer\n",
    "tokenizer = PunktSentenceTokenizer()\n",
    "sentences = tokenizer.tokenize(\"Mr. Smith went to New York. He stayed there.\")\n",
    "print(sentences)\n"
   ]
  },
  {
   "cell_type": "code",
   "execution_count": 50,
   "id": "4ade3dc8-e4e4-4123-b687-208d637905b1",
   "metadata": {},
   "outputs": [
    {
     "name": "stdout",
     "output_type": "stream",
     "text": [
      "['\\nThis is the first paragraph. It talks about some topic.\\nIt continues with some more information on the same topic.\\n\\nThis is the second paragraph. It discusses a different topic altogether.\\nHere, we shift the focus and introduce new ideas related to NLP.\\n\\nThis is the third paragraph. It talks about yet another topic.\\nMore content on different subject matter.\\n']\n"
     ]
    }
   ],
   "source": [
    "from nltk.tokenize import TextTilingTokenizer\n",
    "\n",
    "# Longer text with paragraph breaks (newlines)\n",
    "text = \"\"\"\n",
    "This is the first paragraph. It talks about some topic.\n",
    "It continues with some more information on the same topic.\n",
    "\n",
    "This is the second paragraph. It discusses a different topic altogether.\n",
    "Here, we shift the focus and introduce new ideas related to NLP.\n",
    "\n",
    "This is the third paragraph. It talks about yet another topic.\n",
    "More content on different subject matter.\n",
    "\"\"\"\n",
    "\n",
    "# Initialize TextTilingTokenizer\n",
    "ttt = TextTilingTokenizer(w=10)\n",
    "\n",
    "# Tokenize the text into segments\n",
    "segmented_text = ttt.tokenize(text)\n",
    "\n",
    "# Print the segmented output\n",
    "print(segmented_text)"
   ]
  },
  {
   "cell_type": "code",
   "execution_count": 47,
   "id": "baa3f042-0116-4507-a8fd-0ee8bdf02d6a",
   "metadata": {},
   "outputs": [
    {
     "name": "stdout",
     "output_type": "stream",
     "text": [
      "Displaying 1 of 1 matches:\n",
      "                          This is a sample text for concordance testing .\n",
      "None\n"
     ]
    }
   ],
   "source": [
    "from nltk.text import Text\n",
    "tokens = word_tokenize(\"This is a sample text for concordance testing.\")\n",
    "text = Text(tokens)\n",
    "print(text.concordance(\"sample\"))\n"
   ]
  },
  {
   "cell_type": "code",
   "execution_count": 48,
   "id": "f9695482-444b-47eb-828e-ad0bb90fd902",
   "metadata": {},
   "outputs": [
    {
     "name": "stdout",
     "output_type": "stream",
     "text": [
      "a container (usually with a slot in the top) for keeping money at home\n"
     ]
    }
   ],
   "source": [
    "from nltk.wsd import lesk\n",
    "sense = lesk(word_tokenize(\"I went to the bank to deposit money\"), 'bank')\n",
    "print(sense.definition())\n"
   ]
  }
 ],
 "metadata": {
  "kernelspec": {
   "display_name": "Python 3 (ipykernel)",
   "language": "python",
   "name": "python3"
  },
  "language_info": {
   "codemirror_mode": {
    "name": "ipython",
    "version": 3
   },
   "file_extension": ".py",
   "mimetype": "text/x-python",
   "name": "python",
   "nbconvert_exporter": "python",
   "pygments_lexer": "ipython3",
   "version": "3.12.4"
  }
 },
 "nbformat": 4,
 "nbformat_minor": 5
}
