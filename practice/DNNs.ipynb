{
 "cells": [
  {
   "cell_type": "raw",
   "id": "defcb2d8-b827-4979-8a2e-5e63dac9cdfb",
   "metadata": {},
   "source": [
    "An artificial neural network (ANN) or a simple traditional neural network aims to solve trivial tasks with a straightforward network outline. An artificial neural network is loosely inspired from biological neural networks. It is a collection of layers to perform a specific task. Each layer consists of a collection of nodes to operate together."
   ]
  },
  {
   "cell_type": "raw",
   "id": "2966bb95-8362-4e17-8b5b-5c51c1cfb08f",
   "metadata": {},
   "source": [
    "The premier examples of the prominence of deep neural networks are their utility in object detection with models such as YOLO (You Only Look Once), language translation tasks with BERT (Bidirectional Encoder Representations from Transformers) models, transfer learning models, such as VGG-19, RESNET-50, efficient net, and other similar networks for image processing projects."
   ]
  },
  {
   "cell_type": "raw",
   "id": "73a2b9d7-ebdf-4e3a-a474-0c85202fba50",
   "metadata": {},
   "source": [
    "The most popular deep learning libraries and tools utilized for constructing deep neural networks are TensorFlow, Keras, and PyTorch. "
   ]
  },
  {
   "cell_type": "raw",
   "id": "9dab8561-4cd4-45e9-8dae-f5b2887c06f6",
   "metadata": {},
   "source": [
    "What are Neural Networks Used for?\n",
    "Neural networks have a broad spectrum of applications, such as:\n",
    "\n",
    "Image recognition. Platforms like Facebook employ neural networks for tasks such as photo tagging. By analyzing millions of images, these networks can identify and tag individuals in photos with remarkable accuracy.\n",
    "Speech recognition. Virtual assistants like Siri and Alexa utilize neural networks to understand and process voice commands. By training on vast datasets of human speech from various languages, accents, and dialects, they can comprehend and respond to user requests in real-time.\n",
    "Medical diagnosis. In the healthcare sector, neural networks are revolutionizing diagnostics. By analyzing medical images, they can detect anomalies, tumors, or diseases, often with greater accuracy than human experts. This is especially valuable in early disease detection, potentially saving lives.\n",
    "Financial forecasting. Neural networks analyze vast amounts of financial data, from stock prices to global economic indicators, to forecast market movements and help investors make informed decisions."
   ]
  },
  {
   "cell_type": "raw",
   "id": "c0c6cbae-37ee-474f-b458-a7ce504a2152",
   "metadata": {},
   "source": [
    "Types of Neural Networks\n",
    "There are several different types of neural networks that are designed for specific tasks and applications, such as:\n",
    "\n",
    "Feedforward Neural Networks. The most straightforward type where information moves in only one direction.\n",
    "Recurrent Neural Networks (RNN). They have loops to allow information persistence.\n",
    "Convolutional Neural Networks (CNN). Primarily used for image recognition tasks.\n",
    "Radial Basis Function Neural Networks. Used for function approximation problems."
   ]
  },
  {
   "cell_type": "raw",
   "id": "8f690f30-9877-4265-9995-96a93a33be9f",
   "metadata": {},
   "source": [
    ". The popular deep learning models are ResNet50 for image classification and BERT (language model)) for text classification.\n",
    " LSTM and RNN are popular deep learning regression models."
   ]
  },
  {
   "cell_type": "raw",
   "id": "e315f40f-6bb4-43a9-aa12-7dffcd5e6937",
   "metadata": {},
   "source": [
    "There are several types of activation functions:\n",
    "\n",
    "Tanh\n",
    "ReLU\n",
    "Sigmoid\n",
    "Linear\n",
    "Softmax\n",
    "Swish\n"
   ]
  }
 ],
 "metadata": {
  "kernelspec": {
   "display_name": "Python 3 (ipykernel)",
   "language": "python",
   "name": "python3"
  },
  "language_info": {
   "codemirror_mode": {
    "name": "ipython",
    "version": 3
   },
   "file_extension": ".py",
   "mimetype": "text/x-python",
   "name": "python",
   "nbconvert_exporter": "python",
   "pygments_lexer": "ipython3",
   "version": "3.12.3"
  }
 },
 "nbformat": 4,
 "nbformat_minor": 5
}
